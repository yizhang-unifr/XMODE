{
    "cells": [
        {
            "cell_type": "code",
            "execution_count": 2,
            "metadata": {},
            "outputs": [],
            "source": [
                "import os\n",
                "import sys\n",
                "\n",
                "sys.path.append(os.path.dirname(os.getcwd()) + '/tools')\n",
                "from vqa_m3ae import post_vqa_m3ae"
            ]
        },
        {
            "cell_type": "code",
            "execution_count": 3,
            "metadata": {},
            "outputs": [
                {
                    "name": "stdout",
                    "output_type": "stream",
                    "text": [
                        "/home/ubuntu/workspace/XMODE-LLMCompiler/files\n"
                    ]
                }
            ],
            "source": [
                "question = \"enumerate all detected abnormalities\"\n",
                "image_id = '1b0b0385-a72d064d-be1f11ed-a39331d1-dde8f464'\n",
                "res = post_vqa_m3ae(question, image_id)"
            ]
        },
        {
            "cell_type": "code",
            "execution_count": 4,
            "metadata": {},
            "outputs": [
                {
                    "data": {
                        "text/plain": [
                            "['breast/nipple shadows',\n",
                            " 'calcified nodule',\n",
                            " 'clavicle fracture',\n",
                            " 'increased reticular markings/ild pattern',\n",
                            " 'low lung volumes',\n",
                            " 'lung cancer',\n",
                            " 'picc',\n",
                            " 'prosthetic valve',\n",
                            " 'right costophrenic angle']"
                        ]
                    },
                    "execution_count": 4,
                    "metadata": {},
                    "output_type": "execute_result"
                }
            ],
            "source": [
                "res['vqa_answers']"
            ]
        }
    ],
    "metadata": {
        "kernelspec": {
            "display_name": "xmode",
            "language": "python",
            "name": "python3"
        },
        "language_info": {
            "codemirror_mode": {
                "name": "ipython",
                "version": 3
            },
            "file_extension": ".py",
            "mimetype": "text/x-python",
            "name": "python",
            "nbconvert_exporter": "python",
            "pygments_lexer": "ipython3",
            "version": "3.10.4"
        }
    },
    "nbformat": 4,
    "nbformat_minor": 2
}
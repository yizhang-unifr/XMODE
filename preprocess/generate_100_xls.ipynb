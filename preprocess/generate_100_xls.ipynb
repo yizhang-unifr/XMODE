{
    "cells": [
        {
            "cell_type": "code",
            "execution_count": 1,
            "metadata": {},
            "outputs": [],
            "source": [
                "import pandas as pd\n",
                "from pathlib import Path\n",
                "import json\n",
                "root = Path.cwd().parent\n",
                "data_path =  root / \"dataset/mimic_iv_cxr/sampled_test_with_scope_preprocessed_balenced_answer_100.json\""
            ]
        },
        {
            "cell_type": "code",
            "execution_count": 5,
            "metadata": {},
            "outputs": [],
            "source": [
                "with open(data_path) as f:\n",
                "    data = json.load(f)\n",
                "df = pd.DataFrame(data)[[\"id\", \"db_id\",\"scope\",\"question\",\"query\", \"tables\", \"answer\"]].rename(columns={\"id\":\"question_id\", \"query\":\"neuralSQL\"})\n",
                "df.to_csv(root / \"dataset/mimic_iv_cxr/sampled_test_with_scope_preprocessed_balenced_answer_100.csv\", index=False)\n",
                "df.to_excel(root / \"dataset/mimic_iv_cxr/sampled_test_with_scope_preprocessed_balenced_answer_100.xlsx\", index=False)"
            ]
        },
        {
            "cell_type": "code",
            "execution_count": 3,
            "metadata": {},
            "outputs": [],
            "source": [
                "# find all tables in df[\"tables\"]\n",
                "tables = []\n",
                "for table in df[\"tables\"]:\n",
                "    for t in table:\n",
                "        if t not in tables:\n",
                "            tables.append(t)\n"
            ]
        },
        {
            "cell_type": "code",
            "execution_count": 4,
            "metadata": {},
            "outputs": [
                {
                    "data": {
                        "text/plain": [
                            "['tb_cxr',\n",
                            " 'admissions',\n",
                            " 'diagnoses_icd',\n",
                            " 'd_icd_diagnoses',\n",
                            " 'procedures_icd',\n",
                            " 'd_icd_procedures',\n",
                            " 'prescriptions']"
                        ]
                    },
                    "execution_count": 4,
                    "metadata": {},
                    "output_type": "execute_result"
                }
            ],
            "source": [
                "tables"
            ]
        }
    ],
    "metadata": {
        "kernelspec": {
            "display_name": "xmode",
            "language": "python",
            "name": "python3"
        },
        "language_info": {
            "codemirror_mode": {
                "name": "ipython",
                "version": 3
            },
            "file_extension": ".py",
            "mimetype": "text/x-python",
            "name": "python",
            "nbconvert_exporter": "python",
            "pygments_lexer": "ipython3",
            "version": "3.10.8"
        }
    },
    "nbformat": 4,
    "nbformat_minor": 2
}
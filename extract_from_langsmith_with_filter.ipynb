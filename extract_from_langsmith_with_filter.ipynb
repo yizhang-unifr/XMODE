{
    "cells": [
        {
            "cell_type": "code",
            "execution_count": 2,
            "metadata": {},
            "outputs": [],
            "source": [
                "from langsmith import Client\n",
                "import os\n",
                "client = Client()\n",
                "project_name=\"\"\n",
                "def _set_if_undefined(var: str):\n",
                "    if not os.environ.get(var):\n",
                "        os.environ[var] = getpass.getpass(f\"Please provide your {var}\")\n",
                "_set_if_undefined(\"OPENAI_API_KEY\")\n",
                "_set_if_undefined(\"LANGCHAIN_API_KEY\")\n",
                "_set_if_undefined(\"LANGCHAIN_API_YI_KEY\")\n",
                "os.environ[\"LANGCHAIN_API_KEY\"] = os.environ[\"LANGCHAIN_API_YI_KEY\"]\n",
                "\n",
                "os.environ[\"LANGCHAIN_TRACING_V2\"] = \"true\"\n",
                "os.environ[\"LANGCHAIN_PROJECT\"] = \"xmode-vqa-gpt_4o-english-100-with-intent\"\n",
                "project_name=os.environ[\"LANGCHAIN_PROJECT\"]\n",
                "project_runs = list(client.list_runs(project_name=project_name, is_root=True))"
            ]
        },
        {
            "cell_type": "code",
            "execution_count": 3,
            "metadata": {},
            "outputs": [],
            "source": [
                "# Filter out only successful runs\n",
                "success_project_runs = [run for run in project_runs if run.status == \"success\"]"
            ]
        },
        {
            "cell_type": "code",
            "execution_count": 4,
            "metadata": {},
            "outputs": [],
            "source": [
                "run_id = success_project_runs[0].id"
            ]
        },
        {
            "cell_type": "code",
            "execution_count": 5,
            "metadata": {},
            "outputs": [
                {
                    "data": {
                        "text/plain": [
                            "dict_keys(['id', 'name', 'start_time', 'run_type', 'end_time', 'extra', 'error', 'serialized', 'events', 'inputs', 'outputs', 'reference_example_id', 'parent_run_id', 'tags', 'session_id', 'child_run_ids', 'child_runs', 'feedback_stats', 'app_path', 'manifest_id', 'status', 'prompt_tokens', 'completion_tokens', 'total_tokens', 'first_token_time', 'total_cost', 'prompt_cost', 'completion_cost', 'parent_run_ids', 'trace_id', 'dotted_order', 'in_dataset'])"
                        ]
                    },
                    "execution_count": 5,
                    "metadata": {},
                    "output_type": "execute_result"
                }
            ],
            "source": [
                "success_project_runs[0].__dict__.keys()"
            ]
        },
        {
            "cell_type": "code",
            "execution_count": null,
            "metadata": {},
            "outputs": [
                {
                    "data": {
                        "text/plain": [
                            "'\\nfilter_str = \\'and(neq(name, \"ChatPromptTemplate\"), neq(name, \"__start__\"), neq(name, \"RunnableBranch\"), neq(name, \"ChannelWrite<join,__root__>\"), neq(name, \"ChannelWrite<plan_and_schedule,__root__>\"))\\'\\nfiltered_child_runs = get_all_child_runs(root_run, filter_str)\\n'"
                        ]
                    },
                    "execution_count": 6,
                    "metadata": {},
                    "output_type": "execute_result"
                }
            ],
            "source": [
                "from decimal import Decimal\n",
                "from uuid import UUID\n",
                "from datetime import datetime\n",
                "from tqdm import tqdm as tqdm\n",
                "from time import sleep\n",
                "import json\n",
                "import re\n",
                "\n",
                "def handle_value(value):\n",
                "    if isinstance(value, UUID):\n",
                "        return str(value)\n",
                "    if isinstance(value, Decimal):\n",
                "        return float(value)\n",
                "    if isinstance(value, datetime):\n",
                "        return value.isoformat()\n",
                "    if isinstance(value, dict):\n",
                "        return {key: handle_value(val) for key, val in value.items()}\n",
                "    if isinstance(value, list):\n",
                "        return [handle_value(val) for val in value]\n",
                "    return value\n",
                "\n",
                "def _extract_run(run):\n",
                "    keys = run.__dict__.keys()\n",
                "    temp =  {key: handle_value(run.__dict__[key]) for key in keys}\n",
                "    if temp['child_runs'] is None:\n",
                "        temp['child_runs'] = []\n",
                "    return temp\n",
                "\n",
                "def get_all_child_runs(root_run, filter_str = None):\n",
                "    if not isinstance(root_run, dict):\n",
                "        root_run = _extract_run(root_run)\n",
                "    child_runs = list(client.list_runs(project_name=project_name, run_ids = root_run['child_run_ids'], filter=filter_str, is_root=False))\n",
                "    child_runs = list(map(_extract_run, child_runs))\n",
                "    return child_runs\n",
                "        \n",
                "\"\"\"\n",
                "filter_str = 'and(neq(name, \"ChatPromptTemplate\"), neq(name, \"__start__\"), neq(name, \"RunnableBranch\"), neq(name, \"ChannelWrite<join,__root__>\"), neq(name, \"ChannelWrite<plan_and_schedule,__root__>\"))'\n",
                "filtered_child_runs = get_all_child_runs(root_run, filter_str)\n",
                "\"\"\"\n",
                "    "
            ]
        },
        {
            "cell_type": "code",
            "execution_count": null,
            "metadata": {},
            "outputs": [
                {
                    "name": "stderr",
                    "output_type": "stream",
                    "text": [
                        "100%|██████████| 100/100 [03:05<00:00,  1.85s/it]\n"
                    ]
                }
            ],
            "source": [
                "def child2parent_dict(root_run, child_runs):\n",
                "    if not isinstance(root_run, dict):\n",
                "        root_run = _extract_run(root_run)\n",
                "    parent_ids = {root_run['id']: None}\n",
                "    for child_run in child_runs:\n",
                "        parent_id = child_run['parent_run_id']\n",
                "        parent_ids[child_run['id']] = parent_id\n",
                "    return parent_ids\n",
                "\n",
                "def get_paths(parent_ids):\n",
                "    res = {}\n",
                "    for child_id in parent_ids:\n",
                "        path = []\n",
                "        current_id = child_id\n",
                "        while current_id is not None:\n",
                "            path.append(current_id)\n",
                "            current_id = parent_ids[current_id]\n",
                "        path.reverse()\n",
                "        res[child_id] = path[:-1]\n",
                "    return res\n",
                "\n",
                "def extract_child_runs_by_paths(root_run):\n",
                "    root_run = _extract_run(root_run)\n",
                "    all_child_runs = get_all_child_runs(root_run)\n",
                "    parent_ids = child2parent_dict(root_run, all_child_runs)\n",
                "    all_runs = [root_run] + all_child_runs\n",
                "    for run in all_runs:\n",
                "        if parent_ids[run['id']] is not None:\n",
                "            parent_run = list(filter(lambda x: x['id'] == parent_ids[run['id']], all_runs))[0]\n",
                "            parent_run['child_runs'].append(run)\n",
                "    parent_run['child_runs'] = sorted(parent_run['child_runs'], key=lambda x: datetime.strptime(x['start_time'], \"%Y-%m-%dT%H:%M:%S.%f\"))\n",
                "    return root_run\n",
                "\n",
                "def extract_all_child_runs_by_paths(runs):\n",
                "    res = []\n",
                "    for run in tqdm(runs):\n",
                "        run = extract_child_runs_by_paths(run)\n",
                "        res.append(run)\n",
                "    return res\n",
                "\n",
                "res = extract_all_child_runs_by_paths(success_project_runs[::-1])\n"
            ]
        },
        {
            "cell_type": "code",
            "execution_count": 19,
            "metadata": {},
            "outputs": [],
            "source": [
                "# sort the child runs by start time recursively\n",
                "def sort_child_runs(run):\n",
                "    if 'child_runs' in run:\n",
                "        run['child_runs'] = sorted(run['child_runs'], key=lambda x: datetime.strptime(x['start_time'], \"%Y-%m-%dT%H:%M:%S.%f\"))\n",
                "        for child_run in run['child_runs']:\n",
                "            sort_child_runs(child_run)\n",
                "\n",
                "for run in res:\n",
                "    sort_child_runs(run)\n",
                "\n"
            ]
        },
        {
            "cell_type": "code",
            "execution_count": 20,
            "metadata": {},
            "outputs": [],
            "source": [
                "\n",
                "json_output_path = 'experiments/xmode/en/xmode-vqa-m3ae-star-100-en-gpt_4o-with-intent-langsmith-extract-details.json'\n",
                "\n",
                "with open(json_output_path, 'w') as f:\n",
                "    json.dump(res, f, indent=2)\n",
                "\n",
                "# save the item of results in a file folder\n",
                "from pathlib import Path\n",
                "(Path(json_output_path).parent / \"xmode-vqa-m3ae-star-100-en-gpt_4o-with-intent-langsmith-extract-details\").mkdir(parents=True, exist_ok=True)\n",
                "for i, item in enumerate(res):\n",
                "    with open(Path(json_output_path).parent / \"xmode-vqa-m3ae-star-100-en-gpt_4o-with-intent-langsmith-extract-details\" / f\"{i}.json\", 'w') as f:\n",
                "        json.dump(item, f, indent=2)"
            ]
        },
        {
            "cell_type": "code",
            "execution_count": 116,
            "metadata": {},
            "outputs": [
                {
                    "name": "stdout",
                    "output_type": "stream",
                    "text": [
                        "[]\n"
                    ]
                }
            ],
            "source": [
                "def check_chain_of_dict(parent_ids):\n",
                "    # all values should be appears in keys at least once\n",
                "    all_keys = set(parent_ids.keys())\n",
                "    all_values = set(parent_ids.values())\n",
                "    if all_values.issubset(all_keys):\n",
                "        return []\n",
                "    else: # find the missing values\n",
                "        missing_values = all_values - all_keys\n",
                "        return list(filter(lambda x: x is not None, list(missing_values)))\n",
                "\n",
                "# if missing values is found, we need to find the missing runs recursively\n",
                "def find_missing_runs(missing_parent_id, parent_ids):\n",
                "    run = list(client.list_runs(project_name=project_name, run_ids = [missing_parent_id]))[0]\n",
                "    run = _extract_run(run)\n",
                "    parent_id = run['parent_run_id']\n",
                "    # check if parent_id is already in parent_ids\n",
                "    if parent_id in parent_ids:\n",
                "        return parent_ids\n",
                "    else:\n",
                "        parent_ids[run['id']] = parent_id\n",
                "        return find_missing_runs(parent_id, parent_ids)\n",
                "\n",
                "missing_parent_ids =  check_chain_of_dict(parent_ids)\n",
                "print(missing_parent_ids)"
            ]
        }
    ],
    "metadata": {
        "kernelspec": {
            "display_name": "xmode",
            "language": "python",
            "name": "python3"
        },
        "language_info": {
            "codemirror_mode": {
                "name": "ipython",
                "version": 3
            },
            "file_extension": ".py",
            "mimetype": "text/x-python",
            "name": "python",
            "nbconvert_exporter": "python",
            "pygments_lexer": "ipython3",
            "version": "3.10.8"
        }
    },
    "nbformat": 4,
    "nbformat_minor": 2
}
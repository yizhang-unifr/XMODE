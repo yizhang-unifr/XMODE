{
    "cells": [
        {
            "cell_type": "code",
            "execution_count": 5,
            "metadata": {},
            "outputs": [],
            "source": [
                "import json\n",
                "import pandas as pd\n",
                "from pathlib import Path\n",
                "\n",
                "# load the test data\n",
                "root_path = Path.cwd()\n",
                "data_path = root_path / \"dataset\"\n",
                "train_file = data_path / \"mimic_iv_cxr\"/ \"train.json\"\n",
                "test_file = data_path / \"mimic_iv_cxr\"/ \"sampled_test_with_scope_preprocessed_balenced_answer_100.json\"\n",
                "\n",
                "train_df = pd.read_json(train_file)\n",
                "test_df = pd.read_json(test_file)"
            ]
        },
        {
            "cell_type": "code",
            "execution_count": 7,
            "metadata": {},
            "outputs": [
                {
                    "data": {
                        "text/plain": [
                            "((36174, 15), (100, 18))"
                        ]
                    },
                    "execution_count": 7,
                    "metadata": {},
                    "output_type": "execute_result"
                }
            ],
            "source": [
                "train_df.shape, test_df.shape"
            ]
        },
        {
            "cell_type": "code",
            "execution_count": 14,
            "metadata": {},
            "outputs": [
                {
                    "data": {
                        "text/html": [
                            "<div>\n",
                            "<style scoped>\n",
                            "    .dataframe tbody tr th:only-of-type {\n",
                            "        vertical-align: middle;\n",
                            "    }\n",
                            "\n",
                            "    .dataframe tbody tr th {\n",
                            "        vertical-align: top;\n",
                            "    }\n",
                            "\n",
                            "    .dataframe thead th {\n",
                            "        text-align: right;\n",
                            "    }\n",
                            "</style>\n",
                            "<table border=\"1\" class=\"dataframe\">\n",
                            "  <thead>\n",
                            "    <tr style=\"text-align: right;\">\n",
                            "      <th></th>\n",
                            "      <th>db_id</th>\n",
                            "      <th>split</th>\n",
                            "      <th>id</th>\n",
                            "      <th>question</th>\n",
                            "      <th>template</th>\n",
                            "      <th>query</th>\n",
                            "      <th>value</th>\n",
                            "      <th>q_tag</th>\n",
                            "      <th>t_tag</th>\n",
                            "      <th>o_tag</th>\n",
                            "      <th>v_tag</th>\n",
                            "      <th>tag</th>\n",
                            "      <th>para_type</th>\n",
                            "      <th>is_impossible</th>\n",
                            "      <th>answer</th>\n",
                            "      <th>scope</th>\n",
                            "      <th>tables</th>\n",
                            "      <th>num_required_images</th>\n",
                            "    </tr>\n",
                            "  </thead>\n",
                            "  <tbody>\n",
                            "    <tr>\n",
                            "      <th>0</th>\n",
                            "      <td>mimic_iv_cxr</td>\n",
                            "      <td>test</td>\n",
                            "      <td>5</td>\n",
                            "      <td>given the last study of patient 10284038 in 21...</td>\n",
                            "      <td>given the last study of patient 10284038 in 21...</td>\n",
                            "      <td>select func_vqa(\"is the cardiac silhouette's w...</td>\n",
                            "      <td>{'patient_id': 10284038}</td>\n",
                            "      <td>given the [time_filter_exact1] study of patien...</td>\n",
                            "      <td>[abs-year-in, , , exact-last, ]</td>\n",
                            "      <td>{}</td>\n",
                            "      <td>{'object': [], 'category': [], 'attribute': []}</td>\n",
                            "      <td>given the [time_filter_exact1:exact-last] stud...</td>\n",
                            "      <td>machine</td>\n",
                            "      <td>False</td>\n",
                            "      <td>[0]</td>\n",
                            "      <td>IMAGE-SINGLE-1</td>\n",
                            "      <td>[tb_cxr]</td>\n",
                            "      <td>1</td>\n",
                            "    </tr>\n",
                            "    <tr>\n",
                            "      <th>1</th>\n",
                            "      <td>mimic_iv_cxr</td>\n",
                            "      <td>test</td>\n",
                            "      <td>21</td>\n",
                            "      <td>given the last study of patient 19243401 this ...</td>\n",
                            "      <td>given the last study of patient 19243401 this ...</td>\n",
                            "      <td>select (func_vqa(\"can you confirm the presence...</td>\n",
                            "      <td>{'patient_id': 19243401}</td>\n",
                            "      <td>given the [time_filter_exact1] study of patien...</td>\n",
                            "      <td>[rel-year-this, , , exact-last, ]</td>\n",
                            "      <td>{}</td>\n",
                            "      <td>{'object': [], 'category': ['anatomicalfinding...</td>\n",
                            "      <td>given the [time_filter_exact1:exact-last] stud...</td>\n",
                            "      <td>machine</td>\n",
                            "      <td>False</td>\n",
                            "      <td>[1]</td>\n",
                            "      <td>IMAGE-SINGLE-1</td>\n",
                            "      <td>[tb_cxr]</td>\n",
                            "      <td>1</td>\n",
                            "    </tr>\n",
                            "    <tr>\n",
                            "      <th>2</th>\n",
                            "      <td>mimic_iv_cxr</td>\n",
                            "      <td>test</td>\n",
                            "      <td>49</td>\n",
                            "      <td>given the last study of patient 15491652 in 06...</td>\n",
                            "      <td>given the last study of patient 15491652 in 06...</td>\n",
                            "      <td>select (func_vqa(\"can you identify any abnorma...</td>\n",
                            "      <td>{'patient_id': 15491652}</td>\n",
                            "      <td>given the [time_filter_exact1] study of patien...</td>\n",
                            "      <td>[abs-month-in, , , exact-last, ]</td>\n",
                            "      <td>{}</td>\n",
                            "      <td>{'object': ['abdomen', 'right chest wall'], 'c...</td>\n",
                            "      <td>given the [time_filter_exact1:exact-last] stud...</td>\n",
                            "      <td>machine</td>\n",
                            "      <td>False</td>\n",
                            "      <td>[1]</td>\n",
                            "      <td>IMAGE-SINGLE-1</td>\n",
                            "      <td>[tb_cxr]</td>\n",
                            "      <td>1</td>\n",
                            "    </tr>\n",
                            "    <tr>\n",
                            "      <th>3</th>\n",
                            "      <td>mimic_iv_cxr</td>\n",
                            "      <td>test</td>\n",
                            "      <td>66</td>\n",
                            "      <td>have any tubes/lines related to both the abdom...</td>\n",
                            "      <td>given the first study of patient 19243401 on 1...</td>\n",
                            "      <td>select (func_vqa(\"have any tubes/lines related...</td>\n",
                            "      <td>{'patient_id': 19243401}</td>\n",
                            "      <td>given the [time_filter_exact1] study of patien...</td>\n",
                            "      <td>[mix-month-this_year, , , exact-first, ]</td>\n",
                            "      <td>{}</td>\n",
                            "      <td>{'object': ['abdomen', 'right lung'], 'categor...</td>\n",
                            "      <td>given the [time_filter_exact1:exact-first] stu...</td>\n",
                            "      <td>machine</td>\n",
                            "      <td>False</td>\n",
                            "      <td>[0]</td>\n",
                            "      <td>IMAGE-SINGLE-1</td>\n",
                            "      <td>[tb_cxr]</td>\n",
                            "      <td>1</td>\n",
                            "    </tr>\n",
                            "    <tr>\n",
                            "      <th>4</th>\n",
                            "      <td>mimic_iv_cxr</td>\n",
                            "      <td>test</td>\n",
                            "      <td>71</td>\n",
                            "      <td>given the study 55277734, can you find either ...</td>\n",
                            "      <td>given the study 55277734, is there either airs...</td>\n",
                            "      <td>select (func_vqa(\"can you find airspace opacit...</td>\n",
                            "      <td>{'study_id': 55277734}</td>\n",
                            "      <td>given the study {study_id}, is there either ${...</td>\n",
                            "      <td>[, , , , ]</td>\n",
                            "      <td>{}</td>\n",
                            "      <td>{'object': [], 'category': [], 'attribute': ['...</td>\n",
                            "      <td>given the study {study_id}, is there either ai...</td>\n",
                            "      <td>machine</td>\n",
                            "      <td>False</td>\n",
                            "      <td>[0]</td>\n",
                            "      <td>IMAGE-SINGLE-1</td>\n",
                            "      <td>[tb_cxr]</td>\n",
                            "      <td>1</td>\n",
                            "    </tr>\n",
                            "  </tbody>\n",
                            "</table>\n",
                            "</div>"
                        ],
                        "text/plain": [
                            "          db_id split  id                                           question  \\\n",
                            "0  mimic_iv_cxr  test   5  given the last study of patient 10284038 in 21...   \n",
                            "1  mimic_iv_cxr  test  21  given the last study of patient 19243401 this ...   \n",
                            "2  mimic_iv_cxr  test  49  given the last study of patient 15491652 in 06...   \n",
                            "3  mimic_iv_cxr  test  66  have any tubes/lines related to both the abdom...   \n",
                            "4  mimic_iv_cxr  test  71  given the study 55277734, can you find either ...   \n",
                            "\n",
                            "                                            template  \\\n",
                            "0  given the last study of patient 10284038 in 21...   \n",
                            "1  given the last study of patient 19243401 this ...   \n",
                            "2  given the last study of patient 15491652 in 06...   \n",
                            "3  given the first study of patient 19243401 on 1...   \n",
                            "4  given the study 55277734, is there either airs...   \n",
                            "\n",
                            "                                               query  \\\n",
                            "0  select func_vqa(\"is the cardiac silhouette's w...   \n",
                            "1  select (func_vqa(\"can you confirm the presence...   \n",
                            "2  select (func_vqa(\"can you identify any abnorma...   \n",
                            "3  select (func_vqa(\"have any tubes/lines related...   \n",
                            "4  select (func_vqa(\"can you find airspace opacit...   \n",
                            "\n",
                            "                      value  \\\n",
                            "0  {'patient_id': 10284038}   \n",
                            "1  {'patient_id': 19243401}   \n",
                            "2  {'patient_id': 15491652}   \n",
                            "3  {'patient_id': 19243401}   \n",
                            "4    {'study_id': 55277734}   \n",
                            "\n",
                            "                                               q_tag  \\\n",
                            "0  given the [time_filter_exact1] study of patien...   \n",
                            "1  given the [time_filter_exact1] study of patien...   \n",
                            "2  given the [time_filter_exact1] study of patien...   \n",
                            "3  given the [time_filter_exact1] study of patien...   \n",
                            "4  given the study {study_id}, is there either ${...   \n",
                            "\n",
                            "                                      t_tag o_tag  \\\n",
                            "0           [abs-year-in, , , exact-last, ]    {}   \n",
                            "1         [rel-year-this, , , exact-last, ]    {}   \n",
                            "2          [abs-month-in, , , exact-last, ]    {}   \n",
                            "3  [mix-month-this_year, , , exact-first, ]    {}   \n",
                            "4                                [, , , , ]    {}   \n",
                            "\n",
                            "                                               v_tag  \\\n",
                            "0    {'object': [], 'category': [], 'attribute': []}   \n",
                            "1  {'object': [], 'category': ['anatomicalfinding...   \n",
                            "2  {'object': ['abdomen', 'right chest wall'], 'c...   \n",
                            "3  {'object': ['abdomen', 'right lung'], 'categor...   \n",
                            "4  {'object': [], 'category': [], 'attribute': ['...   \n",
                            "\n",
                            "                                                 tag para_type  is_impossible  \\\n",
                            "0  given the [time_filter_exact1:exact-last] stud...   machine          False   \n",
                            "1  given the [time_filter_exact1:exact-last] stud...   machine          False   \n",
                            "2  given the [time_filter_exact1:exact-last] stud...   machine          False   \n",
                            "3  given the [time_filter_exact1:exact-first] stu...   machine          False   \n",
                            "4  given the study {study_id}, is there either ai...   machine          False   \n",
                            "\n",
                            "  answer           scope    tables  num_required_images  \n",
                            "0    [0]  IMAGE-SINGLE-1  [tb_cxr]                    1  \n",
                            "1    [1]  IMAGE-SINGLE-1  [tb_cxr]                    1  \n",
                            "2    [1]  IMAGE-SINGLE-1  [tb_cxr]                    1  \n",
                            "3    [0]  IMAGE-SINGLE-1  [tb_cxr]                    1  \n",
                            "4    [0]  IMAGE-SINGLE-1  [tb_cxr]                    1  "
                        ]
                    },
                    "execution_count": 14,
                    "metadata": {},
                    "output_type": "execute_result"
                }
            ],
            "source": [
                "test_df.head()"
            ]
        },
        {
            "cell_type": "code",
            "execution_count": null,
            "metadata": {},
            "outputs": [],
            "source": []
        },
        {
            "cell_type": "code",
            "execution_count": 30,
            "metadata": {},
            "outputs": [],
            "source": [
                "# get all categories in the test_df\n",
                "all_scopes = test_df[\"scope\"].unique().tolist()\n",
                "scope2templates = {scope: [] for scope in all_scopes}\n",
                "for _, row in test_df.iterrows():\n",
                "    if row[\"q_tag\"] not in scope2templates[row[\"scope\"]]:\n",
                "        scope2templates[row[\"scope\"]].append(row[\"q_tag\"])\n",
                "\n",
                "# revert keya and values\n",
                "template2scopes = {}\n",
                "for scope, templates in scope2templates.items():\n",
                "    for template in templates:\n",
                "        if template not in template2scopes:\n",
                "            template2scopes[template] = []\n",
                "        template2scopes[template].append(scope)\n",
                "assert len([v for v in template2scopes.values() if len(v) > 1]) == 0\n",
                "for k, v in template2scopes.items():\n",
                "    template2scopes[k] = v[0]"
            ]
        },
        {
            "cell_type": "code",
            "execution_count": 35,
            "metadata": {},
            "outputs": [
                {
                    "name": "stderr",
                    "output_type": "stream",
                    "text": [
                        "/tmp/ipykernel_224873/2884543092.py:5: SettingWithCopyWarning: \n",
                        "A value is trying to be set on a copy of a slice from a DataFrame.\n",
                        "Try using .loc[row_indexer,col_indexer] = value instead\n",
                        "\n",
                        "See the caveats in the documentation: https://pandas.pydata.org/pandas-docs/stable/user_guide/indexing.html#returning-a-view-versus-a-copy\n",
                        "  train_df_filtered[\"scope\"] = train_df_filtered[\"q_tag\"].apply(lambda x: template2scopes[x])\n"
                    ]
                }
            ],
            "source": [
                "# filter out the train_df if the row's q_tag is in the template2scopes\n",
                "train_df_filtered = train_df[train_df[\"q_tag\"].isin(template2scopes.keys())]\n",
                "train_df_filtered.shape\n",
                "# add q_tag to the train_df_filtered\n",
                "train_df_filtered[\"scope\"] = train_df_filtered[\"q_tag\"].apply(lambda x: template2scopes[x])"
            ]
        },
        {
            "cell_type": "code",
            "execution_count": 36,
            "metadata": {},
            "outputs": [
                {
                    "data": {
                        "text/plain": [
                            "(7224, 16)"
                        ]
                    },
                    "execution_count": 36,
                    "metadata": {},
                    "output_type": "execute_result"
                }
            ],
            "source": [
                "train_df_filtered.shape"
            ]
        },
        {
            "cell_type": "code",
            "execution_count": 40,
            "metadata": {},
            "outputs": [],
            "source": [
                "train_df_filtered.to_json(data_path / \"mimic_iv_cxr\" / \"train_filtered.json\", orient=\"records\", indent=2) "
            ]
        },
        {
            "cell_type": "code",
            "execution_count": 41,
            "metadata": {},
            "outputs": [
                {
                    "data": {
                        "text/plain": [
                            "{'given the [time_filter_exact1] study of patient {patient_id} [time_filter_global1], is the width of the cardiac silhouette wider than 1/2 of the thorax width?': 'IMAGE-SINGLE-1',\n",
                            " 'given the [time_filter_exact1] study of patient {patient_id} [time_filter_global1], are there any ${category_1} or ${category_2}?': 'IMAGE-SINGLE-1',\n",
                            " 'given the [time_filter_exact1] study of patient {patient_id} [time_filter_global1], are there any abnormality in either the ${object_1} or the ${object_2}?': 'IMAGE-SINGLE-1',\n",
                            " 'given the [time_filter_exact1] study of patient {patient_id} [time_filter_global1], are there any ${category} related to the ${object_1} and the ${object_2}?': 'IMAGE-SINGLE-1',\n",
                            " 'given the study {study_id}, is there either ${attribute_1} or ${attribute_2}?': 'IMAGE-SINGLE-1',\n",
                            " 'given the [time_filter_exact1] study of patient {patient_id} [time_filter_global1], list all anatomical locations related to any ${category}.': 'IMAGE-SINGLE-1',\n",
                            " 'given the study {study_id}, list all abnormality.': 'IMAGE-SINGLE-1',\n",
                            " 'given the study {study_id}, list all anatomical locations related to any ${category}.': 'IMAGE-SINGLE-1',\n",
                            " 'given the [time_filter_exact1] study of patient {patient_id} [time_filter_global1], which anatomical location is related to ${attribute}, the ${object_1} or the ${object_2}?': 'IMAGE-SINGLE-1',\n",
                            " 'given the study {study_id}, list all ${category}.': 'IMAGE-SINGLE-1',\n",
                            " 'given the [time_filter_exact1] study of patient {patient_id} [time_filter_global1], list all abnormality.': 'IMAGE-SINGLE-1',\n",
                            " 'given the [time_filter_exact1] study of patient {patient_id} [time_filter_global1], list all ${category}.': 'IMAGE-SINGLE-1',\n",
                            " 'given the study {study_id}, which anatomical location is abnormal, the ${object_1} or the ${object_2}?': 'IMAGE-SINGLE-1',\n",
                            " 'given the [time_filter_exact1] study of patient {patient_id} [time_filter_global1], list all abnormality in the ${object}.': 'IMAGE-SINGLE-1',\n",
                            " 'given the [time_filter_exact1] study of patient {patient_id} [time_filter_global1], which anatomical location is abnormal, the ${object_1} or the ${object_2}?': 'IMAGE-SINGLE-1',\n",
                            " 'given the {study_id1} study, is ${attribute} ${comparison} compared to the {study_id2} study?': 'IMAGE-SINGLE-2',\n",
                            " 'given the {study_id1} study, are there any abnormality that are ${comparison} compared to the previous study?': 'IMAGE-SINGLE-2',\n",
                            " 'given the [time_filter_exact1] study of patient {patient_id} [time_filter_global1], are there any ${category} that are ${comparison} compared to the previous study?': 'IMAGE-SINGLE-2',\n",
                            " 'given the [time_filter_exact1] study of patient {patient_id} [time_filter_global1], are there any abnormality that are ${comparison} in the ${object} compared to the previous study?': 'IMAGE-SINGLE-2',\n",
                            " 'given the {study_id1} study, list all ${category} that are ${comparison} compared to the {study_id2} study?': 'IMAGE-SINGLE-2',\n",
                            " 'given the [time_filter_exact1] study of patient {patient_id} [time_filter_global1], is ${attribute} ${comparison} in the ${object} compared to the [time_filter_exact2] study of patient {patient_id} [time_filter_global2]?': 'IMAGE-SINGLE-2',\n",
                            " 'given the [time_filter_exact1] study of patient {patient_id} [time_filter_global1], list all anatomical locations related to ${attribute} that are ${comparison} compared to the previous study?': 'IMAGE-SINGLE-2',\n",
                            " 'given the {study_id1} study, list all anatomical locations related to ${attribute} that are ${comparison} compared to the previous study?': 'IMAGE-SINGLE-2',\n",
                            " 'given the [time_filter_exact1] study of patient {patient_id} [time_filter_global1], list all abnormality that are ${comparison} compared to the [time_filter_exact2] study of patient {patient_id} [time_filter_global2]?': 'IMAGE-SINGLE-2',\n",
                            " 'given the {study_id1} study, list all anatomical locations related to any ${category} that are ${comparison} compared to the {study_id2} study?': 'IMAGE-SINGLE-2',\n",
                            " 'given the [time_filter_exact1] study of patient {patient_id} [time_filter_global1], list all anatomical locations related to any ${category} that are ${comparison} compared to the previous study?': 'IMAGE-SINGLE-2',\n",
                            " 'given the [time_filter_exact1] study of patient {patient_id} [time_filter_global1], list all anatomical locations related to any ${category} that are ${comparison} compared to the [time_filter_exact2] study of patient {patient_id} [time_filter_global2]?': 'IMAGE-SINGLE-2',\n",
                            " 'given the {study_id1} study, list all abnormality that are ${comparison} compared to the {study_id2} study?': 'IMAGE-SINGLE-2',\n",
                            " 'given the [time_filter_exact1] study of patient {patient_id} [time_filter_global1], are there any ${category} that are ${comparison} in the ${object} compared to the previous study?': 'IMAGE-SINGLE-2',\n",
                            " 'given the [time_filter_exact1] study of patient {patient_id} [time_filter_global1], list all abnormality that are ${comparison} compared to the previous study?': 'IMAGE-SINGLE-2',\n",
                            " 'given the [time_filter_exact1] study of patient {patient_id} [time_filter_global1], list all ${category} that are ${comparison} in the ${object} compared to the previous study?': 'IMAGE-SINGLE-2',\n",
                            " 'has_verb patient {patient_id} been diagnosed with {diagnosis_name} [time_filter_global1] and also had a chest x-ray study indicating any ${category} in the ${object} within the same period?': 'MULTIMODAL-SINGLE',\n",
                            " 'has_verb patient {patient_id} had a chest x-ray study indicating any abnormality in the ${object} [time_filter_within] after having been diagnosed with {diagnosis_name} [time_filter_global1]?': 'MULTIMODAL-SINGLE',\n",
                            " 'has_verb patient {patient_id} received any procedure [time_filter_global1] and also had a chest x-ray study indicating ${attribute} in the ${object} within the same period?': 'MULTIMODAL-SINGLE',\n",
                            " 'has_verb patient {patient_id} been diagnosed with {diagnosis_name} [time_filter_within] after having had a chest x-ray study indicating any ${category} [time_filter_global1] ?': 'MULTIMODAL-SINGLE',\n",
                            " 'has_verb patient {patient_id} had a chest x-ray study indicating any ${category} [time_filter_within] after having been diagnosed with {diagnosis_name} [time_filter_global1]?': 'MULTIMODAL-SINGLE',\n",
                            " 'has_verb patient {patient_id} received a {procedure_name} procedure [time_filter_within] after having had a chest x-ray study indicating any abnormality in the ${object} [time_filter_global1] ?': 'MULTIMODAL-SINGLE',\n",
                            " 'has_verb patient {patient_id} received a {procedure_name} procedure [time_filter_global1] and also had a chest x-ray study indicating any ${category} in the ${object} within the same period?': 'MULTIMODAL-SINGLE',\n",
                            " 'has_verb patient {patient_id} been prescribed with {drug_name} [time_filter_global1] and also had a chest x-ray study indicating any ${category} in the ${object} within the same period?': 'MULTIMODAL-SINGLE',\n",
                            " 'has_verb patient {patient_id} received any diagnosis [time_filter_global1] and also had a chest x-ray study indicating any ${category} in the ${object} within the same period?': 'MULTIMODAL-SINGLE',\n",
                            " 'has_verb patient {patient_id} been diagnosed with {diagnosis_name} [time_filter_global1] and also had a chest x-ray study indicating any abnormality within the same period?': 'MULTIMODAL-SINGLE',\n",
                            " 'has_verb patient {patient_id} received a {procedure_name} procedure [time_filter_global1] and also had a chest x-ray study indicating any ${category} within the same period?': 'MULTIMODAL-SINGLE',\n",
                            " 'has_verb patient {patient_id} been prescribed with {drug_name} [time_filter_within] after having had a chest x-ray study indicating any ${category} in the ${object} [time_filter_global1] ?': 'MULTIMODAL-SINGLE',\n",
                            " 'has_verb patient {patient_id} been diagnosed with {diagnosis_name} [time_filter_global1] and also had a chest x-ray study indicating ${attribute} within the same period?': 'MULTIMODAL-SINGLE',\n",
                            " 'has_verb patient {patient_id} been diagnosed with {diagnosis_name} [time_filter_global1] and also had a chest x-ray study indicating any abnormality in the ${object} within the same period?': 'MULTIMODAL-SINGLE',\n",
                            " 'has_verb patient {patient_id} been prescribed with {drug_name} [time_filter_global1] and also had a chest x-ray study indicating any ${category} within the same period?': 'MULTIMODAL-SINGLE',\n",
                            " 'has_verb patient {patient_id} had a chest x-ray study indicating any ${category} [time_filter_within] after having received {procedure_name} procedure [time_filter_global1] ?': 'MULTIMODAL-SINGLE',\n",
                            " 'has_verb patient {patient_id} been diagnosed with {diagnosis_name} [time_filter_within] after having had a chest x-ray study indicating any abnormality in the ${object} [time_filter_global1] ?': 'MULTIMODAL-SINGLE',\n",
                            " 'has_verb patient {patient_id} received a {procedure_name} procedure [time_filter_within] after having had a chest x-ray study indicating any ${category} [time_filter_global1] ?': 'MULTIMODAL-SINGLE',\n",
                            " 'has_verb patient {patient_id} received a {procedure_name} procedure [time_filter_global1] and also had a chest x-ray study indicating ${attribute} within the same period?': 'MULTIMODAL-SINGLE',\n",
                            " 'has_verb patient {patient_id} been prescribed with {drug_name} [time_filter_within] after having had a chest x-ray study indicating ${attribute} [time_filter_global1] ?': 'MULTIMODAL-SINGLE',\n",
                            " 'has_verb patient {patient_id} received a {procedure_name} procedure [time_filter_global1] and also had a chest x-ray study indicating ${attribute} in the ${object} within the same period?': 'MULTIMODAL-SINGLE',\n",
                            " 'has_verb patient {patient_id} received a {procedure_name} procedure [time_filter_global1] and also had a chest x-ray study indicating any abnormality within the same period?': 'MULTIMODAL-SINGLE',\n",
                            " 'has_verb patient {patient_id} been diagnosed with {diagnosis_name} [time_filter_global1] and also had a chest x-ray study indicating any ${category} within the same period?': 'MULTIMODAL-SINGLE',\n",
                            " 'has_verb patient {patient_id} received a {procedure_name} procedure [time_filter_within] after having had a chest x-ray study indicating any abnormality [time_filter_global1] ?': 'MULTIMODAL-SINGLE',\n",
                            " 'has_verb patient {patient_id} been diagnosed with {diagnosis_name} [time_filter_global1] and also had a chest x-ray study indicating ${attribute} in the ${object} within the same period?': 'MULTIMODAL-SINGLE',\n",
                            " 'has_verb patient {patient_id} been prescribed with {drug_name} [time_filter_within] after having had a chest x-ray study indicating any ${category} [time_filter_global1] ?': 'MULTIMODAL-SINGLE',\n",
                            " 'has_verb patient {patient_id} been prescribed with {drug_name} [time_filter_within] after having had a chest x-ray study indicating any abnormality in the ${object} [time_filter_global1] ?': 'MULTIMODAL-SINGLE',\n",
                            " 'has_verb patient {patient_id} had a chest x-ray study indicating ${attribute} [time_filter_within] after having received {procedure_name} procedure [time_filter_global1] ?': 'MULTIMODAL-SINGLE',\n",
                            " 'has_verb patient {patient_id} received any procedure [time_filter_global1] and also had a chest x-ray study indicating ${attribute} within the same period?': 'MULTIMODAL-SINGLE',\n",
                            " 'has_verb patient {patient_id} been prescribed any medication [time_filter_global1] and also had a chest x-ray study indicating ${attribute} within the same period?': 'MULTIMODAL-SINGLE',\n",
                            " 'has_verb patient {patient_id} been prescribed with {drug_name} [time_filter_global1] and also had a chest x-ray study indicating any abnormality in the ${object} within the same period?': 'MULTIMODAL-SINGLE',\n",
                            " 'has_verb patient {patient_id} had a chest x-ray study indicating ${attribute} [time_filter_within] after having been diagnosed with {diagnosis_name} [time_filter_global1]?': 'MULTIMODAL-SINGLE'}"
                        ]
                    },
                    "execution_count": 41,
                    "metadata": {},
                    "output_type": "execute_result"
                }
            ],
            "source": [
                "template2scopes"
            ]
        },
        {
            "cell_type": "code",
            "execution_count": 80,
            "metadata": {},
            "outputs": [
                {
                    "name": "stderr",
                    "output_type": "stream",
                    "text": [
                        "/tmp/ipykernel_224873/1645432689.py:8: SettingWithCopyWarning: \n",
                        "A value is trying to be set on a copy of a slice from a DataFrame.\n",
                        "Try using .loc[row_indexer,col_indexer] = value instead\n",
                        "\n",
                        "See the caveats in the documentation: https://pandas.pydata.org/pandas-docs/stable/user_guide/indexing.html#returning-a-view-versus-a-copy\n",
                        "  train_df_filtered[\"keywords\"] = train_df_filtered[\"q_tag\"].apply(extract_keywords)\n"
                    ]
                }
            ],
            "source": [
                "# let's extract the keywords from the q_tag which are rounded by {} or []\n",
                "import re\n",
                "def extract_keywords(q_tag):\n",
                "    keywords = re.findall(r'\\{(.+?)\\}', q_tag)\n",
                "    keywords += re.findall(r'\\[(.+?)\\]', q_tag)\n",
                "    return sorted(list(set(keywords)))\n",
                "\n",
                "train_df_filtered[\"keywords\"] = train_df_filtered[\"q_tag\"].apply(extract_keywords)"
            ]
        },
        {
            "cell_type": "code",
            "execution_count": 50,
            "metadata": {},
            "outputs": [
                {
                    "data": {
                        "text/plain": [
                            "3        [category, diagnosis_name, patient_id, time_fi...\n",
                            "4        [category, diagnosis_name, object, patient_id,...\n",
                            "10       [patient_id, procedure_name, time_filter_global1]\n",
                            "25            [category, comparison, study_id1, study_id2]\n",
                            "28       [category, object, patient_id, procedure_name,...\n",
                            "                               ...                        \n",
                            "36134    [diagnosis_name, object, patient_id, time_filt...\n",
                            "36147    [category, patient_id, time_filter_exact1, tim...\n",
                            "36148    [patient_id, procedure_name, time_filter_globa...\n",
                            "36152    [diagnosis_name, object, patient_id, time_filt...\n",
                            "36171    [category, comparison, patient_id, time_filter...\n",
                            "Name: keywords, Length: 7224, dtype: object"
                        ]
                    },
                    "execution_count": 50,
                    "metadata": {},
                    "output_type": "execute_result"
                }
            ],
            "source": [
                "train_df_filtered[\"keywords\"]"
            ]
        },
        {
            "cell_type": "code",
            "execution_count": 61,
            "metadata": {},
            "outputs": [],
            "source": [
                "scope2keywords = {scope: [] for scope in all_scopes}\n",
                "for k, v in scope2templates.items():\n",
                "    for q_tag in v:\n",
                "        keyword = extract_keywords(q_tag)\n",
                "        if keyword not in scope2keywords[k]:\n",
                "            scope2keywords[k].append(keyword)"
            ]
        },
        {
            "cell_type": "code",
            "execution_count": 62,
            "metadata": {},
            "outputs": [
                {
                    "data": {
                        "text/plain": [
                            "{'IMAGE-SINGLE-1': [['patient_id',\n",
                            "   'time_filter_exact1',\n",
                            "   'time_filter_global1'],\n",
                            "  ['category_1',\n",
                            "   'category_2',\n",
                            "   'patient_id',\n",
                            "   'time_filter_exact1',\n",
                            "   'time_filter_global1'],\n",
                            "  ['object_1',\n",
                            "   'object_2',\n",
                            "   'patient_id',\n",
                            "   'time_filter_exact1',\n",
                            "   'time_filter_global1'],\n",
                            "  ['category',\n",
                            "   'object_1',\n",
                            "   'object_2',\n",
                            "   'patient_id',\n",
                            "   'time_filter_exact1',\n",
                            "   'time_filter_global1'],\n",
                            "  ['attribute_1', 'attribute_2', 'study_id'],\n",
                            "  ['category', 'patient_id', 'time_filter_exact1', 'time_filter_global1'],\n",
                            "  ['study_id'],\n",
                            "  ['category', 'study_id'],\n",
                            "  ['attribute',\n",
                            "   'object_1',\n",
                            "   'object_2',\n",
                            "   'patient_id',\n",
                            "   'time_filter_exact1',\n",
                            "   'time_filter_global1'],\n",
                            "  ['object_1', 'object_2', 'study_id'],\n",
                            "  ['object', 'patient_id', 'time_filter_exact1', 'time_filter_global1']],\n",
                            " 'IMAGE-SINGLE-2': [['attribute', 'comparison', 'study_id1', 'study_id2'],\n",
                            "  ['comparison', 'study_id1'],\n",
                            "  ['category',\n",
                            "   'comparison',\n",
                            "   'patient_id',\n",
                            "   'time_filter_exact1',\n",
                            "   'time_filter_global1'],\n",
                            "  ['comparison',\n",
                            "   'object',\n",
                            "   'patient_id',\n",
                            "   'time_filter_exact1',\n",
                            "   'time_filter_global1'],\n",
                            "  ['category', 'comparison', 'study_id1', 'study_id2'],\n",
                            "  ['attribute',\n",
                            "   'comparison',\n",
                            "   'object',\n",
                            "   'patient_id',\n",
                            "   'time_filter_exact1',\n",
                            "   'time_filter_exact2',\n",
                            "   'time_filter_global1',\n",
                            "   'time_filter_global2'],\n",
                            "  ['attribute',\n",
                            "   'comparison',\n",
                            "   'patient_id',\n",
                            "   'time_filter_exact1',\n",
                            "   'time_filter_global1'],\n",
                            "  ['attribute', 'comparison', 'study_id1'],\n",
                            "  ['comparison',\n",
                            "   'patient_id',\n",
                            "   'time_filter_exact1',\n",
                            "   'time_filter_exact2',\n",
                            "   'time_filter_global1',\n",
                            "   'time_filter_global2'],\n",
                            "  ['category',\n",
                            "   'comparison',\n",
                            "   'patient_id',\n",
                            "   'time_filter_exact1',\n",
                            "   'time_filter_exact2',\n",
                            "   'time_filter_global1',\n",
                            "   'time_filter_global2'],\n",
                            "  ['comparison', 'study_id1', 'study_id2'],\n",
                            "  ['category',\n",
                            "   'comparison',\n",
                            "   'object',\n",
                            "   'patient_id',\n",
                            "   'time_filter_exact1',\n",
                            "   'time_filter_global1'],\n",
                            "  ['comparison', 'patient_id', 'time_filter_exact1', 'time_filter_global1']],\n",
                            " 'MULTIMODAL-SINGLE': [['category',\n",
                            "   'diagnosis_name',\n",
                            "   'object',\n",
                            "   'patient_id',\n",
                            "   'time_filter_global1'],\n",
                            "  ['diagnosis_name',\n",
                            "   'object',\n",
                            "   'patient_id',\n",
                            "   'time_filter_global1',\n",
                            "   'time_filter_within'],\n",
                            "  ['attribute', 'object', 'patient_id', 'time_filter_global1'],\n",
                            "  ['category',\n",
                            "   'diagnosis_name',\n",
                            "   'patient_id',\n",
                            "   'time_filter_global1',\n",
                            "   'time_filter_within'],\n",
                            "  ['object',\n",
                            "   'patient_id',\n",
                            "   'procedure_name',\n",
                            "   'time_filter_global1',\n",
                            "   'time_filter_within'],\n",
                            "  ['category',\n",
                            "   'object',\n",
                            "   'patient_id',\n",
                            "   'procedure_name',\n",
                            "   'time_filter_global1'],\n",
                            "  ['category', 'drug_name', 'object', 'patient_id', 'time_filter_global1'],\n",
                            "  ['category', 'object', 'patient_id', 'time_filter_global1'],\n",
                            "  ['diagnosis_name', 'patient_id', 'time_filter_global1'],\n",
                            "  ['category', 'patient_id', 'procedure_name', 'time_filter_global1'],\n",
                            "  ['category',\n",
                            "   'drug_name',\n",
                            "   'object',\n",
                            "   'patient_id',\n",
                            "   'time_filter_global1',\n",
                            "   'time_filter_within'],\n",
                            "  ['attribute', 'diagnosis_name', 'patient_id', 'time_filter_global1'],\n",
                            "  ['diagnosis_name', 'object', 'patient_id', 'time_filter_global1'],\n",
                            "  ['category', 'drug_name', 'patient_id', 'time_filter_global1'],\n",
                            "  ['category',\n",
                            "   'patient_id',\n",
                            "   'procedure_name',\n",
                            "   'time_filter_global1',\n",
                            "   'time_filter_within'],\n",
                            "  ['attribute', 'patient_id', 'procedure_name', 'time_filter_global1'],\n",
                            "  ['attribute',\n",
                            "   'drug_name',\n",
                            "   'patient_id',\n",
                            "   'time_filter_global1',\n",
                            "   'time_filter_within'],\n",
                            "  ['attribute',\n",
                            "   'object',\n",
                            "   'patient_id',\n",
                            "   'procedure_name',\n",
                            "   'time_filter_global1'],\n",
                            "  ['patient_id', 'procedure_name', 'time_filter_global1'],\n",
                            "  ['category', 'diagnosis_name', 'patient_id', 'time_filter_global1'],\n",
                            "  ['patient_id',\n",
                            "   'procedure_name',\n",
                            "   'time_filter_global1',\n",
                            "   'time_filter_within'],\n",
                            "  ['attribute',\n",
                            "   'diagnosis_name',\n",
                            "   'object',\n",
                            "   'patient_id',\n",
                            "   'time_filter_global1'],\n",
                            "  ['category',\n",
                            "   'drug_name',\n",
                            "   'patient_id',\n",
                            "   'time_filter_global1',\n",
                            "   'time_filter_within'],\n",
                            "  ['drug_name',\n",
                            "   'object',\n",
                            "   'patient_id',\n",
                            "   'time_filter_global1',\n",
                            "   'time_filter_within'],\n",
                            "  ['attribute',\n",
                            "   'patient_id',\n",
                            "   'procedure_name',\n",
                            "   'time_filter_global1',\n",
                            "   'time_filter_within'],\n",
                            "  ['attribute', 'patient_id', 'time_filter_global1'],\n",
                            "  ['drug_name', 'object', 'patient_id', 'time_filter_global1'],\n",
                            "  ['attribute',\n",
                            "   'diagnosis_name',\n",
                            "   'patient_id',\n",
                            "   'time_filter_global1',\n",
                            "   'time_filter_within']]}"
                        ]
                    },
                    "execution_count": 62,
                    "metadata": {},
                    "output_type": "execute_result"
                }
            ],
            "source": [
                "scope2keywords"
            ]
        },
        {
            "cell_type": "code",
            "execution_count": 77,
            "metadata": {},
            "outputs": [],
            "source": [
                "# find 3 longest keywords in each scope\n",
                "scope2typic_keywords = {scope: [] for scope in all_scopes}\n",
                "for scope, keywords in scope2keywords.items():\n",
                "    keywords = sorted(keywords, key=lambda x: len(x), reverse=True)\n",
                "    scope2typic_keywords[scope] = keywords[-3:-1]+keywords[:3]\n"
            ]
        },
        {
            "cell_type": "code",
            "execution_count": 78,
            "metadata": {},
            "outputs": [
                {
                    "data": {
                        "text/plain": [
                            "{'IMAGE-SINGLE-1': [['object_1', 'object_2', 'study_id'],\n",
                            "  ['category', 'study_id'],\n",
                            "  ['category',\n",
                            "   'object_1',\n",
                            "   'object_2',\n",
                            "   'patient_id',\n",
                            "   'time_filter_exact1',\n",
                            "   'time_filter_global1'],\n",
                            "  ['attribute',\n",
                            "   'object_1',\n",
                            "   'object_2',\n",
                            "   'patient_id',\n",
                            "   'time_filter_exact1',\n",
                            "   'time_filter_global1'],\n",
                            "  ['category_1',\n",
                            "   'category_2',\n",
                            "   'patient_id',\n",
                            "   'time_filter_exact1',\n",
                            "   'time_filter_global1']],\n",
                            " 'IMAGE-SINGLE-2': [['attribute', 'comparison', 'study_id1'],\n",
                            "  ['comparison', 'study_id1', 'study_id2'],\n",
                            "  ['attribute',\n",
                            "   'comparison',\n",
                            "   'object',\n",
                            "   'patient_id',\n",
                            "   'time_filter_exact1',\n",
                            "   'time_filter_exact2',\n",
                            "   'time_filter_global1',\n",
                            "   'time_filter_global2'],\n",
                            "  ['category',\n",
                            "   'comparison',\n",
                            "   'patient_id',\n",
                            "   'time_filter_exact1',\n",
                            "   'time_filter_exact2',\n",
                            "   'time_filter_global1',\n",
                            "   'time_filter_global2'],\n",
                            "  ['comparison',\n",
                            "   'patient_id',\n",
                            "   'time_filter_exact1',\n",
                            "   'time_filter_exact2',\n",
                            "   'time_filter_global1',\n",
                            "   'time_filter_global2']],\n",
                            " 'MULTIMODAL-SINGLE': [['diagnosis_name', 'patient_id', 'time_filter_global1'],\n",
                            "  ['patient_id', 'procedure_name', 'time_filter_global1'],\n",
                            "  ['category',\n",
                            "   'drug_name',\n",
                            "   'object',\n",
                            "   'patient_id',\n",
                            "   'time_filter_global1',\n",
                            "   'time_filter_within'],\n",
                            "  ['category',\n",
                            "   'diagnosis_name',\n",
                            "   'object',\n",
                            "   'patient_id',\n",
                            "   'time_filter_global1'],\n",
                            "  ['diagnosis_name',\n",
                            "   'object',\n",
                            "   'patient_id',\n",
                            "   'time_filter_global1',\n",
                            "   'time_filter_within']]}"
                        ]
                    },
                    "execution_count": 78,
                    "metadata": {},
                    "output_type": "execute_result"
                }
            ],
            "source": [
                "scope2typic_keywords"
            ]
        },
        {
            "cell_type": "code",
            "execution_count": 97,
            "metadata": {},
            "outputs": [
                {
                    "data": {
                        "text/plain": [
                            "{'IMAGE-SINGLE-1': ['object_1, object_2, study_id',\n",
                            "  'category, study_id',\n",
                            "  'category, object_1, object_2, patient_id, time_filter_exact1, time_filter_global1',\n",
                            "  'attribute, object_1, object_2, patient_id, time_filter_exact1, time_filter_global1',\n",
                            "  'category_1, category_2, patient_id, time_filter_exact1, time_filter_global1'],\n",
                            " 'IMAGE-SINGLE-2': ['attribute, comparison, study_id1',\n",
                            "  'comparison, study_id1, study_id2',\n",
                            "  'attribute, comparison, object, patient_id, time_filter_exact1, time_filter_exact2, time_filter_global1, time_filter_global2',\n",
                            "  'category, comparison, patient_id, time_filter_exact1, time_filter_exact2, time_filter_global1, time_filter_global2',\n",
                            "  'comparison, patient_id, time_filter_exact1, time_filter_exact2, time_filter_global1, time_filter_global2'],\n",
                            " 'MULTIMODAL-SINGLE': ['diagnosis_name, patient_id, time_filter_global1',\n",
                            "  'patient_id, procedure_name, time_filter_global1',\n",
                            "  'category, drug_name, object, patient_id, time_filter_global1, time_filter_within',\n",
                            "  'category, diagnosis_name, object, patient_id, time_filter_global1',\n",
                            "  'diagnosis_name, object, patient_id, time_filter_global1, time_filter_within']}"
                        ]
                    },
                    "execution_count": 97,
                    "metadata": {},
                    "output_type": "execute_result"
                }
            ],
            "source": [
                "# create scope2typic_keywords_str to store the string of keywords list \n",
                "scope2typic_keywords_str = {scope: [] for scope in all_scopes}\n",
                "for scope, keywords in scope2typic_keywords.items():\n",
                "    scope2typic_keywords_str[scope] = [\", \".join(keyword) for keyword in keywords]\n",
                "\n",
                "scope2typic_keywords_str"
            ]
        },
        {
            "cell_type": "code",
            "execution_count": 96,
            "metadata": {},
            "outputs": [
                {
                    "data": {
                        "text/plain": [
                            "dict_items([('IMAGE-SINGLE-1', [['object_1', 'object_2', 'study_id'], ['category', 'study_id'], ['category', 'object_1', 'object_2', 'patient_id', 'time_filter_exact1', 'time_filter_global1'], ['attribute', 'object_1', 'object_2', 'patient_id', 'time_filter_exact1', 'time_filter_global1'], ['category_1', 'category_2', 'patient_id', 'time_filter_exact1', 'time_filter_global1']]), ('IMAGE-SINGLE-2', [['attribute', 'comparison', 'study_id1'], ['comparison', 'study_id1', 'study_id2'], ['attribute', 'comparison', 'object', 'patient_id', 'time_filter_exact1', 'time_filter_exact2', 'time_filter_global1', 'time_filter_global2'], ['category', 'comparison', 'patient_id', 'time_filter_exact1', 'time_filter_exact2', 'time_filter_global1', 'time_filter_global2'], ['comparison', 'patient_id', 'time_filter_exact1', 'time_filter_exact2', 'time_filter_global1', 'time_filter_global2']]), ('MULTIMODAL-SINGLE', [['diagnosis_name', 'patient_id', 'time_filter_global1'], ['patient_id', 'procedure_name', 'time_filter_global1'], ['category', 'drug_name', 'object', 'patient_id', 'time_filter_global1', 'time_filter_within'], ['category', 'diagnosis_name', 'object', 'patient_id', 'time_filter_global1'], ['diagnosis_name', 'object', 'patient_id', 'time_filter_global1', 'time_filter_within']])])"
                        ]
                    },
                    "execution_count": 96,
                    "metadata": {},
                    "output_type": "execute_result"
                }
            ],
            "source": [
                "scope2typic_keywords.items()"
            ]
        },
        {
            "cell_type": "code",
            "execution_count": 94,
            "metadata": {},
            "outputs": [
                {
                    "data": {
                        "text/plain": [
                            "{'IMAGE-SINGLE-1': 'h, a, s, _, v, e, r, b,  , p, a, t, i, e, n, t,  , {, p, a, t, i, e, n, t, _, i, d, },  , h, a, d,  , a,  , c, h, e, s, t,  , x, -, r, a, y,  , s, t, u, d, y,  , i, n, d, i, c, a, t, i, n, g,  , $, {, a, t, t, r, i, b, u, t, e, },  , [, t, i, m, e, _, f, i, l, t, e, r, _, w, i, t, h, i, n, ],  , a, f, t, e, r,  , h, a, v, i, n, g,  , b, e, e, n,  , d, i, a, g, n, o, s, e, d,  , w, i, t, h,  , {, d, i, a, g, n, o, s, i, s, _, n, a, m, e, },  , [, t, i, m, e, _, f, i, l, t, e, r, _, g, l, o, b, a, l, 1, ], ?',\n",
                            " 'IMAGE-SINGLE-2': 'h, a, s, _, v, e, r, b,  , p, a, t, i, e, n, t,  , {, p, a, t, i, e, n, t, _, i, d, },  , h, a, d,  , a,  , c, h, e, s, t,  , x, -, r, a, y,  , s, t, u, d, y,  , i, n, d, i, c, a, t, i, n, g,  , $, {, a, t, t, r, i, b, u, t, e, },  , [, t, i, m, e, _, f, i, l, t, e, r, _, w, i, t, h, i, n, ],  , a, f, t, e, r,  , h, a, v, i, n, g,  , b, e, e, n,  , d, i, a, g, n, o, s, e, d,  , w, i, t, h,  , {, d, i, a, g, n, o, s, i, s, _, n, a, m, e, },  , [, t, i, m, e, _, f, i, l, t, e, r, _, g, l, o, b, a, l, 1, ], ?',\n",
                            " 'MULTIMODAL-SINGLE': 'h, a, s, _, v, e, r, b,  , p, a, t, i, e, n, t,  , {, p, a, t, i, e, n, t, _, i, d, },  , h, a, d,  , a,  , c, h, e, s, t,  , x, -, r, a, y,  , s, t, u, d, y,  , i, n, d, i, c, a, t, i, n, g,  , $, {, a, t, t, r, i, b, u, t, e, },  , [, t, i, m, e, _, f, i, l, t, e, r, _, w, i, t, h, i, n, ],  , a, f, t, e, r,  , h, a, v, i, n, g,  , b, e, e, n,  , d, i, a, g, n, o, s, e, d,  , w, i, t, h,  , {, d, i, a, g, n, o, s, i, s, _, n, a, m, e, },  , [, t, i, m, e, _, f, i, l, t, e, r, _, g, l, o, b, a, l, 1, ], ?'}"
                        ]
                    },
                    "execution_count": 94,
                    "metadata": {},
                    "output_type": "execute_result"
                }
            ],
            "source": [
                "scope2typic_keywords_str"
            ]
        },
        {
            "cell_type": "code",
            "execution_count": 107,
            "metadata": {},
            "outputs": [
                {
                    "name": "stderr",
                    "output_type": "stream",
                    "text": [
                        "/tmp/ipykernel_224873/791692294.py:2: SettingWithCopyWarning: \n",
                        "A value is trying to be set on a copy of a slice from a DataFrame.\n",
                        "Try using .loc[row_indexer,col_indexer] = value instead\n",
                        "\n",
                        "See the caveats in the documentation: https://pandas.pydata.org/pandas-docs/stable/user_guide/indexing.html#returning-a-view-versus-a-copy\n",
                        "  train_df_filtered[\"keywords_str\"] = train_df_filtered[\"keywords\"].apply(lambda x: \", \".join(x))\n"
                    ]
                }
            ],
            "source": [
                "# sample the data the train_df_filtered by the scope2typic_keywords\n",
                "train_df_filtered[\"keywords_str\"] = train_df_filtered[\"keywords\"].apply(lambda x: \", \".join(x))\n",
                "train_df_sampled = pd.DataFrame()\n",
                "for scope, keywords in scope2typic_keywords_str.items():\n",
                "    for keyword in keywords:\n",
                "        _df = train_df_filtered[train_df_filtered[\"keywords_str\"] == keyword]\n",
                "        _df = _df.sample(1, random_state=43)\n",
                "        train_df_sampled = pd.concat([train_df_sampled, _df])"
            ]
        },
        {
            "cell_type": "code",
            "execution_count": 110,
            "metadata": {},
            "outputs": [],
            "source": [
                "from preprocess.utils import sql_parser\n",
                "def clean_query(q):\n",
                "    res = q.replace(\"%y\", \"%Y\").replace(\n",
                "        \"current_time\", \"strftime('2105-12-31 23:59:00')\"\n",
                "    )\n",
                "    return res\n",
                "\n",
                "train_df_sampled[\"query\"] = train_df_sampled[\"query\"].apply(clean_query)\n",
                "train_df_sampled[\"tables\"] = train_df_sampled[\"query\"].apply(lambda x: sql_parser(x).tables)"
            ]
        },
        {
            "cell_type": "code",
            "execution_count": null,
            "metadata": {},
            "outputs": [],
            "source": [
                "# train_df_sampled = train_df_sampled.drop(columns=[\"keywords_str\", \"keywords\"])\n",
                "# train_df_sampled.to_json(data_path / \"mimic_iv_cxr\" / \"few_shot_sampled.json\", orient=\"records\", indent=2)"
            ]
        },
        {
            "cell_type": "code",
            "execution_count": null,
            "metadata": {},
            "outputs": [],
            "source": [
                "# train_df_sampled.to_csv(data_path / \"mimic_iv_cxr\" / \"few_shot_sampled.csv\", index=False)"
            ]
        },
        {
            "cell_type": "code",
            "execution_count": null,
            "metadata": {},
            "outputs": [],
            "source": []
        }
    ],
    "metadata": {
        "kernelspec": {
            "display_name": "xmode",
            "language": "python",
            "name": "python3"
        },
        "language_info": {
            "codemirror_mode": {
                "name": "ipython",
                "version": 3
            },
            "file_extension": ".py",
            "mimetype": "text/x-python",
            "name": "python",
            "nbconvert_exporter": "python",
            "pygments_lexer": "ipython3",
            "version": "3.10.8"
        }
    },
    "nbformat": 4,
    "nbformat_minor": 2
}
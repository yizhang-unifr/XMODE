{
 "cells": [
  {
   "cell_type": "code",
   "execution_count": 9,
   "metadata": {},
   "outputs": [],
   "source": [
    "import os\n",
    "import sys\n",
    "\n",
    "sys.path.append(os.getcwd() + '/tools')\n",
    "from vqa_m3ae import post_vqa_m3ae"
   ]
  },
  {
   "cell_type": "code",
   "execution_count": 10,
   "metadata": {},
   "outputs": [
    {
     "name": "stdout",
     "output_type": "stream",
     "text": [
      "/home/ubuntu/workspace/M3LX-LLMCompiler/files\n"
     ]
    }
   ],
   "source": [
    "question = \"Are there any anatomical findings in the left hilar structures?\"\n",
    "image_id = '3c7d71b0-383da7fc-80f78f8c-6be2da46-3614e059'\n",
    "res = post_vqa_m3ae(question, image_id)"
   ]
  },
  {
   "cell_type": "code",
   "execution_count": 11,
   "metadata": {},
   "outputs": [
    {
     "data": {
      "text/plain": [
       "['breast/nipple shadows',\n",
       " 'calcified nodule',\n",
       " 'clavicle fracture',\n",
       " 'increased reticular markings/ild pattern',\n",
       " 'left shoulder',\n",
       " 'low lung volumes',\n",
       " 'lung cancer',\n",
       " 'picc',\n",
       " 'prosthetic valve',\n",
       " 'right costophrenic angle',\n",
       " 'swan-ganz catheter']"
      ]
     },
     "execution_count": 11,
     "metadata": {},
     "output_type": "execute_result"
    }
   ],
   "source": [
    "res['vqa_answers']"
   ]
  }
 ],
 "metadata": {
  "kernelspec": {
   "display_name": "m3lx",
   "language": "python",
   "name": "python3"
  },
  "language_info": {
   "codemirror_mode": {
    "name": "ipython",
    "version": 3
   },
   "file_extension": ".py",
   "mimetype": "text/x-python",
   "name": "python",
   "nbconvert_exporter": "python",
   "pygments_lexer": "ipython3",
   "version": "3.10.4"
  }
 },
 "nbformat": 4,
 "nbformat_minor": 2
}

{
    "cells": [
        {
            "cell_type": "code",
            "execution_count": 1,
            "metadata": {},
            "outputs": [],
            "source": [
                "%%capture --no-stderr\n",
                "%pip install -U --quiet langchain==0.2.12 langchain-core==0.2.27 langchain-openai==0.1.20 langgraph==0.1.19 langsmith==0.1.96  numexpr langchainhub sqlalchemy langchain-community"
            ]
        },
        {
            "cell_type": "code",
            "execution_count": 3,
            "metadata": {},
            "outputs": [],
            "source": [
                "import getpass\n",
                "import os\n",
                "\n",
                "from langchain_openai import ChatOpenAI\n",
                "\n",
                "# Imported from the https://github.com/langchain-ai/langgraph/tree/main/examples/plan-and-execute repo\n",
                "from tools.image_analysis_tool import get_image_analysis_tools\n",
                "from tools.text2SQL import get_text2SQL_tools\n",
                "\n",
                "from langchain_core.pydantic_v1 import BaseModel, Field\n",
                "from src.joiner import *\n",
                "from src.build_graph import graph_construction, graph_construction_report, graph_construction_m3ae\n",
                "\n",
                "from langchain_core.messages import (\n",
                "    BaseMessage,\n",
                "    FunctionMessage,\n",
                "    HumanMessage,\n",
                "    SystemMessage,\n",
                ")\n",
                "\n",
                "from src.planner import *\n",
                "from src.task_fetching_unit import *\n",
                "from src.joiner import *\n",
                "from src.joiner import parse_joiner_output\n",
                "from src.utils import _get_db_schema\n",
                "from typing import Dict\n",
                "from src.utils import correct_malformed_json, CustomJSONEncoder\n",
                "import ast\n",
                "# from langgraph.checkpoint.sqlite import SqliteSaver\n",
                "\n",
                "\n",
                "from langgraph.graph import END, MessageGraph, START,StateGraph\n",
                "\n",
                "def _set_if_undefined(var: str):\n",
                "    if not os.environ.get(var):\n",
                "        os.environ[var] = getpass.getpass(f\"Please provide your {var}\")\n",
                "\n",
                "_set_if_undefined(\"OPENAI_API_KEY\")\n",
                "_set_if_undefined(\"LANGCHAIN_API_KEY\")\n",
                "# _set_if_undefined(\"TAVILY_API_KEY\")\n",
                "# # Optional, add tracing in LangSmith\n",
                "\n",
                "os.environ[\"LANGCHAIN_TRACING_V2\"] = \"true\"\n",
                "os.environ[\"LANGCHAIN_PROJECT\"] = \"XMODE\"\n",
                "\n"
            ]
        },
        {
            "cell_type": "code",
            "execution_count": null,
            "metadata": {},
            "outputs": [],
            "source": [
                "model=\"gpt-4o\" #gpt-4-turbo-preview\n",
                "#memory = SqliteSaver.from_conn_string(\":memory:\")\n",
                "\n",
                "chain = graph_construction(model)"
            ]
        },
        {
            "cell_type": "code",
            "execution_count": 4,
            "metadata": {},
            "outputs": [
                {
                    "name": "stdout",
                    "output_type": "stream",
                    "text": [
                        "[HumanMessage(content=[{'question': 'is there any evidence of abnormalities still absent in the 55949143 study compared to the last study?', 'database_schema': '\\nCREATE TABLE \"PATIENTS\" (\\n\\trow_id INTEGER, \\n\\tsubject_id INTEGER, \\n\\tgender TEXT, \\n\\tdob TEXT, \\n\\tdod TEXT\\n)\\n\\n/*\\n5 rows from PATIENTS table:\\nrow_id\\tsubject_id\\tgender\\tdob\\tdod\\n0\\t10020740\\tm\\t2048-03-16 00:00:00\\tNone\\n1\\t10037020\\tm\\t2043-02-15 00:00:00\\tNone\\n2\\t10063856\\tf\\t2042-07-04 00:00:00\\t2103-04-13 00:00:00\\n3\\t10098993\\tf\\t2025-02-23 00:00:00\\t2105-04-17 00:00:00\\n4\\t10104308\\tm\\t2048-02-22 00:00:00\\tNone\\n*/\\n\\n\\nCREATE TABLE \"TB_CXR\" (\\n\\trow_id INTEGER, \\n\\tsubject_id INTEGER, \\n\\thadm_id REAL, \\n\\tstudy_id INTEGER, \\n\\timage_id TEXT, \\n\\tviewposition TEXT, \\n\\tstudydatetime TEXT\\n)\\n\\n/*\\n5 rows from TB_CXR table:\\nrow_id\\tsubject_id\\thadm_id\\tstudy_id\\timage_id\\tviewposition\\tstudydatetime\\n0\\t10020740\\tNone\\t52268471\\t46ee8707-81386f73-3ff804c3-92e6044b-dce8d6b2\\tap\\t2104-03-22 16:03:20\\n1\\t10020740\\tNone\\t55522869\\t27776756-1d9ef4fc-cd8dd0ca-1453072f-12c0f484\\tap\\t2104-03-23 05:19:57\\n2\\t10020740\\tNone\\t58116104\\td3dbb519-1ea6cf3c-bb4c1fd8-79bb117a-1dc3869f\\tap\\t2104-03-23 11:25:11\\n3\\t10020740\\tNone\\t59646202\\t7b7c6181-fcc7d50e-b65598fc-03cc32e9-4e291b92\\tap\\t2104-03-23 11:57:55\\n4\\t10020740\\tNone\\t57133090\\t1bb8280b-6a7c669b-0ab83cee-4fb91bc2-f04f45af\\tap\\t2104-03-30 04:44:36\\n*/'}], id='21713245-eecf-4494-a4ff-3263f4c7ea35')]\n",
                        "context-first: {'status': 'success', 'data': [{'image_id': 'b10aab2c-33220e4a-23c182e9-06ea4916-4a79547a'}]} <class 'str'>\n",
                        "context-2 {'status': 'success', 'data': [{'image_id': 'b10aab2c-33220e4a-23c182e9-06ea4916-4a79547a'}]}\n",
                        "context-after: [{'image_id': 'b10aab2c-33220e4a-23c182e9-06ea4916-4a79547a'}]\n",
                        "image_urls_1 [[{'image_id': 'b10aab2c-33220e4a-23c182e9-06ea4916-4a79547a', 'image_url': '/home/ubuntu/workspace/XMODE-LLMCompiler/files/p11/p11636169/s55949143/b10aab2c-33220e4a-23c182e9-06ea4916-4a79547a.jpg'}]]\n",
                        "context-first: {'status': 'success', 'data': [{'image_id': 'f985d27b-5a989257-7fe132f0-e206bd7a-5594d84b'}]} <class 'str'>\n",
                        "context-2 {'status': 'success', 'data': [{'image_id': 'f985d27b-5a989257-7fe132f0-e206bd7a-5594d84b'}]}\n",
                        "context-after: [{'image_id': 'f985d27b-5a989257-7fe132f0-e206bd7a-5594d84b'}]\n",
                        "image_urls_1 [[{'image_id': 'f985d27b-5a989257-7fe132f0-e206bd7a-5594d84b', 'image_url': '/home/ubuntu/workspace/XMODE-LLMCompiler/files/p16/p16039201/s57846433/f985d27b-5a989257-7fe132f0-e206bd7a-5594d84b.jpg'}]]\n",
                        "[HumanMessage(content=[{'question': 'is there any evidence of abnormalities still absent in the 55949143 study compared to the last study?', 'database_schema': '\\nCREATE TABLE \"PATIENTS\" (\\n\\trow_id INTEGER, \\n\\tsubject_id INTEGER, \\n\\tgender TEXT, \\n\\tdob TEXT, \\n\\tdod TEXT\\n)\\n\\n/*\\n5 rows from PATIENTS table:\\nrow_id\\tsubject_id\\tgender\\tdob\\tdod\\n0\\t10020740\\tm\\t2048-03-16 00:00:00\\tNone\\n1\\t10037020\\tm\\t2043-02-15 00:00:00\\tNone\\n2\\t10063856\\tf\\t2042-07-04 00:00:00\\t2103-04-13 00:00:00\\n3\\t10098993\\tf\\t2025-02-23 00:00:00\\t2105-04-17 00:00:00\\n4\\t10104308\\tm\\t2048-02-22 00:00:00\\tNone\\n*/\\n\\n\\nCREATE TABLE \"TB_CXR\" (\\n\\trow_id INTEGER, \\n\\tsubject_id INTEGER, \\n\\thadm_id REAL, \\n\\tstudy_id INTEGER, \\n\\timage_id TEXT, \\n\\tviewposition TEXT, \\n\\tstudydatetime TEXT\\n)\\n\\n/*\\n5 rows from TB_CXR table:\\nrow_id\\tsubject_id\\thadm_id\\tstudy_id\\timage_id\\tviewposition\\tstudydatetime\\n0\\t10020740\\tNone\\t52268471\\t46ee8707-81386f73-3ff804c3-92e6044b-dce8d6b2\\tap\\t2104-03-22 16:03:20\\n1\\t10020740\\tNone\\t55522869\\t27776756-1d9ef4fc-cd8dd0ca-1453072f-12c0f484\\tap\\t2104-03-23 05:19:57\\n2\\t10020740\\tNone\\t58116104\\td3dbb519-1ea6cf3c-bb4c1fd8-79bb117a-1dc3869f\\tap\\t2104-03-23 11:25:11\\n3\\t10020740\\tNone\\t59646202\\t7b7c6181-fcc7d50e-b65598fc-03cc32e9-4e291b92\\tap\\t2104-03-23 11:57:55\\n4\\t10020740\\tNone\\t57133090\\t1bb8280b-6a7c669b-0ab83cee-4fb91bc2-f04f45af\\tap\\t2104-03-30 04:44:36\\n*/'}], id='21713245-eecf-4494-a4ff-3263f4c7ea35'), FunctionMessage(content=\"{'status': 'success', 'data': [{'study_id': 57610437}]}\", additional_kwargs={'idx': 1, 'args': {'problem': 'What was the last study id before the study with id 55949143?', 'context': 'CREATE TABLE \"PATIENTS\" (\\n\\trow_id INTEGER, \\n\\tsubject_id INTEGER, \\n\\tgender TEXT, \\n\\tdob TEXT, \\n\\tdod TEXT\\n)\\n\\n/*\\n5 rows from PATIENTS table:\\nrow_id\\tsubject_id\\tgender\\tdob\\tdod\\n0\\t10020740\\tm\\t2048-03-16 00:00:00\\tNone\\n1\\t10037020\\tm\\t2043-02-15 00:00:00\\tNone\\n2\\t10063856\\tf\\t2042-07-04 00:00:00\\t2103-04-13 00:00:00\\n3\\t10098993\\tf\\t2025-02-23 00:00:00\\t2105-04-17 00:00:00\\n4\\t10104308\\tm\\t2048-02-22 00:00:00\\tNone\\n*/\\n\\n\\nCREATE TABLE \"TB_CXR\" (\\n\\trow_id INTEGER, \\n\\tsubject_id INTEGER, \\n\\thadm_id REAL, \\n\\tstudy_id INTEGER, \\n\\timage_id TEXT, \\n\\tviewposition TEXT, \\n\\tstudydatetime TEXT\\n)\\n\\n/*\\n5 rows from TB_CXR table:\\nrow_id\\tsubject_id\\thadm_id\\tstudy_id\\timage_id\\tviewposition\\tstudydatetime\\n0\\t10020740\\tNone\\t52268471\\t46ee8707-81386f73-3ff804c3-92e6044b-dce8d6b2\\tap\\t2104-03-22 16:03:20\\n1\\t10020740\\tNone\\t55522869\\t27776756-1d9ef4fc-cd8dd0ca-1453072f-12c0f484\\tap\\t2104-03-23 05:19:57\\n2\\t10020740\\tNone\\t58116104\\td3dbb519-1ea6cf3c-bb4c1fd8-79bb117a-1dc3869f\\tap\\t2104-03-23 11:25:11\\n3\\t10020740\\tNone\\t59646202\\t7b7c6181-fcc7d50e-b65598fc-03cc32e9-4e291b92\\tap\\t2104-03-23 11:57:55\\n4\\t10020740\\tNone\\t57133090\\t1bb8280b-6a7c669b-0ab83cee-4fb91bc2-f04f45af\\tap\\t2104-03-30 04:44:36\\n*/'}}, name='text2SQL', id='6b430a1f-cb6a-4d95-ad5b-00630f06f6ca'), FunctionMessage(content=\"{'status': 'success', 'data': [{'image_id': 'b10aab2c-33220e4a-23c182e9-06ea4916-4a79547a'}]}\", additional_kwargs={'idx': 2, 'args': {'problem': 'What is the image_id for the study with id 55949143?', 'context': 'CREATE TABLE \"PATIENTS\" (\\n\\trow_id INTEGER, \\n\\tsubject_id INTEGER, \\n\\tgender TEXT, \\n\\tdob TEXT, \\n\\tdod TEXT\\n)\\n\\n/*\\n5 rows from PATIENTS table:\\nrow_id\\tsubject_id\\tgender\\tdob\\tdod\\n0\\t10020740\\tm\\t2048-03-16 00:00:00\\tNone\\n1\\t10037020\\tm\\t2043-02-15 00:00:00\\tNone\\n2\\t10063856\\tf\\t2042-07-04 00:00:00\\t2103-04-13 00:00:00\\n3\\t10098993\\tf\\t2025-02-23 00:00:00\\t2105-04-17 00:00:00\\n4\\t10104308\\tm\\t2048-02-22 00:00:00\\tNone\\n*/\\n\\n\\nCREATE TABLE \"TB_CXR\" (\\n\\trow_id INTEGER, \\n\\tsubject_id INTEGER, \\n\\thadm_id REAL, \\n\\tstudy_id INTEGER, \\n\\timage_id TEXT, \\n\\tviewposition TEXT, \\n\\tstudydatetime TEXT\\n)\\n\\n/*\\n5 rows from TB_CXR table:\\nrow_id\\tsubject_id\\thadm_id\\tstudy_id\\timage_id\\tviewposition\\tstudydatetime\\n0\\t10020740\\tNone\\t52268471\\t46ee8707-81386f73-3ff804c3-92e6044b-dce8d6b2\\tap\\t2104-03-22 16:03:20\\n1\\t10020740\\tNone\\t55522869\\t27776756-1d9ef4fc-cd8dd0ca-1453072f-12c0f484\\tap\\t2104-03-23 05:19:57\\n2\\t10020740\\tNone\\t58116104\\td3dbb519-1ea6cf3c-bb4c1fd8-79bb117a-1dc3869f\\tap\\t2104-03-23 11:25:11\\n3\\t10020740\\tNone\\t59646202\\t7b7c6181-fcc7d50e-b65598fc-03cc32e9-4e291b92\\tap\\t2104-03-23 11:57:55\\n4\\t10020740\\tNone\\t57133090\\t1bb8280b-6a7c669b-0ab83cee-4fb91bc2-f04f45af\\tap\\t2104-03-30 04:44:36\\n*/'}}, name='text2SQL', id='ae789280-d3e1-422e-b427-ef15bdd53a30'), FunctionMessage(content=\"{'status': 'success', 'data': [{'image_id': 'f985d27b-5a989257-7fe132f0-e206bd7a-5594d84b'}]}\", additional_kwargs={'idx': 3, 'args': {'problem': 'What is the image_id for the last study?', 'context': 'CREATE TABLE \"PATIENTS\" (\\n\\trow_id INTEGER, \\n\\tsubject_id INTEGER, \\n\\tgender TEXT, \\n\\tdob TEXT, \\n\\tdod TEXT\\n)\\n\\n/*\\n5 rows from PATIENTS table:\\nrow_id\\tsubject_id\\tgender\\tdob\\tdod\\n0\\t10020740\\tm\\t2048-03-16 00:00:00\\tNone\\n1\\t10037020\\tm\\t2043-02-15 00:00:00\\tNone\\n2\\t10063856\\tf\\t2042-07-04 00:00:00\\t2103-04-13 00:00:00\\n3\\t10098993\\tf\\t2025-02-23 00:00:00\\t2105-04-17 00:00:00\\n4\\t10104308\\tm\\t2048-02-22 00:00:00\\tNone\\n*/\\n\\n\\nCREATE TABLE \"TB_CXR\" (\\n\\trow_id INTEGER, \\n\\tsubject_id INTEGER, \\n\\thadm_id REAL, \\n\\tstudy_id INTEGER, \\n\\timage_id TEXT, \\n\\tviewposition TEXT, \\n\\tstudydatetime TEXT\\n)\\n\\n/*\\n5 rows from TB_CXR table:\\nrow_id\\tsubject_id\\thadm_id\\tstudy_id\\timage_id\\tviewposition\\tstudydatetime\\n0\\t10020740\\tNone\\t52268471\\t46ee8707-81386f73-3ff804c3-92e6044b-dce8d6b2\\tap\\t2104-03-22 16:03:20\\n1\\t10020740\\tNone\\t55522869\\t27776756-1d9ef4fc-cd8dd0ca-1453072f-12c0f484\\tap\\t2104-03-23 05:19:57\\n2\\t10020740\\tNone\\t58116104\\td3dbb519-1ea6cf3c-bb4c1fd8-79bb117a-1dc3869f\\tap\\t2104-03-23 11:25:11\\n3\\t10020740\\tNone\\t59646202\\t7b7c6181-fcc7d50e-b65598fc-03cc32e9-4e291b92\\tap\\t2104-03-23 11:57:55\\n4\\t10020740\\tNone\\t57133090\\t1bb8280b-6a7c669b-0ab83cee-4fb91bc2-f04f45af\\tap\\t2104-03-30 04:44:36\\n*/'}}, name='text2SQL', id='2832df5d-08a6-44a5-bf83-c0e53fb7356a'), FunctionMessage(content='ERROR(Failed to call image_analysis with args {\\'question\\': \\'Are there any abnormalities in this study?\\', \\'context\\': \\'$2\\'}. Args resolved to {\\'question\\': \\'Are there any abnormalities in this study?\\', \\'context\\': \"{\\'status\\': \\'success\\', \\'data\\': [{\\'image_id\\': \\'b10aab2c-33220e4a-23c182e9-06ea4916-4a79547a\\'}]}\"}. Error: BadRequestError(\"Error code: 400 - {\\'error\\': {\\'message\\': \\'Invalid content type. image_url is only supported by certain models.\\', \\'type\\': \\'invalid_request_error\\', \\'param\\': \\'messages.[2].content.[0].type\\', \\'code\\': None}}\"))', additional_kwargs={'idx': 4, 'args': {'question': 'Are there any abnormalities in this study?', 'context': '$2'}}, name='image_analysis', id='f896a6eb-11fb-474f-83d5-087cf574f65f'), FunctionMessage(content='ERROR(Failed to call image_analysis with args {\\'question\\': \\'Are there any abnormalities in this study?\\', \\'context\\': \\'$3\\'}. Args resolved to {\\'question\\': \\'Are there any abnormalities in this study?\\', \\'context\\': \"{\\'status\\': \\'success\\', \\'data\\': [{\\'image_id\\': \\'f985d27b-5a989257-7fe132f0-e206bd7a-5594d84b\\'}]}\"}. Error: BadRequestError(\"Error code: 400 - {\\'error\\': {\\'message\\': \\'Invalid content type. image_url is only supported by certain models.\\', \\'type\\': \\'invalid_request_error\\', \\'param\\': \\'messages.[2].content.[0].type\\', \\'code\\': None}}\"))', additional_kwargs={'idx': 5, 'args': {'question': 'Are there any abnormalities in this study?', 'context': '$3'}}, name='image_analysis', id='373388d6-858e-4b75-ab0a-4c0f1b8b6ac9'), FunctionMessage(content='join', additional_kwargs={'idx': 6, 'args': ()}, name='join', id='7f9e7e46-1ff5-46e6-b4aa-b9a97014a401')]\n",
                        "[HumanMessage(content=[{'question': 'is there any evidence of abnormalities still absent in the 55949143 study compared to the last study?', 'database_schema': '\\nCREATE TABLE \"PATIENTS\" (\\n\\trow_id INTEGER, \\n\\tsubject_id INTEGER, \\n\\tgender TEXT, \\n\\tdob TEXT, \\n\\tdod TEXT\\n)\\n\\n/*\\n5 rows from PATIENTS table:\\nrow_id\\tsubject_id\\tgender\\tdob\\tdod\\n0\\t10020740\\tm\\t2048-03-16 00:00:00\\tNone\\n1\\t10037020\\tm\\t2043-02-15 00:00:00\\tNone\\n2\\t10063856\\tf\\t2042-07-04 00:00:00\\t2103-04-13 00:00:00\\n3\\t10098993\\tf\\t2025-02-23 00:00:00\\t2105-04-17 00:00:00\\n4\\t10104308\\tm\\t2048-02-22 00:00:00\\tNone\\n*/\\n\\n\\nCREATE TABLE \"TB_CXR\" (\\n\\trow_id INTEGER, \\n\\tsubject_id INTEGER, \\n\\thadm_id REAL, \\n\\tstudy_id INTEGER, \\n\\timage_id TEXT, \\n\\tviewposition TEXT, \\n\\tstudydatetime TEXT\\n)\\n\\n/*\\n5 rows from TB_CXR table:\\nrow_id\\tsubject_id\\thadm_id\\tstudy_id\\timage_id\\tviewposition\\tstudydatetime\\n0\\t10020740\\tNone\\t52268471\\t46ee8707-81386f73-3ff804c3-92e6044b-dce8d6b2\\tap\\t2104-03-22 16:03:20\\n1\\t10020740\\tNone\\t55522869\\t27776756-1d9ef4fc-cd8dd0ca-1453072f-12c0f484\\tap\\t2104-03-23 05:19:57\\n2\\t10020740\\tNone\\t58116104\\td3dbb519-1ea6cf3c-bb4c1fd8-79bb117a-1dc3869f\\tap\\t2104-03-23 11:25:11\\n3\\t10020740\\tNone\\t59646202\\t7b7c6181-fcc7d50e-b65598fc-03cc32e9-4e291b92\\tap\\t2104-03-23 11:57:55\\n4\\t10020740\\tNone\\t57133090\\t1bb8280b-6a7c669b-0ab83cee-4fb91bc2-f04f45af\\tap\\t2104-03-30 04:44:36\\n*/'}], id='21713245-eecf-4494-a4ff-3263f4c7ea35'), FunctionMessage(content=\"{'status': 'success', 'data': [{'study_id': 57610437}]}\", additional_kwargs={'idx': 1, 'args': {'problem': 'What was the last study id before the study with id 55949143?', 'context': 'CREATE TABLE \"PATIENTS\" (\\n\\trow_id INTEGER, \\n\\tsubject_id INTEGER, \\n\\tgender TEXT, \\n\\tdob TEXT, \\n\\tdod TEXT\\n)\\n\\n/*\\n5 rows from PATIENTS table:\\nrow_id\\tsubject_id\\tgender\\tdob\\tdod\\n0\\t10020740\\tm\\t2048-03-16 00:00:00\\tNone\\n1\\t10037020\\tm\\t2043-02-15 00:00:00\\tNone\\n2\\t10063856\\tf\\t2042-07-04 00:00:00\\t2103-04-13 00:00:00\\n3\\t10098993\\tf\\t2025-02-23 00:00:00\\t2105-04-17 00:00:00\\n4\\t10104308\\tm\\t2048-02-22 00:00:00\\tNone\\n*/\\n\\n\\nCREATE TABLE \"TB_CXR\" (\\n\\trow_id INTEGER, \\n\\tsubject_id INTEGER, \\n\\thadm_id REAL, \\n\\tstudy_id INTEGER, \\n\\timage_id TEXT, \\n\\tviewposition TEXT, \\n\\tstudydatetime TEXT\\n)\\n\\n/*\\n5 rows from TB_CXR table:\\nrow_id\\tsubject_id\\thadm_id\\tstudy_id\\timage_id\\tviewposition\\tstudydatetime\\n0\\t10020740\\tNone\\t52268471\\t46ee8707-81386f73-3ff804c3-92e6044b-dce8d6b2\\tap\\t2104-03-22 16:03:20\\n1\\t10020740\\tNone\\t55522869\\t27776756-1d9ef4fc-cd8dd0ca-1453072f-12c0f484\\tap\\t2104-03-23 05:19:57\\n2\\t10020740\\tNone\\t58116104\\td3dbb519-1ea6cf3c-bb4c1fd8-79bb117a-1dc3869f\\tap\\t2104-03-23 11:25:11\\n3\\t10020740\\tNone\\t59646202\\t7b7c6181-fcc7d50e-b65598fc-03cc32e9-4e291b92\\tap\\t2104-03-23 11:57:55\\n4\\t10020740\\tNone\\t57133090\\t1bb8280b-6a7c669b-0ab83cee-4fb91bc2-f04f45af\\tap\\t2104-03-30 04:44:36\\n*/'}}, name='text2SQL', id='6b430a1f-cb6a-4d95-ad5b-00630f06f6ca'), FunctionMessage(content=\"{'status': 'success', 'data': [{'image_id': 'b10aab2c-33220e4a-23c182e9-06ea4916-4a79547a'}]}\", additional_kwargs={'idx': 2, 'args': {'problem': 'What is the image_id for the study with id 55949143?', 'context': 'CREATE TABLE \"PATIENTS\" (\\n\\trow_id INTEGER, \\n\\tsubject_id INTEGER, \\n\\tgender TEXT, \\n\\tdob TEXT, \\n\\tdod TEXT\\n)\\n\\n/*\\n5 rows from PATIENTS table:\\nrow_id\\tsubject_id\\tgender\\tdob\\tdod\\n0\\t10020740\\tm\\t2048-03-16 00:00:00\\tNone\\n1\\t10037020\\tm\\t2043-02-15 00:00:00\\tNone\\n2\\t10063856\\tf\\t2042-07-04 00:00:00\\t2103-04-13 00:00:00\\n3\\t10098993\\tf\\t2025-02-23 00:00:00\\t2105-04-17 00:00:00\\n4\\t10104308\\tm\\t2048-02-22 00:00:00\\tNone\\n*/\\n\\n\\nCREATE TABLE \"TB_CXR\" (\\n\\trow_id INTEGER, \\n\\tsubject_id INTEGER, \\n\\thadm_id REAL, \\n\\tstudy_id INTEGER, \\n\\timage_id TEXT, \\n\\tviewposition TEXT, \\n\\tstudydatetime TEXT\\n)\\n\\n/*\\n5 rows from TB_CXR table:\\nrow_id\\tsubject_id\\thadm_id\\tstudy_id\\timage_id\\tviewposition\\tstudydatetime\\n0\\t10020740\\tNone\\t52268471\\t46ee8707-81386f73-3ff804c3-92e6044b-dce8d6b2\\tap\\t2104-03-22 16:03:20\\n1\\t10020740\\tNone\\t55522869\\t27776756-1d9ef4fc-cd8dd0ca-1453072f-12c0f484\\tap\\t2104-03-23 05:19:57\\n2\\t10020740\\tNone\\t58116104\\td3dbb519-1ea6cf3c-bb4c1fd8-79bb117a-1dc3869f\\tap\\t2104-03-23 11:25:11\\n3\\t10020740\\tNone\\t59646202\\t7b7c6181-fcc7d50e-b65598fc-03cc32e9-4e291b92\\tap\\t2104-03-23 11:57:55\\n4\\t10020740\\tNone\\t57133090\\t1bb8280b-6a7c669b-0ab83cee-4fb91bc2-f04f45af\\tap\\t2104-03-30 04:44:36\\n*/'}}, name='text2SQL', id='ae789280-d3e1-422e-b427-ef15bdd53a30'), FunctionMessage(content=\"{'status': 'success', 'data': [{'image_id': 'f985d27b-5a989257-7fe132f0-e206bd7a-5594d84b'}]}\", additional_kwargs={'idx': 3, 'args': {'problem': 'What is the image_id for the last study?', 'context': 'CREATE TABLE \"PATIENTS\" (\\n\\trow_id INTEGER, \\n\\tsubject_id INTEGER, \\n\\tgender TEXT, \\n\\tdob TEXT, \\n\\tdod TEXT\\n)\\n\\n/*\\n5 rows from PATIENTS table:\\nrow_id\\tsubject_id\\tgender\\tdob\\tdod\\n0\\t10020740\\tm\\t2048-03-16 00:00:00\\tNone\\n1\\t10037020\\tm\\t2043-02-15 00:00:00\\tNone\\n2\\t10063856\\tf\\t2042-07-04 00:00:00\\t2103-04-13 00:00:00\\n3\\t10098993\\tf\\t2025-02-23 00:00:00\\t2105-04-17 00:00:00\\n4\\t10104308\\tm\\t2048-02-22 00:00:00\\tNone\\n*/\\n\\n\\nCREATE TABLE \"TB_CXR\" (\\n\\trow_id INTEGER, \\n\\tsubject_id INTEGER, \\n\\thadm_id REAL, \\n\\tstudy_id INTEGER, \\n\\timage_id TEXT, \\n\\tviewposition TEXT, \\n\\tstudydatetime TEXT\\n)\\n\\n/*\\n5 rows from TB_CXR table:\\nrow_id\\tsubject_id\\thadm_id\\tstudy_id\\timage_id\\tviewposition\\tstudydatetime\\n0\\t10020740\\tNone\\t52268471\\t46ee8707-81386f73-3ff804c3-92e6044b-dce8d6b2\\tap\\t2104-03-22 16:03:20\\n1\\t10020740\\tNone\\t55522869\\t27776756-1d9ef4fc-cd8dd0ca-1453072f-12c0f484\\tap\\t2104-03-23 05:19:57\\n2\\t10020740\\tNone\\t58116104\\td3dbb519-1ea6cf3c-bb4c1fd8-79bb117a-1dc3869f\\tap\\t2104-03-23 11:25:11\\n3\\t10020740\\tNone\\t59646202\\t7b7c6181-fcc7d50e-b65598fc-03cc32e9-4e291b92\\tap\\t2104-03-23 11:57:55\\n4\\t10020740\\tNone\\t57133090\\t1bb8280b-6a7c669b-0ab83cee-4fb91bc2-f04f45af\\tap\\t2104-03-30 04:44:36\\n*/'}}, name='text2SQL', id='2832df5d-08a6-44a5-bf83-c0e53fb7356a'), FunctionMessage(content='ERROR(Failed to call image_analysis with args {\\'question\\': \\'Are there any abnormalities in this study?\\', \\'context\\': \\'$2\\'}. Args resolved to {\\'question\\': \\'Are there any abnormalities in this study?\\', \\'context\\': \"{\\'status\\': \\'success\\', \\'data\\': [{\\'image_id\\': \\'b10aab2c-33220e4a-23c182e9-06ea4916-4a79547a\\'}]}\"}. Error: BadRequestError(\"Error code: 400 - {\\'error\\': {\\'message\\': \\'Invalid content type. image_url is only supported by certain models.\\', \\'type\\': \\'invalid_request_error\\', \\'param\\': \\'messages.[2].content.[0].type\\', \\'code\\': None}}\"))', additional_kwargs={'idx': 4, 'args': {'question': 'Are there any abnormalities in this study?', 'context': '$2'}}, name='image_analysis', id='f896a6eb-11fb-474f-83d5-087cf574f65f'), FunctionMessage(content='ERROR(Failed to call image_analysis with args {\\'question\\': \\'Are there any abnormalities in this study?\\', \\'context\\': \\'$3\\'}. Args resolved to {\\'question\\': \\'Are there any abnormalities in this study?\\', \\'context\\': \"{\\'status\\': \\'success\\', \\'data\\': [{\\'image_id\\': \\'f985d27b-5a989257-7fe132f0-e206bd7a-5594d84b\\'}]}\"}. Error: BadRequestError(\"Error code: 400 - {\\'error\\': {\\'message\\': \\'Invalid content type. image_url is only supported by certain models.\\', \\'type\\': \\'invalid_request_error\\', \\'param\\': \\'messages.[2].content.[0].type\\', \\'code\\': None}}\"))', additional_kwargs={'idx': 5, 'args': {'question': 'Are there any abnormalities in this study?', 'context': '$3'}}, name='image_analysis', id='373388d6-858e-4b75-ab0a-4c0f1b8b6ac9'), FunctionMessage(content='join', additional_kwargs={'idx': 6, 'args': ()}, name='join', id='7f9e7e46-1ff5-46e6-b4aa-b9a97014a401'), AIMessage(content=\"Thought: While we have identified the study IDs and image IDs for the current and previous studies, the image analysis tool failed to process the image IDs to provide information on the presence of abnormalities in these studies. Therefore, we're unable to determine whether any abnormalities are still absent in the study 55949143 compared to the last study.\", id='8b80e02e-cd1b-4ed0-9292-e9ca253dda0f'), SystemMessage(content=\"Context from last attempt: The image analysis tool failed to process the image IDs and as a result, I'm unable to determine the presence or absence of abnormalities in the studies. You may need to consult a radiologist or medical expert to analyze the images obtained from these studies.\", id='43b59aa2-5f39-43bc-972b-be107175f77a')]\n",
                        "context-first: {'status': 'error', 'message': 'no such table: cxr_studies'} <class 'str'>\n",
                        "context-2 {'status': 'error', 'message': 'no such table: cxr_studies'}\n",
                        "context-after: {'status': 'error', 'message': 'no such table: cxr_studies'}\n",
                        "image_urls_1 [ValueError('The image analysis task requires image_id or study_id or any related in the data\\nstate:\\nNone'), ValueError('The image analysis task requires image_id or study_id or any related in the data\\nstate:\\nNone')]\n",
                        "context-first: {'status': 'error', 'message': 'no such table: studies'} <class 'str'>\n",
                        "context-2 {'status': 'error', 'message': 'no such table: studies'}\n",
                        "context-after: {'status': 'error', 'message': 'no such table: studies'}\n",
                        "image_urls_1 [ValueError('The image analysis task requires image_id or study_id or any related in the data\\nstate:\\nNone'), ValueError('The image analysis task requires image_id or study_id or any related in the data\\nstate:\\nNone')]\n",
                        "[HumanMessage(content=[{'question': 'is there any evidence of abnormalities still absent in the 55949143 study compared to the last study?', 'database_schema': '\\nCREATE TABLE \"PATIENTS\" (\\n\\trow_id INTEGER, \\n\\tsubject_id INTEGER, \\n\\tgender TEXT, \\n\\tdob TEXT, \\n\\tdod TEXT\\n)\\n\\n/*\\n5 rows from PATIENTS table:\\nrow_id\\tsubject_id\\tgender\\tdob\\tdod\\n0\\t10020740\\tm\\t2048-03-16 00:00:00\\tNone\\n1\\t10037020\\tm\\t2043-02-15 00:00:00\\tNone\\n2\\t10063856\\tf\\t2042-07-04 00:00:00\\t2103-04-13 00:00:00\\n3\\t10098993\\tf\\t2025-02-23 00:00:00\\t2105-04-17 00:00:00\\n4\\t10104308\\tm\\t2048-02-22 00:00:00\\tNone\\n*/\\n\\n\\nCREATE TABLE \"TB_CXR\" (\\n\\trow_id INTEGER, \\n\\tsubject_id INTEGER, \\n\\thadm_id REAL, \\n\\tstudy_id INTEGER, \\n\\timage_id TEXT, \\n\\tviewposition TEXT, \\n\\tstudydatetime TEXT\\n)\\n\\n/*\\n5 rows from TB_CXR table:\\nrow_id\\tsubject_id\\thadm_id\\tstudy_id\\timage_id\\tviewposition\\tstudydatetime\\n0\\t10020740\\tNone\\t52268471\\t46ee8707-81386f73-3ff804c3-92e6044b-dce8d6b2\\tap\\t2104-03-22 16:03:20\\n1\\t10020740\\tNone\\t55522869\\t27776756-1d9ef4fc-cd8dd0ca-1453072f-12c0f484\\tap\\t2104-03-23 05:19:57\\n2\\t10020740\\tNone\\t58116104\\td3dbb519-1ea6cf3c-bb4c1fd8-79bb117a-1dc3869f\\tap\\t2104-03-23 11:25:11\\n3\\t10020740\\tNone\\t59646202\\t7b7c6181-fcc7d50e-b65598fc-03cc32e9-4e291b92\\tap\\t2104-03-23 11:57:55\\n4\\t10020740\\tNone\\t57133090\\t1bb8280b-6a7c669b-0ab83cee-4fb91bc2-f04f45af\\tap\\t2104-03-30 04:44:36\\n*/'}], id='21713245-eecf-4494-a4ff-3263f4c7ea35'), FunctionMessage(content=\"{'status': 'success', 'data': [{'study_id': 57610437}]}\", additional_kwargs={'idx': 1, 'args': {'problem': 'What was the last study id before the study with id 55949143?', 'context': 'CREATE TABLE \"PATIENTS\" (\\n\\trow_id INTEGER, \\n\\tsubject_id INTEGER, \\n\\tgender TEXT, \\n\\tdob TEXT, \\n\\tdod TEXT\\n)\\n\\n/*\\n5 rows from PATIENTS table:\\nrow_id\\tsubject_id\\tgender\\tdob\\tdod\\n0\\t10020740\\tm\\t2048-03-16 00:00:00\\tNone\\n1\\t10037020\\tm\\t2043-02-15 00:00:00\\tNone\\n2\\t10063856\\tf\\t2042-07-04 00:00:00\\t2103-04-13 00:00:00\\n3\\t10098993\\tf\\t2025-02-23 00:00:00\\t2105-04-17 00:00:00\\n4\\t10104308\\tm\\t2048-02-22 00:00:00\\tNone\\n*/\\n\\n\\nCREATE TABLE \"TB_CXR\" (\\n\\trow_id INTEGER, \\n\\tsubject_id INTEGER, \\n\\thadm_id REAL, \\n\\tstudy_id INTEGER, \\n\\timage_id TEXT, \\n\\tviewposition TEXT, \\n\\tstudydatetime TEXT\\n)\\n\\n/*\\n5 rows from TB_CXR table:\\nrow_id\\tsubject_id\\thadm_id\\tstudy_id\\timage_id\\tviewposition\\tstudydatetime\\n0\\t10020740\\tNone\\t52268471\\t46ee8707-81386f73-3ff804c3-92e6044b-dce8d6b2\\tap\\t2104-03-22 16:03:20\\n1\\t10020740\\tNone\\t55522869\\t27776756-1d9ef4fc-cd8dd0ca-1453072f-12c0f484\\tap\\t2104-03-23 05:19:57\\n2\\t10020740\\tNone\\t58116104\\td3dbb519-1ea6cf3c-bb4c1fd8-79bb117a-1dc3869f\\tap\\t2104-03-23 11:25:11\\n3\\t10020740\\tNone\\t59646202\\t7b7c6181-fcc7d50e-b65598fc-03cc32e9-4e291b92\\tap\\t2104-03-23 11:57:55\\n4\\t10020740\\tNone\\t57133090\\t1bb8280b-6a7c669b-0ab83cee-4fb91bc2-f04f45af\\tap\\t2104-03-30 04:44:36\\n*/'}}, name='text2SQL', id='6b430a1f-cb6a-4d95-ad5b-00630f06f6ca'), FunctionMessage(content=\"{'status': 'success', 'data': [{'image_id': 'b10aab2c-33220e4a-23c182e9-06ea4916-4a79547a'}]}\", additional_kwargs={'idx': 2, 'args': {'problem': 'What is the image_id for the study with id 55949143?', 'context': 'CREATE TABLE \"PATIENTS\" (\\n\\trow_id INTEGER, \\n\\tsubject_id INTEGER, \\n\\tgender TEXT, \\n\\tdob TEXT, \\n\\tdod TEXT\\n)\\n\\n/*\\n5 rows from PATIENTS table:\\nrow_id\\tsubject_id\\tgender\\tdob\\tdod\\n0\\t10020740\\tm\\t2048-03-16 00:00:00\\tNone\\n1\\t10037020\\tm\\t2043-02-15 00:00:00\\tNone\\n2\\t10063856\\tf\\t2042-07-04 00:00:00\\t2103-04-13 00:00:00\\n3\\t10098993\\tf\\t2025-02-23 00:00:00\\t2105-04-17 00:00:00\\n4\\t10104308\\tm\\t2048-02-22 00:00:00\\tNone\\n*/\\n\\n\\nCREATE TABLE \"TB_CXR\" (\\n\\trow_id INTEGER, \\n\\tsubject_id INTEGER, \\n\\thadm_id REAL, \\n\\tstudy_id INTEGER, \\n\\timage_id TEXT, \\n\\tviewposition TEXT, \\n\\tstudydatetime TEXT\\n)\\n\\n/*\\n5 rows from TB_CXR table:\\nrow_id\\tsubject_id\\thadm_id\\tstudy_id\\timage_id\\tviewposition\\tstudydatetime\\n0\\t10020740\\tNone\\t52268471\\t46ee8707-81386f73-3ff804c3-92e6044b-dce8d6b2\\tap\\t2104-03-22 16:03:20\\n1\\t10020740\\tNone\\t55522869\\t27776756-1d9ef4fc-cd8dd0ca-1453072f-12c0f484\\tap\\t2104-03-23 05:19:57\\n2\\t10020740\\tNone\\t58116104\\td3dbb519-1ea6cf3c-bb4c1fd8-79bb117a-1dc3869f\\tap\\t2104-03-23 11:25:11\\n3\\t10020740\\tNone\\t59646202\\t7b7c6181-fcc7d50e-b65598fc-03cc32e9-4e291b92\\tap\\t2104-03-23 11:57:55\\n4\\t10020740\\tNone\\t57133090\\t1bb8280b-6a7c669b-0ab83cee-4fb91bc2-f04f45af\\tap\\t2104-03-30 04:44:36\\n*/'}}, name='text2SQL', id='ae789280-d3e1-422e-b427-ef15bdd53a30'), FunctionMessage(content=\"{'status': 'success', 'data': [{'image_id': 'f985d27b-5a989257-7fe132f0-e206bd7a-5594d84b'}]}\", additional_kwargs={'idx': 3, 'args': {'problem': 'What is the image_id for the last study?', 'context': 'CREATE TABLE \"PATIENTS\" (\\n\\trow_id INTEGER, \\n\\tsubject_id INTEGER, \\n\\tgender TEXT, \\n\\tdob TEXT, \\n\\tdod TEXT\\n)\\n\\n/*\\n5 rows from PATIENTS table:\\nrow_id\\tsubject_id\\tgender\\tdob\\tdod\\n0\\t10020740\\tm\\t2048-03-16 00:00:00\\tNone\\n1\\t10037020\\tm\\t2043-02-15 00:00:00\\tNone\\n2\\t10063856\\tf\\t2042-07-04 00:00:00\\t2103-04-13 00:00:00\\n3\\t10098993\\tf\\t2025-02-23 00:00:00\\t2105-04-17 00:00:00\\n4\\t10104308\\tm\\t2048-02-22 00:00:00\\tNone\\n*/\\n\\n\\nCREATE TABLE \"TB_CXR\" (\\n\\trow_id INTEGER, \\n\\tsubject_id INTEGER, \\n\\thadm_id REAL, \\n\\tstudy_id INTEGER, \\n\\timage_id TEXT, \\n\\tviewposition TEXT, \\n\\tstudydatetime TEXT\\n)\\n\\n/*\\n5 rows from TB_CXR table:\\nrow_id\\tsubject_id\\thadm_id\\tstudy_id\\timage_id\\tviewposition\\tstudydatetime\\n0\\t10020740\\tNone\\t52268471\\t46ee8707-81386f73-3ff804c3-92e6044b-dce8d6b2\\tap\\t2104-03-22 16:03:20\\n1\\t10020740\\tNone\\t55522869\\t27776756-1d9ef4fc-cd8dd0ca-1453072f-12c0f484\\tap\\t2104-03-23 05:19:57\\n2\\t10020740\\tNone\\t58116104\\td3dbb519-1ea6cf3c-bb4c1fd8-79bb117a-1dc3869f\\tap\\t2104-03-23 11:25:11\\n3\\t10020740\\tNone\\t59646202\\t7b7c6181-fcc7d50e-b65598fc-03cc32e9-4e291b92\\tap\\t2104-03-23 11:57:55\\n4\\t10020740\\tNone\\t57133090\\t1bb8280b-6a7c669b-0ab83cee-4fb91bc2-f04f45af\\tap\\t2104-03-30 04:44:36\\n*/'}}, name='text2SQL', id='2832df5d-08a6-44a5-bf83-c0e53fb7356a'), FunctionMessage(content='ERROR(Failed to call image_analysis with args {\\'question\\': \\'Are there any abnormalities in this study?\\', \\'context\\': \\'$2\\'}. Args resolved to {\\'question\\': \\'Are there any abnormalities in this study?\\', \\'context\\': \"{\\'status\\': \\'success\\', \\'data\\': [{\\'image_id\\': \\'b10aab2c-33220e4a-23c182e9-06ea4916-4a79547a\\'}]}\"}. Error: BadRequestError(\"Error code: 400 - {\\'error\\': {\\'message\\': \\'Invalid content type. image_url is only supported by certain models.\\', \\'type\\': \\'invalid_request_error\\', \\'param\\': \\'messages.[2].content.[0].type\\', \\'code\\': None}}\"))', additional_kwargs={'idx': 4, 'args': {'question': 'Are there any abnormalities in this study?', 'context': '$2'}}, name='image_analysis', id='f896a6eb-11fb-474f-83d5-087cf574f65f'), FunctionMessage(content='ERROR(Failed to call image_analysis with args {\\'question\\': \\'Are there any abnormalities in this study?\\', \\'context\\': \\'$3\\'}. Args resolved to {\\'question\\': \\'Are there any abnormalities in this study?\\', \\'context\\': \"{\\'status\\': \\'success\\', \\'data\\': [{\\'image_id\\': \\'f985d27b-5a989257-7fe132f0-e206bd7a-5594d84b\\'}]}\"}. Error: BadRequestError(\"Error code: 400 - {\\'error\\': {\\'message\\': \\'Invalid content type. image_url is only supported by certain models.\\', \\'type\\': \\'invalid_request_error\\', \\'param\\': \\'messages.[2].content.[0].type\\', \\'code\\': None}}\"))', additional_kwargs={'idx': 5, 'args': {'question': 'Are there any abnormalities in this study?', 'context': '$3'}}, name='image_analysis', id='373388d6-858e-4b75-ab0a-4c0f1b8b6ac9'), FunctionMessage(content='join', additional_kwargs={'idx': 6, 'args': ()}, name='join', id='7f9e7e46-1ff5-46e6-b4aa-b9a97014a401'), AIMessage(content=\"Thought: While we have identified the study IDs and image IDs for the current and previous studies, the image analysis tool failed to process the image IDs to provide information on the presence of abnormalities in these studies. Therefore, we're unable to determine whether any abnormalities are still absent in the study 55949143 compared to the last study.\", id='8b80e02e-cd1b-4ed0-9292-e9ca253dda0f'), SystemMessage(content=\"Context from last attempt: The image analysis tool failed to process the image IDs and as a result, I'm unable to determine the presence or absence of abnormalities in the studies. You may need to consult a radiologist or medical expert to analyze the images obtained from these studies. - Begin counting at : 7\", id='43b59aa2-5f39-43bc-972b-be107175f77a')]\n",
                        "[HumanMessage(content=[{'question': 'is there any evidence of abnormalities still absent in the 55949143 study compared to the last study?', 'database_schema': '\\nCREATE TABLE \"PATIENTS\" (\\n\\trow_id INTEGER, \\n\\tsubject_id INTEGER, \\n\\tgender TEXT, \\n\\tdob TEXT, \\n\\tdod TEXT\\n)\\n\\n/*\\n5 rows from PATIENTS table:\\nrow_id\\tsubject_id\\tgender\\tdob\\tdod\\n0\\t10020740\\tm\\t2048-03-16 00:00:00\\tNone\\n1\\t10037020\\tm\\t2043-02-15 00:00:00\\tNone\\n2\\t10063856\\tf\\t2042-07-04 00:00:00\\t2103-04-13 00:00:00\\n3\\t10098993\\tf\\t2025-02-23 00:00:00\\t2105-04-17 00:00:00\\n4\\t10104308\\tm\\t2048-02-22 00:00:00\\tNone\\n*/\\n\\n\\nCREATE TABLE \"TB_CXR\" (\\n\\trow_id INTEGER, \\n\\tsubject_id INTEGER, \\n\\thadm_id REAL, \\n\\tstudy_id INTEGER, \\n\\timage_id TEXT, \\n\\tviewposition TEXT, \\n\\tstudydatetime TEXT\\n)\\n\\n/*\\n5 rows from TB_CXR table:\\nrow_id\\tsubject_id\\thadm_id\\tstudy_id\\timage_id\\tviewposition\\tstudydatetime\\n0\\t10020740\\tNone\\t52268471\\t46ee8707-81386f73-3ff804c3-92e6044b-dce8d6b2\\tap\\t2104-03-22 16:03:20\\n1\\t10020740\\tNone\\t55522869\\t27776756-1d9ef4fc-cd8dd0ca-1453072f-12c0f484\\tap\\t2104-03-23 05:19:57\\n2\\t10020740\\tNone\\t58116104\\td3dbb519-1ea6cf3c-bb4c1fd8-79bb117a-1dc3869f\\tap\\t2104-03-23 11:25:11\\n3\\t10020740\\tNone\\t59646202\\t7b7c6181-fcc7d50e-b65598fc-03cc32e9-4e291b92\\tap\\t2104-03-23 11:57:55\\n4\\t10020740\\tNone\\t57133090\\t1bb8280b-6a7c669b-0ab83cee-4fb91bc2-f04f45af\\tap\\t2104-03-30 04:44:36\\n*/'}], id='21713245-eecf-4494-a4ff-3263f4c7ea35'), FunctionMessage(content=\"{'status': 'success', 'data': [{'study_id': 57610437}]}\", additional_kwargs={'idx': 1, 'args': {'problem': 'What was the last study id before the study with id 55949143?', 'context': 'CREATE TABLE \"PATIENTS\" (\\n\\trow_id INTEGER, \\n\\tsubject_id INTEGER, \\n\\tgender TEXT, \\n\\tdob TEXT, \\n\\tdod TEXT\\n)\\n\\n/*\\n5 rows from PATIENTS table:\\nrow_id\\tsubject_id\\tgender\\tdob\\tdod\\n0\\t10020740\\tm\\t2048-03-16 00:00:00\\tNone\\n1\\t10037020\\tm\\t2043-02-15 00:00:00\\tNone\\n2\\t10063856\\tf\\t2042-07-04 00:00:00\\t2103-04-13 00:00:00\\n3\\t10098993\\tf\\t2025-02-23 00:00:00\\t2105-04-17 00:00:00\\n4\\t10104308\\tm\\t2048-02-22 00:00:00\\tNone\\n*/\\n\\n\\nCREATE TABLE \"TB_CXR\" (\\n\\trow_id INTEGER, \\n\\tsubject_id INTEGER, \\n\\thadm_id REAL, \\n\\tstudy_id INTEGER, \\n\\timage_id TEXT, \\n\\tviewposition TEXT, \\n\\tstudydatetime TEXT\\n)\\n\\n/*\\n5 rows from TB_CXR table:\\nrow_id\\tsubject_id\\thadm_id\\tstudy_id\\timage_id\\tviewposition\\tstudydatetime\\n0\\t10020740\\tNone\\t52268471\\t46ee8707-81386f73-3ff804c3-92e6044b-dce8d6b2\\tap\\t2104-03-22 16:03:20\\n1\\t10020740\\tNone\\t55522869\\t27776756-1d9ef4fc-cd8dd0ca-1453072f-12c0f484\\tap\\t2104-03-23 05:19:57\\n2\\t10020740\\tNone\\t58116104\\td3dbb519-1ea6cf3c-bb4c1fd8-79bb117a-1dc3869f\\tap\\t2104-03-23 11:25:11\\n3\\t10020740\\tNone\\t59646202\\t7b7c6181-fcc7d50e-b65598fc-03cc32e9-4e291b92\\tap\\t2104-03-23 11:57:55\\n4\\t10020740\\tNone\\t57133090\\t1bb8280b-6a7c669b-0ab83cee-4fb91bc2-f04f45af\\tap\\t2104-03-30 04:44:36\\n*/'}}, name='text2SQL', id='6b430a1f-cb6a-4d95-ad5b-00630f06f6ca'), FunctionMessage(content=\"{'status': 'success', 'data': [{'image_id': 'b10aab2c-33220e4a-23c182e9-06ea4916-4a79547a'}]}\", additional_kwargs={'idx': 2, 'args': {'problem': 'What is the image_id for the study with id 55949143?', 'context': 'CREATE TABLE \"PATIENTS\" (\\n\\trow_id INTEGER, \\n\\tsubject_id INTEGER, \\n\\tgender TEXT, \\n\\tdob TEXT, \\n\\tdod TEXT\\n)\\n\\n/*\\n5 rows from PATIENTS table:\\nrow_id\\tsubject_id\\tgender\\tdob\\tdod\\n0\\t10020740\\tm\\t2048-03-16 00:00:00\\tNone\\n1\\t10037020\\tm\\t2043-02-15 00:00:00\\tNone\\n2\\t10063856\\tf\\t2042-07-04 00:00:00\\t2103-04-13 00:00:00\\n3\\t10098993\\tf\\t2025-02-23 00:00:00\\t2105-04-17 00:00:00\\n4\\t10104308\\tm\\t2048-02-22 00:00:00\\tNone\\n*/\\n\\n\\nCREATE TABLE \"TB_CXR\" (\\n\\trow_id INTEGER, \\n\\tsubject_id INTEGER, \\n\\thadm_id REAL, \\n\\tstudy_id INTEGER, \\n\\timage_id TEXT, \\n\\tviewposition TEXT, \\n\\tstudydatetime TEXT\\n)\\n\\n/*\\n5 rows from TB_CXR table:\\nrow_id\\tsubject_id\\thadm_id\\tstudy_id\\timage_id\\tviewposition\\tstudydatetime\\n0\\t10020740\\tNone\\t52268471\\t46ee8707-81386f73-3ff804c3-92e6044b-dce8d6b2\\tap\\t2104-03-22 16:03:20\\n1\\t10020740\\tNone\\t55522869\\t27776756-1d9ef4fc-cd8dd0ca-1453072f-12c0f484\\tap\\t2104-03-23 05:19:57\\n2\\t10020740\\tNone\\t58116104\\td3dbb519-1ea6cf3c-bb4c1fd8-79bb117a-1dc3869f\\tap\\t2104-03-23 11:25:11\\n3\\t10020740\\tNone\\t59646202\\t7b7c6181-fcc7d50e-b65598fc-03cc32e9-4e291b92\\tap\\t2104-03-23 11:57:55\\n4\\t10020740\\tNone\\t57133090\\t1bb8280b-6a7c669b-0ab83cee-4fb91bc2-f04f45af\\tap\\t2104-03-30 04:44:36\\n*/'}}, name='text2SQL', id='ae789280-d3e1-422e-b427-ef15bdd53a30'), FunctionMessage(content=\"{'status': 'success', 'data': [{'image_id': 'f985d27b-5a989257-7fe132f0-e206bd7a-5594d84b'}]}\", additional_kwargs={'idx': 3, 'args': {'problem': 'What is the image_id for the last study?', 'context': 'CREATE TABLE \"PATIENTS\" (\\n\\trow_id INTEGER, \\n\\tsubject_id INTEGER, \\n\\tgender TEXT, \\n\\tdob TEXT, \\n\\tdod TEXT\\n)\\n\\n/*\\n5 rows from PATIENTS table:\\nrow_id\\tsubject_id\\tgender\\tdob\\tdod\\n0\\t10020740\\tm\\t2048-03-16 00:00:00\\tNone\\n1\\t10037020\\tm\\t2043-02-15 00:00:00\\tNone\\n2\\t10063856\\tf\\t2042-07-04 00:00:00\\t2103-04-13 00:00:00\\n3\\t10098993\\tf\\t2025-02-23 00:00:00\\t2105-04-17 00:00:00\\n4\\t10104308\\tm\\t2048-02-22 00:00:00\\tNone\\n*/\\n\\n\\nCREATE TABLE \"TB_CXR\" (\\n\\trow_id INTEGER, \\n\\tsubject_id INTEGER, \\n\\thadm_id REAL, \\n\\tstudy_id INTEGER, \\n\\timage_id TEXT, \\n\\tviewposition TEXT, \\n\\tstudydatetime TEXT\\n)\\n\\n/*\\n5 rows from TB_CXR table:\\nrow_id\\tsubject_id\\thadm_id\\tstudy_id\\timage_id\\tviewposition\\tstudydatetime\\n0\\t10020740\\tNone\\t52268471\\t46ee8707-81386f73-3ff804c3-92e6044b-dce8d6b2\\tap\\t2104-03-22 16:03:20\\n1\\t10020740\\tNone\\t55522869\\t27776756-1d9ef4fc-cd8dd0ca-1453072f-12c0f484\\tap\\t2104-03-23 05:19:57\\n2\\t10020740\\tNone\\t58116104\\td3dbb519-1ea6cf3c-bb4c1fd8-79bb117a-1dc3869f\\tap\\t2104-03-23 11:25:11\\n3\\t10020740\\tNone\\t59646202\\t7b7c6181-fcc7d50e-b65598fc-03cc32e9-4e291b92\\tap\\t2104-03-23 11:57:55\\n4\\t10020740\\tNone\\t57133090\\t1bb8280b-6a7c669b-0ab83cee-4fb91bc2-f04f45af\\tap\\t2104-03-30 04:44:36\\n*/'}}, name='text2SQL', id='2832df5d-08a6-44a5-bf83-c0e53fb7356a'), FunctionMessage(content='ERROR(Failed to call image_analysis with args {\\'question\\': \\'Are there any abnormalities in this study?\\', \\'context\\': \\'$2\\'}. Args resolved to {\\'question\\': \\'Are there any abnormalities in this study?\\', \\'context\\': \"{\\'status\\': \\'success\\', \\'data\\': [{\\'image_id\\': \\'b10aab2c-33220e4a-23c182e9-06ea4916-4a79547a\\'}]}\"}. Error: BadRequestError(\"Error code: 400 - {\\'error\\': {\\'message\\': \\'Invalid content type. image_url is only supported by certain models.\\', \\'type\\': \\'invalid_request_error\\', \\'param\\': \\'messages.[2].content.[0].type\\', \\'code\\': None}}\"))', additional_kwargs={'idx': 4, 'args': {'question': 'Are there any abnormalities in this study?', 'context': '$2'}}, name='image_analysis', id='f896a6eb-11fb-474f-83d5-087cf574f65f'), FunctionMessage(content='ERROR(Failed to call image_analysis with args {\\'question\\': \\'Are there any abnormalities in this study?\\', \\'context\\': \\'$3\\'}. Args resolved to {\\'question\\': \\'Are there any abnormalities in this study?\\', \\'context\\': \"{\\'status\\': \\'success\\', \\'data\\': [{\\'image_id\\': \\'f985d27b-5a989257-7fe132f0-e206bd7a-5594d84b\\'}]}\"}. Error: BadRequestError(\"Error code: 400 - {\\'error\\': {\\'message\\': \\'Invalid content type. image_url is only supported by certain models.\\', \\'type\\': \\'invalid_request_error\\', \\'param\\': \\'messages.[2].content.[0].type\\', \\'code\\': None}}\"))', additional_kwargs={'idx': 5, 'args': {'question': 'Are there any abnormalities in this study?', 'context': '$3'}}, name='image_analysis', id='373388d6-858e-4b75-ab0a-4c0f1b8b6ac9'), FunctionMessage(content='join', additional_kwargs={'idx': 6, 'args': ()}, name='join', id='7f9e7e46-1ff5-46e6-b4aa-b9a97014a401'), AIMessage(content=\"Thought: While we have identified the study IDs and image IDs for the current and previous studies, the image analysis tool failed to process the image IDs to provide information on the presence of abnormalities in these studies. Therefore, we're unable to determine whether any abnormalities are still absent in the study 55949143 compared to the last study.\", id='8b80e02e-cd1b-4ed0-9292-e9ca253dda0f'), SystemMessage(content=\"Context from last attempt: The image analysis tool failed to process the image IDs and as a result, I'm unable to determine the presence or absence of abnormalities in the studies. You may need to consult a radiologist or medical expert to analyze the images obtained from these studies. - Begin counting at : 7\", id='43b59aa2-5f39-43bc-972b-be107175f77a'), AIMessage(content=\"Thought: While we have identified the study IDs and image IDs for the current and previous studies, the image analysis tool failed to process the image IDs to provide information on the presence of abnormalities in these studies. Therefore, we're unable to determine whether any abnormalities are still absent in the study 55949143 compared to the last study.\", id='ed446837-a586-49ad-b95f-0a799d7cee29'), AIMessage(content=\"The image analysis tool failed to process the image IDs and as a result, I'm unable to determine the presence or absence of abnormalities in the studies. You may need to consult a radiologist or medical expert to analyze the images obtained from these studies.\", id='e3ed7325-39b3-4883-8e25-4095cad0526b')]\n"
                    ]
                }
            ],
            "source": [
                "\n",
                "db_path=\"/home/ubuntu/workspace/XMODE-LLMCompiler/mimic_iv_cxr.db\"\n",
                "# \"enumerate all detected abnormalities, given the study 57883509.\"\n",
                "example_question=\"Is there any evidence in the most recent study for patient 13859433 this year indicating the continued absence of anatomical findings in the left hilar structure compared to the previous study?\"\n",
                "tables=['TB_CXR','PATIENTS']\n",
                "tables= [t.upper()for t in tables]\n",
                "# id= 2000\n",
                "database_schema =_get_db_schema(db_path, tables)\n",
                "#\"could you list all anatomical locations related to any diseases newly detected in the 55411906 study versus the findings of the 59867439 study?\"\n",
                "#\"how many days have elapsed from the first time patient 19631398's chest x-ray demonstrated any anatomical findings in the mediastinum in 2103?\"\n",
                "#\"what's the count of patients whose chest x-ray studies since 15 month ago demonstrated any anatomical findings in the cardiac silhouette?\"\n",
                "#\"did patient 12354194 undergo the procedure on two vessels procedure within the same month after a chest x-ray study revealed any anatomical findings until 2 year ago?\"\n",
                "\n",
                "inputs = {\"question\": example_question, \"database_schema\":database_schema}\n",
                "# config = {\"configurable\": {\"thread_id\": \"xmode-2000\"}}\n",
                "inputs=[HumanMessage(content=[inputs])]\n",
                "\n",
                "for output in chain.stream(inputs, stream_mode=\"values\"):\n",
                "   print(output)\n",
                "   # for key, value in output.items():\n",
                "   #    print(f\"output from node '{key}'\")\n",
                "   #    print(\"-----\")\n",
                "   #    print(value)\n",
                "# _steps_dict = chain.stream(\n",
                "#     [\n",
                "#         HumanMessage(\n",
                "#             content=[chain_input]\n",
                "#         ),\n",
                "    \n",
                "#     ],\n",
                "#     # config=config,\n",
                "#     #stream_mode=\"debug\",\n",
                "# )\n",
                "\n"
            ]
        },
        {
            "cell_type": "code",
            "execution_count": 4,
            "metadata": {},
            "outputs": [],
            "source": [
                "to_json=[]\n",
                "for msg in output:\n",
                "      value= msg.to_json()['kwargs']\n",
                "      to_json.append(value)"
            ]
        },
        {
            "cell_type": "code",
            "execution_count": null,
            "metadata": {},
            "outputs": [],
            "source": [
                "to_json"
            ]
        },
        {
            "cell_type": "code",
            "execution_count": null,
            "metadata": {},
            "outputs": [],
            "source": [
                "\n",
                "ast.literal_eval(output[-1].content)"
            ]
        },
        {
            "cell_type": "code",
            "execution_count": 15,
            "metadata": {},
            "outputs": [],
            "source": [
                "from langchain.load.dump import dumps\n",
                "import json\n",
                "from pprint import pprint\n",
                "\n",
                "# print(output[-1].pretty_print())\n",
                "\n",
                "    \n",
                "# for message in output:\n",
                "  \n",
                "# #    message.pretty_print()\n",
                "#     pprint(message)  \n",
                "\n",
                "\n",
                "\n",
                "\n",
                "with open('steps_dict.json', 'w', encoding='utf-8') as f:\n",
                "        json.dump(to_json, f, ensure_ascii=False, indent=4)"
            ]
        },
        {
            "cell_type": "code",
            "execution_count": null,
            "metadata": {},
            "outputs": [],
            "source": [
                "from IPython.display import Image, display\n",
                "\n",
                "\n",
                "display(Image(chain.get_graph().draw_mermaid_png()))\n"
            ]
        },
        {
            "cell_type": "markdown",
            "metadata": {},
            "source": [
                "https://smith.langchain.com/public/c9acfa5f-c8e2-4203-bb48-9ce046621f09/r"
            ]
        },
        {
            "cell_type": "code",
            "execution_count": null,
            "metadata": {},
            "outputs": [],
            "source": [
                "import ast\n",
                "rs=\"{'Summary': 'No new diseases found in the right lower lung zone.', 'details': 'In the last and previous studies for patient 19103929 this year, there are no visible diseases in the right lower lung zone.', 'source': 'Image analysis of the last and previous studies.', 'inference': 'no', 'extra explanation': 'Both the last and previous studies show no diseases in the right lower lung zone.'}\"\n",
                "print(ast.literal_eval(rs))"
            ]
        }
    ],
    "metadata": {
        "kernelspec": {
            "display_name": "xmode",
            "language": "python",
            "name": "python3"
        },
        "language_info": {
            "codemirror_mode": {
                "name": "ipython",
                "version": 3
            },
            "file_extension": ".py",
            "mimetype": "text/x-python",
            "name": "python",
            "nbconvert_exporter": "python",
            "pygments_lexer": "ipython3",
            "version": "3.10.8"
        }
    },
    "nbformat": 4,
    "nbformat_minor": 2
}

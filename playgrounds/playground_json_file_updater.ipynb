{
 "cells": [
  {
   "cell_type": "code",
   "execution_count": 1,
   "metadata": {},
   "outputs": [],
   "source": [
    "# a func to read json file and return a list of dict\n",
    "import json\n",
    "from pathlib import Path\n",
    "\n",
    "file_path = 'test_json_update.json'\n",
    "# this function will read the json file and return a list of dict\n",
    "def load_json(file_path=file_path):\n",
    "    fp = Path(file_path)\n",
    "    if not fp.exists():\n",
    "        fp.touch()\n",
    "        with open(file_path, 'w') as f:\n",
    "            data = [{\"message\": \"Initial message.\"}]\n",
    "            json.dump(data, f, indent=4)\n",
    "    else:\n",
    "        with open(file_path, 'r') as f:\n",
    "            data = json.load(f)\n",
    "    return data\n",
    "\n",
    "def append_json(data, file_path=file_path):\n",
    "    fp = Path(file_path)\n",
    "    if not fp.exists():\n",
    "        raise FileNotFoundError(f\"File {file_path} not found.\")\n",
    "    with open(file_path, 'r+') as f:\n",
    "        _data = json.load(f)\n",
    "        if type(data) == dict:\n",
    "            _data.append(data)\n",
    "        elif type(data) == list:\n",
    "            _data.extend(data)\n",
    "        else:\n",
    "            raise ValueError(f\"Invalid data type: {type(data)}\")\n",
    "        f.seek(0)\n",
    "        json.dump(_data, f, indent=4)\n",
    "    return _data"
   ]
  },
  {
   "cell_type": "code",
   "execution_count": 2,
   "metadata": {},
   "outputs": [
    {
     "data": {
      "text/plain": [
       "[{'message': 'Initial message.'}]"
      ]
     },
     "execution_count": 2,
     "metadata": {},
     "output_type": "execute_result"
    }
   ],
   "source": [
    "load_json(file_path)"
   ]
  },
  {
   "cell_type": "code",
   "execution_count": 3,
   "metadata": {},
   "outputs": [
    {
     "data": {
      "text/plain": [
       "[{'message': 'Initial message.'}, {'message': 'Second message.'}]"
      ]
     },
     "execution_count": 3,
     "metadata": {},
     "output_type": "execute_result"
    }
   ],
   "source": [
    "append_json({\"message\": \"Second message.\"}, file_path)"
   ]
  },
  {
   "cell_type": "code",
   "execution_count": 4,
   "metadata": {},
   "outputs": [
    {
     "data": {
      "text/plain": [
       "[{'message': 'Initial message.'},\n",
       " {'message': 'Second message.'},\n",
       " {'message': 'Third message.'},\n",
       " {'message': 'Fourth message.'}]"
      ]
     },
     "execution_count": 4,
     "metadata": {},
     "output_type": "execute_result"
    }
   ],
   "source": [
    "append_json([{\"message\": \"Third message.\"}, {\"message\": \"Fourth message.\"}], file_path)"
   ]
  },
  {
   "cell_type": "code",
   "execution_count": 5,
   "metadata": {},
   "outputs": [
    {
     "ename": "ValueError",
     "evalue": "Invalid data type: <class 'str'>",
     "output_type": "error",
     "traceback": [
      "\u001b[0;31m---------------------------------------------------------------------------\u001b[0m",
      "\u001b[0;31mValueError\u001b[0m                                Traceback (most recent call last)",
      "Cell \u001b[0;32mIn[5], line 1\u001b[0m\n\u001b[0;32m----> 1\u001b[0m \u001b[43mappend_json\u001b[49m\u001b[43m(\u001b[49m\u001b[38;5;124;43m\"\u001b[39;49m\u001b[38;5;124;43mFifth message.\u001b[39;49m\u001b[38;5;124;43m\"\u001b[39;49m\u001b[43m,\u001b[49m\u001b[43m \u001b[49m\u001b[43mfile_path\u001b[49m\u001b[43m)\u001b[49m\n",
      "Cell \u001b[0;32mIn[1], line 30\u001b[0m, in \u001b[0;36mappend_json\u001b[0;34m(data, file_path)\u001b[0m\n\u001b[1;32m     28\u001b[0m     _data\u001b[38;5;241m.\u001b[39mextend(data)\n\u001b[1;32m     29\u001b[0m \u001b[38;5;28;01melse\u001b[39;00m:\n\u001b[0;32m---> 30\u001b[0m     \u001b[38;5;28;01mraise\u001b[39;00m \u001b[38;5;167;01mValueError\u001b[39;00m(\u001b[38;5;124mf\u001b[39m\u001b[38;5;124m\"\u001b[39m\u001b[38;5;124mInvalid data type: \u001b[39m\u001b[38;5;132;01m{\u001b[39;00m\u001b[38;5;28mtype\u001b[39m(data)\u001b[38;5;132;01m}\u001b[39;00m\u001b[38;5;124m\"\u001b[39m)\n\u001b[1;32m     31\u001b[0m f\u001b[38;5;241m.\u001b[39mseek(\u001b[38;5;241m0\u001b[39m)\n\u001b[1;32m     32\u001b[0m json\u001b[38;5;241m.\u001b[39mdump(_data, f, indent\u001b[38;5;241m=\u001b[39m\u001b[38;5;241m4\u001b[39m)\n",
      "\u001b[0;31mValueError\u001b[0m: Invalid data type: <class 'str'>"
     ]
    }
   ],
   "source": [
    "append_json(\"Fifth message.\", file_path)"
   ]
  }
 ],
 "metadata": {
  "kernelspec": {
   "display_name": "m3lx",
   "language": "python",
   "name": "python3"
  },
  "language_info": {
   "codemirror_mode": {
    "name": "ipython",
    "version": 3
   },
   "file_extension": ".py",
   "mimetype": "text/x-python",
   "name": "python",
   "nbconvert_exporter": "python",
   "pygments_lexer": "ipython3",
   "version": "3.10.8"
  }
 },
 "nbformat": 4,
 "nbformat_minor": 2
}

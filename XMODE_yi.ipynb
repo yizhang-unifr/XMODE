{
    "cells": [
        {
            "cell_type": "code",
            "execution_count": 1,
            "metadata": {},
            "outputs": [],
            "source": [
                "%%capture --no-stderr\n",
                "%pip install -U --quiet langchain==0.2.12 langchain-core==0.2.27 langchain-openai==0.1.20 langgraph==0.1.19 langsmith==0.1.96  numexpr langchainhub sqlalchemy langchain-community"
            ]
        },
        {
            "cell_type": "code",
            "execution_count": 2,
            "metadata": {},
            "outputs": [],
            "source": [
                "import getpass\n",
                "import os\n",
                "\n",
                "from langchain_openai import ChatOpenAI\n",
                "\n",
                "# Imported from the https://github.com/langchain-ai/langgraph/tree/main/examples/plan-and-execute repo\n",
                "from tools.image_analysis_tool import get_image_analysis_tools\n",
                "from tools.text2SQL import get_text2SQL_tools\n",
                "\n",
                "from langchain_core.pydantic_v1 import BaseModel, Field\n",
                "from src.joiner import *\n",
                "from src.build_graph import graph_construction, graph_construction_report, graph_construction_m3ae\n",
                "\n",
                "from langchain_core.messages import (\n",
                "    BaseMessage,\n",
                "    FunctionMessage,\n",
                "    HumanMessage,\n",
                "    SystemMessage,\n",
                ")\n",
                "\n",
                "from src.planner import *\n",
                "from src.task_fetching_unit import *\n",
                "from src.joiner import *\n",
                "from src.joiner import parse_joiner_output\n",
                "from src.utils import _get_db_schema\n",
                "from typing import Dict\n",
                "from src.utils import correct_malformed_json, CustomJSONEncoder\n",
                "import ast\n",
                "# from langgraph.checkpoint.sqlite import SqliteSaver\n",
                "\n",
                "\n",
                "from langgraph.graph import END, MessageGraph, START,StateGraph\n",
                "\n",
                "def _set_if_undefined(var: str):\n",
                "    if not os.environ.get(var):\n",
                "        os.environ[var] = getpass.getpass(f\"Please provide your {var}\")\n",
                "\n",
                "_set_if_undefined(\"OPENAI_API_KEY\")\n",
                "_set_if_undefined(\"LANGCHAIN_API_KEY\")\n",
                "_set_if_undefined(\"LANGCHAIN_API_YI_KEY\")\n",
                "os.environ[\"LANGCHAIN_API_KEY\"] = os.environ[\"LANGCHAIN_API_YI_KEY\"]\n",
                "# _set_if_undefined(\"TAVILY_API_KEY\")\n",
                "# # Optional, add tracing in LangSmith\n",
                "\n",
                "os.environ[\"LANGCHAIN_TRACING_V2\"] = \"true\"\n",
                "os.environ[\"LANGCHAIN_PROJECT\"] = \"XMODE\"\n",
                "\n"
            ]
        },
        {
            "cell_type": "code",
            "execution_count": 3,
            "metadata": {},
            "outputs": [
                {
                    "name": "stderr",
                    "output_type": "stream",
                    "text": [
                        "/home/ubuntu/.pyenv/versions/3.10.8/envs/m3lx/lib/python3.10/site-packages/langchain_core/_api/deprecation.py:139: LangChainDeprecationWarning: LangChain has introduced a method called `with_structured_output` that is available on ChatModels capable of tool calling. You can read more about the method here: <https://python.langchain.com/docs/modules/model_io/chat/structured_output/>.Please follow our extraction use case documentation for more guidelines on how to do information extraction with LLMs. <https://python.langchain.com/docs/use_cases/extraction/>. If you notice other issues, please provide feedback here: <https://github.com/langchain-ai/langchain/discussions/18154>\n",
                        "  warn_deprecated(\n"
                    ]
                }
            ],
            "source": [
                "model=\"gpt-4o\" #gpt-4-turbo-preview\n",
                "#memory = SqliteSaver.from_conn_string(\":memory:\")\n",
                "\n",
                "chain = graph_construction_m3ae(model)"
            ]
        },
        {
            "cell_type": "code",
            "execution_count": 4,
            "metadata": {},
            "outputs": [
                {
                    "name": "stdout",
                    "output_type": "stream",
                    "text": [
                        "[HumanMessage(content=[{'question': 'Is there any evidence in the most recent study for patient 13859433 this year indicating the continued absence of anatomical findings in the left hilar structure compared to the previous study?', 'database_schema': None}], id='a1ff2fff-1319-444d-bed7-04e0e7eacf09')]\n",
                        "chain_input: {'problem': 'Retrieve the most recent study for patient 13859433 this year.', 'db_schema': '{\"ADMISSIONS\": {\"COL\": [[\"row_id\", \"INTEGER\"], [\"subject_id\", \"INTEGER\"], [\"hadm_id\", \"INTEGER\"], [\"admittime\", \"TEXT\"], [\"dischtime\", \"TEXT\"], [\"admission_type\", \"TEXT\"], [\"admission_location\", \"TEXT\"], [\"discharge_location\", \"TEXT\"], [\"insurance\", \"TEXT\"], [\"language\", \"TEXT\"], [\"marital_status\", \"TEXT\"], [\"age\", \"INTEGER\"]], \"FK\": []}, \"CHARTEVENTS\": {\"COL\": [[\"row_id\", \"INTEGER\"], [\"subject_id\", \"INTEGER\"], [\"hadm_id\", \"INTEGER\"], [\"stay_id\", \"INTEGER\"], [\"charttime\", \"TEXT\"], [\"itemid\", \"INTEGER\"], [\"valuenum\", \"REAL\"], [\"valueuom\", \"TEXT\"]], \"FK\": []}, \"COST\": {\"COL\": [[\"row_id\", \"INTEGER\"], [\"subject_id\", \"INTEGER\"], [\"hadm_id\", \"REAL\"], [\"event_type\", \"TEXT\"], [\"event_id\", \"INTEGER\"], [\"chargetime\", \"TEXT\"], [\"cost\", \"REAL\"]], \"FK\": []}, \"D_ICD_DIAGNOSES\": {\"COL\": [[\"row_id\", \"INTEGER\"], [\"icd_code\", \"TEXT\"], [\"long_title\", \"TEXT\"]], \"FK\": []}, \"D_ICD_PROCEDURES\": {\"COL\": [[\"row_id\", \"INTEGER\"], [\"icd_code\", \"TEXT\"], [\"long_title\", \"TEXT\"]], \"FK\": []}, \"D_ITEMS\": {\"COL\": [[\"row_id\", \"INTEGER\"], [\"itemid\", \"INTEGER\"], [\"label\", \"TEXT\"], [\"abbreviation\", \"TEXT\"], [\"linksto\", \"TEXT\"]], \"FK\": []}, \"D_LABITEMS\": {\"COL\": [[\"row_id\", \"INTEGER\"], [\"itemid\", \"INTEGER\"], [\"label\", \"TEXT\"]], \"FK\": []}, \"ICUSTAYS\": {\"COL\": [[\"row_id\", \"INTEGER\"], [\"subject_id\", \"INTEGER\"], [\"hadm_id\", \"INTEGER\"], [\"stay_id\", \"INTEGER\"], [\"first_careunit\", \"TEXT\"], [\"last_careunit\", \"TEXT\"], [\"intime\", \"TEXT\"], [\"outtime\", \"TEXT\"]], \"FK\": []}, \"INPUTEVENTS\": {\"COL\": [[\"row_id\", \"INTEGER\"], [\"subject_id\", \"INTEGER\"], [\"hadm_id\", \"INTEGER\"], [\"stay_id\", \"INTEGER\"], [\"starttime\", \"TEXT\"], [\"itemid\", \"REAL\"], [\"amount\", \"REAL\"]], \"FK\": []}, \"LABEVENTS\": {\"COL\": [[\"row_id\", \"INTEGER\"], [\"subject_id\", \"INTEGER\"], [\"hadm_id\", \"REAL\"], [\"itemid\", \"INTEGER\"], [\"charttime\", \"TEXT\"], [\"valuenum\", \"REAL\"], [\"valueuom\", \"TEXT\"]], \"FK\": []}, \"MICROBIOLOGYEVENTS\": {\"COL\": [[\"row_id\", \"INTEGER\"], [\"subject_id\", \"INTEGER\"], [\"hadm_id\", \"REAL\"], [\"charttime\", \"TEXT\"], [\"spec_type_desc\", \"TEXT\"], [\"test_name\", \"TEXT\"], [\"org_name\", \"TEXT\"]], \"FK\": []}, \"OUTPUTEVENTS\": {\"COL\": [[\"row_id\", \"INTEGER\"], [\"subject_id\", \"INTEGER\"], [\"hadm_id\", \"INTEGER\"], [\"stay_id\", \"INTEGER\"], [\"charttime\", \"TEXT\"], [\"itemid\", \"REAL\"], [\"value\", \"REAL\"]], \"FK\": []}, \"TB_CXR_PLUS\": {\"COL\": [[\"row_id\", \"INTEGER\"], [\"subject_id\", \"INTEGER\"], [\"hadm_id\", \"REAL\"], [\"study_id\", \"INTEGER\"], [\"image_id\", \"TEXT\"], [\"viewposition\", \"TEXT\"], [\"studydatetime\", \"TEXT\"], [\"studyorder\", \"REAL\"], [\"object\", \"TEXT\"], [\"relation\", \"INTEGER\"], [\"attribute\", \"TEXT\"], [\"category\", \"TEXT\"], [\"ct_ratio\", \"REAL\"], [\"mt_ratio\", \"REAL\"]], \"FK\": []}, \"TRANSFERS\": {\"COL\": [[\"row_id\", \"INTEGER\"], [\"subject_id\", \"INTEGER\"], [\"hadm_id\", \"REAL\"], [\"transfer_id\", \"INTEGER\"], [\"eventtype\", \"TEXT\"], [\"careunit\", \"TEXT\"], [\"intime\", \"TEXT\"], [\"outtime\", \"TEXT\"]], \"FK\": []}, \"DIAGNOSES_ICD\": {\"COL\": [[\"row_id\", \"INTEGER\"], [\"subject_id\", \"INTEGER\"], [\"hadm_id\", \"INTEGER\"], [\"icd_code\", \"TEXT\"], [\"charttime\", \"TEXT\"]], \"FK\": [[\"DIAGNOSES_ICD.subject_id\", \"ADMISSIONS.subject_id\"], [\"DIAGNOSES_ICD.icd_code\", \"D_ICD_DIAGNOSES.icd_code\"]]}, \"PATIENTS\": {\"COL\": [[\"row_id\", \"INTEGER\"], [\"subject_id\", \"INTEGER\"], [\"gender\", \"TEXT\"], [\"dob\", \"TEXT\"], [\"dod\", \"TEXT\"]], \"FK\": [[\"PATIENTS.subject_id\", \"ADMISSIONS.subject_id\"]]}, \"PRESCRIPTIONS\": {\"COL\": [[\"row_id\", \"INTEGER\"], [\"subject_id\", \"INTEGER\"], [\"hadm_id\", \"INTEGER\"], [\"starttime\", \"TEXT\"], [\"stoptime\", \"TEXT\"], [\"drug\", \"TEXT\"], [\"dose_val_rx\", \"REAL\"], [\"dose_unit_rx\", \"TEXT\"], [\"route\", \"TEXT\"]], \"FK\": [[\"PRESCRIPTIONS.subject_id\", \"ADMISSIONS.subject_id\"]]}, \"PROCEDURES_ICD\": {\"COL\": [[\"row_id\", \"INTEGER\"], [\"subject_id\", \"INTEGER\"], [\"hadm_id\", \"INTEGER\"], [\"icd_code\", \"TEXT\"], [\"charttime\", \"TEXT\"]], \"FK\": [[\"PROCEDURES_ICD.subject_id\", \"ADMISSIONS.subject_id\"], [\"PROCEDURES_ICD.icd_code\", \"D_ICD_PROCEDURES.icd_code\"]]}, \"TB_CXR\": {\"COL\": [[\"row_id\", \"INTEGER\"], [\"subject_id\", \"INTEGER\"], [\"hadm_id\", \"REAL\"], [\"study_id\", \"INTEGER\"], [\"image_id\", \"TEXT\"], [\"viewposition\", \"TEXT\"], [\"studydatetime\", \"TEXT\"]], \"FK\": [[\"TB_CXR.subject_id\", \"ADMISSIONS.subject_id\"]]}}'}\n",
                        "chain_input: {'problem': 'Retrieve the previous study for patient 13859433.', 'db_schema': '{\"ADMISSIONS\": {\"COL\": [[\"row_id\", \"INTEGER\"], [\"subject_id\", \"INTEGER\"], [\"hadm_id\", \"INTEGER\"], [\"admittime\", \"TEXT\"], [\"dischtime\", \"TEXT\"], [\"admission_type\", \"TEXT\"], [\"admission_location\", \"TEXT\"], [\"discharge_location\", \"TEXT\"], [\"insurance\", \"TEXT\"], [\"language\", \"TEXT\"], [\"marital_status\", \"TEXT\"], [\"age\", \"INTEGER\"]], \"FK\": []}, \"CHARTEVENTS\": {\"COL\": [[\"row_id\", \"INTEGER\"], [\"subject_id\", \"INTEGER\"], [\"hadm_id\", \"INTEGER\"], [\"stay_id\", \"INTEGER\"], [\"charttime\", \"TEXT\"], [\"itemid\", \"INTEGER\"], [\"valuenum\", \"REAL\"], [\"valueuom\", \"TEXT\"]], \"FK\": []}, \"COST\": {\"COL\": [[\"row_id\", \"INTEGER\"], [\"subject_id\", \"INTEGER\"], [\"hadm_id\", \"REAL\"], [\"event_type\", \"TEXT\"], [\"event_id\", \"INTEGER\"], [\"chargetime\", \"TEXT\"], [\"cost\", \"REAL\"]], \"FK\": []}, \"D_ICD_DIAGNOSES\": {\"COL\": [[\"row_id\", \"INTEGER\"], [\"icd_code\", \"TEXT\"], [\"long_title\", \"TEXT\"]], \"FK\": []}, \"D_ICD_PROCEDURES\": {\"COL\": [[\"row_id\", \"INTEGER\"], [\"icd_code\", \"TEXT\"], [\"long_title\", \"TEXT\"]], \"FK\": []}, \"D_ITEMS\": {\"COL\": [[\"row_id\", \"INTEGER\"], [\"itemid\", \"INTEGER\"], [\"label\", \"TEXT\"], [\"abbreviation\", \"TEXT\"], [\"linksto\", \"TEXT\"]], \"FK\": []}, \"D_LABITEMS\": {\"COL\": [[\"row_id\", \"INTEGER\"], [\"itemid\", \"INTEGER\"], [\"label\", \"TEXT\"]], \"FK\": []}, \"ICUSTAYS\": {\"COL\": [[\"row_id\", \"INTEGER\"], [\"subject_id\", \"INTEGER\"], [\"hadm_id\", \"INTEGER\"], [\"stay_id\", \"INTEGER\"], [\"first_careunit\", \"TEXT\"], [\"last_careunit\", \"TEXT\"], [\"intime\", \"TEXT\"], [\"outtime\", \"TEXT\"]], \"FK\": []}, \"INPUTEVENTS\": {\"COL\": [[\"row_id\", \"INTEGER\"], [\"subject_id\", \"INTEGER\"], [\"hadm_id\", \"INTEGER\"], [\"stay_id\", \"INTEGER\"], [\"starttime\", \"TEXT\"], [\"itemid\", \"REAL\"], [\"amount\", \"REAL\"]], \"FK\": []}, \"LABEVENTS\": {\"COL\": [[\"row_id\", \"INTEGER\"], [\"subject_id\", \"INTEGER\"], [\"hadm_id\", \"REAL\"], [\"itemid\", \"INTEGER\"], [\"charttime\", \"TEXT\"], [\"valuenum\", \"REAL\"], [\"valueuom\", \"TEXT\"]], \"FK\": []}, \"MICROBIOLOGYEVENTS\": {\"COL\": [[\"row_id\", \"INTEGER\"], [\"subject_id\", \"INTEGER\"], [\"hadm_id\", \"REAL\"], [\"charttime\", \"TEXT\"], [\"spec_type_desc\", \"TEXT\"], [\"test_name\", \"TEXT\"], [\"org_name\", \"TEXT\"]], \"FK\": []}, \"OUTPUTEVENTS\": {\"COL\": [[\"row_id\", \"INTEGER\"], [\"subject_id\", \"INTEGER\"], [\"hadm_id\", \"INTEGER\"], [\"stay_id\", \"INTEGER\"], [\"charttime\", \"TEXT\"], [\"itemid\", \"REAL\"], [\"value\", \"REAL\"]], \"FK\": []}, \"TB_CXR_PLUS\": {\"COL\": [[\"row_id\", \"INTEGER\"], [\"subject_id\", \"INTEGER\"], [\"hadm_id\", \"REAL\"], [\"study_id\", \"INTEGER\"], [\"image_id\", \"TEXT\"], [\"viewposition\", \"TEXT\"], [\"studydatetime\", \"TEXT\"], [\"studyorder\", \"REAL\"], [\"object\", \"TEXT\"], [\"relation\", \"INTEGER\"], [\"attribute\", \"TEXT\"], [\"category\", \"TEXT\"], [\"ct_ratio\", \"REAL\"], [\"mt_ratio\", \"REAL\"]], \"FK\": []}, \"TRANSFERS\": {\"COL\": [[\"row_id\", \"INTEGER\"], [\"subject_id\", \"INTEGER\"], [\"hadm_id\", \"REAL\"], [\"transfer_id\", \"INTEGER\"], [\"eventtype\", \"TEXT\"], [\"careunit\", \"TEXT\"], [\"intime\", \"TEXT\"], [\"outtime\", \"TEXT\"]], \"FK\": []}, \"DIAGNOSES_ICD\": {\"COL\": [[\"row_id\", \"INTEGER\"], [\"subject_id\", \"INTEGER\"], [\"hadm_id\", \"INTEGER\"], [\"icd_code\", \"TEXT\"], [\"charttime\", \"TEXT\"]], \"FK\": [[\"DIAGNOSES_ICD.subject_id\", \"ADMISSIONS.subject_id\"], [\"DIAGNOSES_ICD.icd_code\", \"D_ICD_DIAGNOSES.icd_code\"]]}, \"PATIENTS\": {\"COL\": [[\"row_id\", \"INTEGER\"], [\"subject_id\", \"INTEGER\"], [\"gender\", \"TEXT\"], [\"dob\", \"TEXT\"], [\"dod\", \"TEXT\"]], \"FK\": [[\"PATIENTS.subject_id\", \"ADMISSIONS.subject_id\"]]}, \"PRESCRIPTIONS\": {\"COL\": [[\"row_id\", \"INTEGER\"], [\"subject_id\", \"INTEGER\"], [\"hadm_id\", \"INTEGER\"], [\"starttime\", \"TEXT\"], [\"stoptime\", \"TEXT\"], [\"drug\", \"TEXT\"], [\"dose_val_rx\", \"REAL\"], [\"dose_unit_rx\", \"TEXT\"], [\"route\", \"TEXT\"]], \"FK\": [[\"PRESCRIPTIONS.subject_id\", \"ADMISSIONS.subject_id\"]]}, \"PROCEDURES_ICD\": {\"COL\": [[\"row_id\", \"INTEGER\"], [\"subject_id\", \"INTEGER\"], [\"hadm_id\", \"INTEGER\"], [\"icd_code\", \"TEXT\"], [\"charttime\", \"TEXT\"]], \"FK\": [[\"PROCEDURES_ICD.subject_id\", \"ADMISSIONS.subject_id\"], [\"PROCEDURES_ICD.icd_code\", \"D_ICD_PROCEDURES.icd_code\"]]}, \"TB_CXR\": {\"COL\": [[\"row_id\", \"INTEGER\"], [\"subject_id\", \"INTEGER\"], [\"hadm_id\", \"REAL\"], [\"study_id\", \"INTEGER\"], [\"image_id\", \"TEXT\"], [\"viewposition\", \"TEXT\"], [\"studydatetime\", \"TEXT\"]], \"FK\": [[\"TB_CXR.subject_id\", \"ADMISSIONS.subject_id\"]]}}'}\n",
                        "context-first: {'status': 'success', 'data': [{'row_id': 651, 'subject_id': 13859433, 'hadm_id': 21193500.0, 'study_id': 56222792, 'image_id': '3c7d71b0-383da7fc-80f78f8c-6be2da46-3614e059', 'viewposition': 'ap', 'studydatetime': '2105-11-15 07:49:33'}]} <class 'str'>\n",
                        "context-2 {'status': 'success', 'data': [{'row_id': 651, 'subject_id': 13859433, 'hadm_id': 21193500.0, 'study_id': 56222792, 'image_id': '3c7d71b0-383da7fc-80f78f8c-6be2da46-3614e059', 'viewposition': 'ap', 'studydatetime': '2105-11-15 07:\"49\":\"33\"'}]}\n",
                        "context-after: [{'row_id': 651, 'subject_id': 13859433, 'hadm_id': 21193500.0, 'study_id': 56222792, 'image_id': '3c7d71b0-383da7fc-80f78f8c-6be2da46-3614e059', 'viewposition': 'ap', 'studydatetime': '2105-11-15 07:\"49\":\"33\"'}]\n",
                        "image_urls_1 [[{'row_id': 651, 'subject_id': 13859433, 'hadm_id': 21193500.0, 'study_id': 56222792, 'image_id': '3c7d71b0-383da7fc-80f78f8c-6be2da46-3614e059', 'viewposition': 'ap', 'studydatetime': '2105-11-15 07:\"49\":\"33\"', 'image_url': PosixPath('/home/ubuntu/workspace/XMODE-LLMCompiler/files/p13/p13859433/s56222792/3c7d71b0-383da7fc-80f78f8c-6be2da46-3614e059.jpg')}]]\n",
                        "context-first: {'status': 'success', 'data': [{'study_id': 51083001}]} <class 'str'>\n",
                        "context-2 {'status': 'success', 'data': [{'study_id': 51083001}]}\n",
                        "context-after: [{'study_id': 51083001}]\n",
                        "image_urls_1 [[{'study_id': 51083001, 'image_id': 'ca9095d0-d92c0662-f541bf0e-13b9d941-661968cb', 'image_url': PosixPath('/home/ubuntu/workspace/XMODE-LLMCompiler/files/p13/p13859433/s51083001/ca9095d0-d92c0662-f541bf0e-13b9d941-661968cb.jpg')}]]\n",
                        "[HumanMessage(content=[{'question': 'Is there any evidence in the most recent study for patient 13859433 this year indicating the continued absence of anatomical findings in the left hilar structure compared to the previous study?', 'database_schema': None}], id='a1ff2fff-1319-444d-bed7-04e0e7eacf09'), FunctionMessage(content=\"['TB_CXR']\", additional_kwargs={'idx': 1, 'args': {'problem': 'Retrieve the most recent study for patient 13859433 this year.', 'context': None}}, name='intent_tables', id='6a536fec-d99a-4ee0-a317-96988c53e07c'), FunctionMessage(content=\"['TB_CXR']\", additional_kwargs={'idx': 2, 'args': {'problem': 'Retrieve the previous study for patient 13859433.', 'context': None}}, name='intent_tables', id='24cf342d-32c9-49cc-bcc7-4e0dc1d84b30'), FunctionMessage(content=\"{'status': 'success', 'data': [{'row_id': 651, 'subject_id': 13859433, 'hadm_id': 21193500.0, 'study_id': 56222792, 'image_id': '3c7d71b0-383da7fc-80f78f8c-6be2da46-3614e059', 'viewposition': 'ap', 'studydatetime': '2105-11-15 07:49:33'}]}\", additional_kwargs={'idx': 3, 'args': {'problem': 'What is the most recent study for patient 13859433 this year?', 'context': '$1'}}, name='text2SQL', id='a792a0da-51c9-4f3c-9e3e-ffc78084fce6'), FunctionMessage(content=\"{'status': 'success', 'data': [{'study_id': 51083001}]}\", additional_kwargs={'idx': 4, 'args': {'problem': 'What is the previous study for patient 13859433?', 'context': '$2'}}, name='text2SQL', id='dd1d6b34-1a3e-4919-8b76-619ff61e0281'), FunctionMessage(content=\"['yes']\", additional_kwargs={'idx': 5, 'args': {'question': 'Is there any evidence indicating the continued absence of anatomical findings in the left hilar structure?', 'context': '$3'}}, name='image_analysis', id='0ea74f2a-902f-464f-8008-8e823abc0200'), FunctionMessage(content=\"['yes']\", additional_kwargs={'idx': 6, 'args': {'question': 'Is there any evidence indicating the absence of anatomical findings in the left hilar structure?', 'context': '$4'}}, name='image_analysis', id='bfb17ce3-796a-4b58-982f-53b8828a3a5d'), FunctionMessage(content='join', additional_kwargs={'idx': 7, 'args': ()}, name='join', id='49c78fa5-fef2-496d-99e5-6ece9c91b48f')]\n",
                        "[HumanMessage(content=[{'question': 'Is there any evidence in the most recent study for patient 13859433 this year indicating the continued absence of anatomical findings in the left hilar structure compared to the previous study?', 'database_schema': None}], id='a1ff2fff-1319-444d-bed7-04e0e7eacf09'), FunctionMessage(content=\"['TB_CXR']\", additional_kwargs={'idx': 1, 'args': {'problem': 'Retrieve the most recent study for patient 13859433 this year.', 'context': None}}, name='intent_tables', id='6a536fec-d99a-4ee0-a317-96988c53e07c'), FunctionMessage(content=\"['TB_CXR']\", additional_kwargs={'idx': 2, 'args': {'problem': 'Retrieve the previous study for patient 13859433.', 'context': None}}, name='intent_tables', id='24cf342d-32c9-49cc-bcc7-4e0dc1d84b30'), FunctionMessage(content=\"{'status': 'success', 'data': [{'row_id': 651, 'subject_id': 13859433, 'hadm_id': 21193500.0, 'study_id': 56222792, 'image_id': '3c7d71b0-383da7fc-80f78f8c-6be2da46-3614e059', 'viewposition': 'ap', 'studydatetime': '2105-11-15 07:49:33'}]}\", additional_kwargs={'idx': 3, 'args': {'problem': 'What is the most recent study for patient 13859433 this year?', 'context': '$1'}}, name='text2SQL', id='a792a0da-51c9-4f3c-9e3e-ffc78084fce6'), FunctionMessage(content=\"{'status': 'success', 'data': [{'study_id': 51083001}]}\", additional_kwargs={'idx': 4, 'args': {'problem': 'What is the previous study for patient 13859433?', 'context': '$2'}}, name='text2SQL', id='dd1d6b34-1a3e-4919-8b76-619ff61e0281'), FunctionMessage(content=\"['yes']\", additional_kwargs={'idx': 5, 'args': {'question': 'Is there any evidence indicating the continued absence of anatomical findings in the left hilar structure?', 'context': '$3'}}, name='image_analysis', id='0ea74f2a-902f-464f-8008-8e823abc0200'), FunctionMessage(content=\"['yes']\", additional_kwargs={'idx': 6, 'args': {'question': 'Is there any evidence indicating the absence of anatomical findings in the left hilar structure?', 'context': '$4'}}, name='image_analysis', id='bfb17ce3-796a-4b58-982f-53b8828a3a5d'), FunctionMessage(content='join', additional_kwargs={'idx': 7, 'args': ()}, name='join', id='49c78fa5-fef2-496d-99e5-6ece9c91b48f'), AIMessage(content=\"Thought: The analysis of both the most recent and previous studies for patient 13859433 indicates evidence supporting the continued absence of anatomical findings in the left hilar structure. Since the results from both studies confirm the absence, the user's question is answered.\", id='15727c6d-18ec-45e9-9f6b-dd9f23dade52'), AIMessage(content=\"{'Summary': 'The continued absence of anatomical findings in the left hilar structure is confirmed in the most recent study.',\\n 'details': 'Both the most recent study (study_id: 56222792) and the previous study (study_id: 51083001) for patient 13859433 show evidence of the absence of anatomical findings in the left hilar structure.',\\n 'source': 'The information was obtained by analyzing the image data from the respective studies.',\\n 'inference':'yes',\\n 'extra explanation':'The findings from the recent and previous studies were consistent, confirming no anatomical changes in the left hilar structure.'\\n }\", id='96f314ad-0883-480e-a341-45416a3dae9e')]\n"
                    ]
                }
            ],
            "source": [
                "\n",
                "db_path=\"/home/ubuntu/workspace/XMODE-LLMCompiler/mimic_iv_cxr.db\"\n",
                "# \"enumerate all detected abnormalities, given the study 57883509.\"\n",
                "example_question=\"Is there any evidence in the most recent study for patient 13859433 this year indicating the continued absence of anatomical findings in the left hilar structure compared to the previous study?\"\n",
                "# tables=['TB_CXR','PATIENTS']\n",
                "# tables= [t.upper()for t in tables]\n",
                "# id= 2000\n",
                "# database_schema =_get_db_schema(db_path, tables=None)\n",
                "database_schema = None\n",
                "#\"could you list all anatomical locations related to any diseases newly detected in the 55411906 study versus the findings of the 59867439 study?\"\n",
                "#\"how many days have elapsed from the first time patient 19631398's chest x-ray demonstrated any anatomical findings in the mediastinum in 2103?\"\n",
                "#\"what's the count of patients whose chest x-ray studies since 15 month ago demonstrated any anatomical findings in the cardiac silhouette?\"\n",
                "#\"did patient 12354194 undergo the procedure on two vessels procedure within the same month after a chest x-ray study revealed any anatomical findings until 2 year ago?\"\n",
                "\n",
                "inputs = {\"question\": example_question, \"database_schema\":database_schema}\n",
                "# config = {\"configurable\": {\"thread_id\": \"xmode-2000\"}}\n",
                "inputs=[HumanMessage(content=[inputs])]\n",
                "\n",
                "for output in chain.stream(inputs, stream_mode=\"values\"):\n",
                "   print(output)\n",
                "   # for key, value in output.items():\n",
                "   #    print(f\"output from node '{key}'\")\n",
                "   #    print(\"-----\")\n",
                "   #    print(value)\n",
                "# _steps_dict = chain.stream(\n",
                "#     [\n",
                "#         HumanMessage(\n",
                "#             content=[chain_input]\n",
                "#         ),\n",
                "    \n",
                "#     ],\n",
                "#     # config=config,\n",
                "#     #stream_mode=\"debug\",\n",
                "# )\n",
                "\n"
            ]
        },
        {
            "cell_type": "code",
            "execution_count": 5,
            "metadata": {},
            "outputs": [],
            "source": [
                "to_json=[]\n",
                "for msg in output:\n",
                "      value= msg.to_json()['kwargs']\n",
                "      to_json.append(value)"
            ]
        },
        {
            "cell_type": "code",
            "execution_count": 6,
            "metadata": {},
            "outputs": [
                {
                    "data": {
                        "text/plain": [
                            "[{'content': [{'question': 'Is there any evidence in the most recent study for patient 13859433 this year indicating the continued absence of anatomical findings in the left hilar structure compared to the previous study?',\n",
                            "    'database_schema': None}],\n",
                            "  'type': 'human',\n",
                            "  'id': '77a0cbfc-ad86-4615-8304-a1200d390492'},\n",
                            " {'content': \"['TB_CXR_PLUS']\",\n",
                            "  'additional_kwargs': {'idx': 1,\n",
                            "   'args': {'problem': 'Find the most recent study for patient 13859433 this year indicating the continued absence of anatomical findings in the left hilar structure compared to the previous study.',\n",
                            "    'context': None}},\n",
                            "  'type': 'function',\n",
                            "  'name': 'intent_tables',\n",
                            "  'id': 'e28bdf0c-baef-4eaf-a563-9bcad6017052'},\n",
                            " {'content': \"{'status': 'success', 'data': [{'study_id': 56222792}]}\",\n",
                            "  'additional_kwargs': {'idx': 2,\n",
                            "   'args': {'problem': 'Retrieve the most recent study ID for patient 13859433 conducted this year.',\n",
                            "    'context': '$1'}},\n",
                            "  'type': 'function',\n",
                            "  'name': 'text2SQL',\n",
                            "  'id': 'b1ddd2b1-3758-46c4-a8de-ae5c64576d7a'},\n",
                            " {'content': \"{'status': 'success', 'data': []}\",\n",
                            "  'additional_kwargs': {'idx': 3,\n",
                            "   'args': {'problem': 'Retrieve the study ID for the previous study of patient 13859433 before this year.',\n",
                            "    'context': '$1'}},\n",
                            "  'type': 'function',\n",
                            "  'name': 'text2SQL',\n",
                            "  'id': 'f9d2af77-e82a-4998-8764-b0f3d61e5ab5'},\n",
                            " {'content': \"['yes']\",\n",
                            "  'additional_kwargs': {'idx': 4,\n",
                            "   'args': {'question': 'Is there any evidence of anatomical findings in the left hilar structure?',\n",
                            "    'context': '$2'}},\n",
                            "  'type': 'function',\n",
                            "  'name': 'image_analysis',\n",
                            "  'id': 'f6d1aada-d25c-40bc-ad37-4dfa883b8d52'},\n",
                            " {'content': 'ERROR(Failed to call image_analysis with args {\\'question\\': \\'Is there any evidence of anatomical findings in the left hilar structure in the previous study?\\', \\'context\\': \\'$3\\'}. Args resolved to {\\'question\\': \\'Is there any evidence of anatomical findings in the left hilar structure in the previous study?\\', \\'context\\': \"{\\'status\\': \\'success\\', \\'data\\': []}\"}. Error: IndexError(\\'list index out of range\\'))',\n",
                            "  'additional_kwargs': {'idx': 5,\n",
                            "   'args': {'question': 'Is there any evidence of anatomical findings in the left hilar structure in the previous study?',\n",
                            "    'context': '$3'}},\n",
                            "  'type': 'function',\n",
                            "  'name': 'image_analysis',\n",
                            "  'id': 'c033feb0-d10e-4eac-9604-015a3239d228'},\n",
                            " {'content': 'join',\n",
                            "  'additional_kwargs': {'idx': 6, 'args': ()},\n",
                            "  'type': 'function',\n",
                            "  'name': 'join',\n",
                            "  'id': '7bc8d0f4-cb20-416b-9715-cb7b6cb27a0b'},\n",
                            " {'content': 'Thought: The most recent study for patient 13859433 this year has been identified, but there is no previous study available for comparison. The query for the previous study returned no data, which means we cannot check for the absence of anatomical findings in the past. Hence, we cannot definitively determine the continued absence of anatomical findings in the left hilar structure compared to the previous study. The image analysis of the most recent study did find evidence of anatomical findings in the left hilar structure, but without the previous study, we cannot make a comparison.',\n",
                            "  'type': 'ai',\n",
                            "  'id': 'a25be6f9-df15-43da-8298-da54305aff6e',\n",
                            "  'tool_calls': [],\n",
                            "  'invalid_tool_calls': []},\n",
                            " {'content': \"{'Summary': 'Unable to compare anatomical findings in the left hilar structure with previous studies for patient 13859433 as there is no previous study data.',\\n 'details': 'The most recent study conducted this year for patient 13859433 indicates evidence of anatomical findings in the left hilar structure. However, there is no available data for any previous study conducted prior to this year, making it impossible to compare or confirm the continued absence or presence of anatomical findings in the left hilar structure.',\\n 'source': 'Most recent study ID 56222792 for patient 13859433 and image analysis results.',\\n 'inference':'yes',\\n 'extra explanation':'The absence of previous study data means a comparison cannot be made, but the current study shows findings in the left hilar structure.'\\n}\",\n",
                            "  'type': 'ai',\n",
                            "  'id': 'afbbe2d9-c6c7-4794-9373-80c3b90ca14e',\n",
                            "  'tool_calls': [],\n",
                            "  'invalid_tool_calls': []}]"
                        ]
                    },
                    "execution_count": 6,
                    "metadata": {},
                    "output_type": "execute_result"
                }
            ],
            "source": [
                "to_json"
            ]
        },
        {
            "cell_type": "code",
            "execution_count": 7,
            "metadata": {},
            "outputs": [
                {
                    "data": {
                        "text/plain": [
                            "{'Summary': 'Unable to compare anatomical findings in the left hilar structure with previous studies for patient 13859433 as there is no previous study data.',\n",
                            " 'details': 'The most recent study conducted this year for patient 13859433 indicates evidence of anatomical findings in the left hilar structure. However, there is no available data for any previous study conducted prior to this year, making it impossible to compare or confirm the continued absence or presence of anatomical findings in the left hilar structure.',\n",
                            " 'source': 'Most recent study ID 56222792 for patient 13859433 and image analysis results.',\n",
                            " 'inference': 'yes',\n",
                            " 'extra explanation': 'The absence of previous study data means a comparison cannot be made, but the current study shows findings in the left hilar structure.'}"
                        ]
                    },
                    "execution_count": 7,
                    "metadata": {},
                    "output_type": "execute_result"
                }
            ],
            "source": [
                "\n",
                "ast.literal_eval(output[-1].content)"
            ]
        },
        {
            "cell_type": "code",
            "execution_count": 8,
            "metadata": {},
            "outputs": [],
            "source": [
                "from langchain.load.dump import dumps\n",
                "import json\n",
                "from pprint import pprint\n",
                "\n",
                "# print(output[-1].pretty_print())\n",
                "\n",
                "    \n",
                "# for message in output:\n",
                "  \n",
                "# #    message.pretty_print()\n",
                "#     pprint(message)  \n",
                "\n",
                "\n",
                "\n",
                "\n",
                "with open('steps_dict.json', 'w', encoding='utf-8') as f:\n",
                "        json.dump(to_json, f, ensure_ascii=False, indent=4)"
            ]
        },
        {
            "cell_type": "code",
            "execution_count": 9,
            "metadata": {},
            "outputs": [
                {
                    "data": {
                        "image/jpeg": "[encoded data removed]",
                        "text/plain": [
                            "<IPython.core.display.Image object>"
                        ]
                    },
                    "metadata": {},
                    "output_type": "display_data"
                }
            ],
            "source": [
                "from IPython.display import Image, display\n",
                "\n",
                "\n",
                "display(Image(chain.get_graph().draw_mermaid_png()))\n"
            ]
        },
        {
            "cell_type": "markdown",
            "metadata": {},
            "source": [
                "https://smith.langchain.com/public/c9acfa5f-c8e2-4203-bb48-9ce046621f09/r"
            ]
        },
        {
            "cell_type": "code",
            "execution_count": 10,
            "metadata": {},
            "outputs": [
                {
                    "name": "stdout",
                    "output_type": "stream",
                    "text": [
                        "{'Summary': 'No new diseases found in the right lower lung zone.', 'details': 'In the last and previous studies for patient 19103929 this year, there are no visible diseases in the right lower lung zone.', 'source': 'Image analysis of the last and previous studies.', 'inference': 'no', 'extra explanation': 'Both the last and previous studies show no diseases in the right lower lung zone.'}\n"
                    ]
                }
            ],
            "source": [
                "import ast\n",
                "rs=\"{'Summary': 'No new diseases found in the right lower lung zone.', 'details': 'In the last and previous studies for patient 19103929 this year, there are no visible diseases in the right lower lung zone.', 'source': 'Image analysis of the last and previous studies.', 'inference': 'no', 'extra explanation': 'Both the last and previous studies show no diseases in the right lower lung zone.'}\"\n",
                "print(ast.literal_eval(rs))"
            ]
        },
        {
            "cell_type": "code",
            "execution_count": 11,
            "metadata": {},
            "outputs": [],
            "source": [
                "# test get_table_info_dict\n",
                "from src.sql_database import SQLDatabase\n",
                "from sqlalchemy import create_engine\n",
                "db_path=\"/home/ubuntu/workspace/XMODE-LLMCompiler/mimic_iv_cxr.db\"\n",
                "engine = create_engine(f'sqlite:///{db_path}')  # replace with your actual database connection string\n",
                "database = SQLDatabase(engine)\n",
                "table_info_dict = database.get_table_info_dict(None, False, False)"
            ]
        },
        {
            "cell_type": "code",
            "execution_count": 12,
            "metadata": {},
            "outputs": [],
            "source": [
                "import json\n",
                "json_str = json.dumps(table_info_dict)"
            ]
        },
        {
            "cell_type": "code",
            "execution_count": 13,
            "metadata": {},
            "outputs": [
                {
                    "data": {
                        "text/plain": [
                            "'{\"ADMISSIONS\": {\"COL\": [[\"row_id\", \"INTEGER\"], [\"subject_id\", \"INTEGER\"], [\"hadm_id\", \"INTEGER\"], [\"admittime\", \"TEXT\"], [\"dischtime\", \"TEXT\"], [\"admission_type\", \"TEXT\"], [\"admission_location\", \"TEXT\"], [\"discharge_location\", \"TEXT\"], [\"insurance\", \"TEXT\"], [\"language\", \"TEXT\"], [\"marital_status\", \"TEXT\"], [\"age\", \"INTEGER\"]], \"FK\": []}, \"CHARTEVENTS\": {\"COL\": [[\"row_id\", \"INTEGER\"], [\"subject_id\", \"INTEGER\"], [\"hadm_id\", \"INTEGER\"], [\"stay_id\", \"INTEGER\"], [\"charttime\", \"TEXT\"], [\"itemid\", \"INTEGER\"], [\"valuenum\", \"REAL\"], [\"valueuom\", \"TEXT\"]], \"FK\": []}, \"COST\": {\"COL\": [[\"row_id\", \"INTEGER\"], [\"subject_id\", \"INTEGER\"], [\"hadm_id\", \"REAL\"], [\"event_type\", \"TEXT\"], [\"event_id\", \"INTEGER\"], [\"chargetime\", \"TEXT\"], [\"cost\", \"REAL\"]], \"FK\": []}, \"D_ICD_DIAGNOSES\": {\"COL\": [[\"row_id\", \"INTEGER\"], [\"icd_code\", \"TEXT\"], [\"long_title\", \"TEXT\"]], \"FK\": []}, \"D_ICD_PROCEDURES\": {\"COL\": [[\"row_id\", \"INTEGER\"], [\"icd_code\", \"TEXT\"], [\"long_title\", \"TEXT\"]], \"FK\": []}, \"D_ITEMS\": {\"COL\": [[\"row_id\", \"INTEGER\"], [\"itemid\", \"INTEGER\"], [\"label\", \"TEXT\"], [\"abbreviation\", \"TEXT\"], [\"linksto\", \"TEXT\"]], \"FK\": []}, \"D_LABITEMS\": {\"COL\": [[\"row_id\", \"INTEGER\"], [\"itemid\", \"INTEGER\"], [\"label\", \"TEXT\"]], \"FK\": []}, \"ICUSTAYS\": {\"COL\": [[\"row_id\", \"INTEGER\"], [\"subject_id\", \"INTEGER\"], [\"hadm_id\", \"INTEGER\"], [\"stay_id\", \"INTEGER\"], [\"first_careunit\", \"TEXT\"], [\"last_careunit\", \"TEXT\"], [\"intime\", \"TEXT\"], [\"outtime\", \"TEXT\"]], \"FK\": []}, \"INPUTEVENTS\": {\"COL\": [[\"row_id\", \"INTEGER\"], [\"subject_id\", \"INTEGER\"], [\"hadm_id\", \"INTEGER\"], [\"stay_id\", \"INTEGER\"], [\"starttime\", \"TEXT\"], [\"itemid\", \"REAL\"], [\"amount\", \"REAL\"]], \"FK\": []}, \"LABEVENTS\": {\"COL\": [[\"row_id\", \"INTEGER\"], [\"subject_id\", \"INTEGER\"], [\"hadm_id\", \"REAL\"], [\"itemid\", \"INTEGER\"], [\"charttime\", \"TEXT\"], [\"valuenum\", \"REAL\"], [\"valueuom\", \"TEXT\"]], \"FK\": []}, \"MICROBIOLOGYEVENTS\": {\"COL\": [[\"row_id\", \"INTEGER\"], [\"subject_id\", \"INTEGER\"], [\"hadm_id\", \"REAL\"], [\"charttime\", \"TEXT\"], [\"spec_type_desc\", \"TEXT\"], [\"test_name\", \"TEXT\"], [\"org_name\", \"TEXT\"]], \"FK\": []}, \"OUTPUTEVENTS\": {\"COL\": [[\"row_id\", \"INTEGER\"], [\"subject_id\", \"INTEGER\"], [\"hadm_id\", \"INTEGER\"], [\"stay_id\", \"INTEGER\"], [\"charttime\", \"TEXT\"], [\"itemid\", \"REAL\"], [\"value\", \"REAL\"]], \"FK\": []}, \"TB_CXR_PLUS\": {\"COL\": [[\"row_id\", \"INTEGER\"], [\"subject_id\", \"INTEGER\"], [\"hadm_id\", \"REAL\"], [\"study_id\", \"INTEGER\"], [\"image_id\", \"TEXT\"], [\"viewposition\", \"TEXT\"], [\"studydatetime\", \"TEXT\"], [\"studyorder\", \"REAL\"], [\"object\", \"TEXT\"], [\"relation\", \"INTEGER\"], [\"attribute\", \"TEXT\"], [\"category\", \"TEXT\"], [\"ct_ratio\", \"REAL\"], [\"mt_ratio\", \"REAL\"]], \"FK\": []}, \"TRANSFERS\": {\"COL\": [[\"row_id\", \"INTEGER\"], [\"subject_id\", \"INTEGER\"], [\"hadm_id\", \"REAL\"], [\"transfer_id\", \"INTEGER\"], [\"eventtype\", \"TEXT\"], [\"careunit\", \"TEXT\"], [\"intime\", \"TEXT\"], [\"outtime\", \"TEXT\"]], \"FK\": []}, \"DIAGNOSES_ICD\": {\"COL\": [[\"row_id\", \"INTEGER\"], [\"subject_id\", \"INTEGER\"], [\"hadm_id\", \"INTEGER\"], [\"icd_code\", \"TEXT\"], [\"charttime\", \"TEXT\"]], \"FK\": [[\"DIAGNOSES_ICD.subject_id\", \"ADMISSIONS.subject_id\"], [\"DIAGNOSES_ICD.icd_code\", \"D_ICD_DIAGNOSES.icd_code\"]]}, \"PATIENTS\": {\"COL\": [[\"row_id\", \"INTEGER\"], [\"subject_id\", \"INTEGER\"], [\"gender\", \"TEXT\"], [\"dob\", \"TEXT\"], [\"dod\", \"TEXT\"]], \"FK\": [[\"PATIENTS.subject_id\", \"ADMISSIONS.subject_id\"]]}, \"PRESCRIPTIONS\": {\"COL\": [[\"row_id\", \"INTEGER\"], [\"subject_id\", \"INTEGER\"], [\"hadm_id\", \"INTEGER\"], [\"starttime\", \"TEXT\"], [\"stoptime\", \"TEXT\"], [\"drug\", \"TEXT\"], [\"dose_val_rx\", \"REAL\"], [\"dose_unit_rx\", \"TEXT\"], [\"route\", \"TEXT\"]], \"FK\": [[\"PRESCRIPTIONS.subject_id\", \"ADMISSIONS.subject_id\"]]}, \"PROCEDURES_ICD\": {\"COL\": [[\"row_id\", \"INTEGER\"], [\"subject_id\", \"INTEGER\"], [\"hadm_id\", \"INTEGER\"], [\"icd_code\", \"TEXT\"], [\"charttime\", \"TEXT\"]], \"FK\": [[\"PROCEDURES_ICD.subject_id\", \"ADMISSIONS.subject_id\"], [\"PROCEDURES_ICD.icd_code\", \"D_ICD_PROCEDURES.icd_code\"]]}, \"TB_CXR\": {\"COL\": [[\"row_id\", \"INTEGER\"], [\"subject_id\", \"INTEGER\"], [\"hadm_id\", \"REAL\"], [\"study_id\", \"INTEGER\"], [\"image_id\", \"TEXT\"], [\"viewposition\", \"TEXT\"], [\"studydatetime\", \"TEXT\"]], \"FK\": [[\"TB_CXR.subject_id\", \"ADMISSIONS.subject_id\"]]}}'"
                        ]
                    },
                    "execution_count": 13,
                    "metadata": {},
                    "output_type": "execute_result"
                }
            ],
            "source": [
                "json_str"
            ]
        },
        {
            "cell_type": "code",
            "execution_count": 14,
            "metadata": {},
            "outputs": [
                {
                    "data": {
                        "text/plain": [
                            "{'ADMISSIONS': {'COL': [['row_id', 'INTEGER'],\n",
                            "   ['subject_id', 'INTEGER'],\n",
                            "   ['hadm_id', 'INTEGER'],\n",
                            "   ['admittime', 'TEXT'],\n",
                            "   ['dischtime', 'TEXT'],\n",
                            "   ['admission_type', 'TEXT'],\n",
                            "   ['admission_location', 'TEXT'],\n",
                            "   ['discharge_location', 'TEXT'],\n",
                            "   ['insurance', 'TEXT'],\n",
                            "   ['language', 'TEXT'],\n",
                            "   ['marital_status', 'TEXT'],\n",
                            "   ['age', 'INTEGER']],\n",
                            "  'FK': []},\n",
                            " 'CHARTEVENTS': {'COL': [['row_id', 'INTEGER'],\n",
                            "   ['subject_id', 'INTEGER'],\n",
                            "   ['hadm_id', 'INTEGER'],\n",
                            "   ['stay_id', 'INTEGER'],\n",
                            "   ['charttime', 'TEXT'],\n",
                            "   ['itemid', 'INTEGER'],\n",
                            "   ['valuenum', 'REAL'],\n",
                            "   ['valueuom', 'TEXT']],\n",
                            "  'FK': []},\n",
                            " 'COST': {'COL': [['row_id', 'INTEGER'],\n",
                            "   ['subject_id', 'INTEGER'],\n",
                            "   ['hadm_id', 'REAL'],\n",
                            "   ['event_type', 'TEXT'],\n",
                            "   ['event_id', 'INTEGER'],\n",
                            "   ['chargetime', 'TEXT'],\n",
                            "   ['cost', 'REAL']],\n",
                            "  'FK': []},\n",
                            " 'D_ICD_DIAGNOSES': {'COL': [['row_id', 'INTEGER'],\n",
                            "   ['icd_code', 'TEXT'],\n",
                            "   ['long_title', 'TEXT']],\n",
                            "  'FK': []},\n",
                            " 'D_ICD_PROCEDURES': {'COL': [['row_id', 'INTEGER'],\n",
                            "   ['icd_code', 'TEXT'],\n",
                            "   ['long_title', 'TEXT']],\n",
                            "  'FK': []},\n",
                            " 'D_ITEMS': {'COL': [['row_id', 'INTEGER'],\n",
                            "   ['itemid', 'INTEGER'],\n",
                            "   ['label', 'TEXT'],\n",
                            "   ['abbreviation', 'TEXT'],\n",
                            "   ['linksto', 'TEXT']],\n",
                            "  'FK': []},\n",
                            " 'D_LABITEMS': {'COL': [['row_id', 'INTEGER'],\n",
                            "   ['itemid', 'INTEGER'],\n",
                            "   ['label', 'TEXT']],\n",
                            "  'FK': []},\n",
                            " 'ICUSTAYS': {'COL': [['row_id', 'INTEGER'],\n",
                            "   ['subject_id', 'INTEGER'],\n",
                            "   ['hadm_id', 'INTEGER'],\n",
                            "   ['stay_id', 'INTEGER'],\n",
                            "   ['first_careunit', 'TEXT'],\n",
                            "   ['last_careunit', 'TEXT'],\n",
                            "   ['intime', 'TEXT'],\n",
                            "   ['outtime', 'TEXT']],\n",
                            "  'FK': []},\n",
                            " 'INPUTEVENTS': {'COL': [['row_id', 'INTEGER'],\n",
                            "   ['subject_id', 'INTEGER'],\n",
                            "   ['hadm_id', 'INTEGER'],\n",
                            "   ['stay_id', 'INTEGER'],\n",
                            "   ['starttime', 'TEXT'],\n",
                            "   ['itemid', 'REAL'],\n",
                            "   ['amount', 'REAL']],\n",
                            "  'FK': []},\n",
                            " 'LABEVENTS': {'COL': [['row_id', 'INTEGER'],\n",
                            "   ['subject_id', 'INTEGER'],\n",
                            "   ['hadm_id', 'REAL'],\n",
                            "   ['itemid', 'INTEGER'],\n",
                            "   ['charttime', 'TEXT'],\n",
                            "   ['valuenum', 'REAL'],\n",
                            "   ['valueuom', 'TEXT']],\n",
                            "  'FK': []},\n",
                            " 'MICROBIOLOGYEVENTS': {'COL': [['row_id', 'INTEGER'],\n",
                            "   ['subject_id', 'INTEGER'],\n",
                            "   ['hadm_id', 'REAL'],\n",
                            "   ['charttime', 'TEXT'],\n",
                            "   ['spec_type_desc', 'TEXT'],\n",
                            "   ['test_name', 'TEXT'],\n",
                            "   ['org_name', 'TEXT']],\n",
                            "  'FK': []},\n",
                            " 'OUTPUTEVENTS': {'COL': [['row_id', 'INTEGER'],\n",
                            "   ['subject_id', 'INTEGER'],\n",
                            "   ['hadm_id', 'INTEGER'],\n",
                            "   ['stay_id', 'INTEGER'],\n",
                            "   ['charttime', 'TEXT'],\n",
                            "   ['itemid', 'REAL'],\n",
                            "   ['value', 'REAL']],\n",
                            "  'FK': []},\n",
                            " 'TB_CXR_PLUS': {'COL': [['row_id', 'INTEGER'],\n",
                            "   ['subject_id', 'INTEGER'],\n",
                            "   ['hadm_id', 'REAL'],\n",
                            "   ['study_id', 'INTEGER'],\n",
                            "   ['image_id', 'TEXT'],\n",
                            "   ['viewposition', 'TEXT'],\n",
                            "   ['studydatetime', 'TEXT'],\n",
                            "   ['studyorder', 'REAL'],\n",
                            "   ['object', 'TEXT'],\n",
                            "   ['relation', 'INTEGER'],\n",
                            "   ['attribute', 'TEXT'],\n",
                            "   ['category', 'TEXT'],\n",
                            "   ['ct_ratio', 'REAL'],\n",
                            "   ['mt_ratio', 'REAL']],\n",
                            "  'FK': []},\n",
                            " 'TRANSFERS': {'COL': [['row_id', 'INTEGER'],\n",
                            "   ['subject_id', 'INTEGER'],\n",
                            "   ['hadm_id', 'REAL'],\n",
                            "   ['transfer_id', 'INTEGER'],\n",
                            "   ['eventtype', 'TEXT'],\n",
                            "   ['careunit', 'TEXT'],\n",
                            "   ['intime', 'TEXT'],\n",
                            "   ['outtime', 'TEXT']],\n",
                            "  'FK': []},\n",
                            " 'DIAGNOSES_ICD': {'COL': [['row_id', 'INTEGER'],\n",
                            "   ['subject_id', 'INTEGER'],\n",
                            "   ['hadm_id', 'INTEGER'],\n",
                            "   ['icd_code', 'TEXT'],\n",
                            "   ['charttime', 'TEXT']],\n",
                            "  'FK': [['DIAGNOSES_ICD.subject_id', 'ADMISSIONS.subject_id'],\n",
                            "   ['DIAGNOSES_ICD.icd_code', 'D_ICD_DIAGNOSES.icd_code']]},\n",
                            " 'PATIENTS': {'COL': [['row_id', 'INTEGER'],\n",
                            "   ['subject_id', 'INTEGER'],\n",
                            "   ['gender', 'TEXT'],\n",
                            "   ['dob', 'TEXT'],\n",
                            "   ['dod', 'TEXT']],\n",
                            "  'FK': [['PATIENTS.subject_id', 'ADMISSIONS.subject_id']]},\n",
                            " 'PRESCRIPTIONS': {'COL': [['row_id', 'INTEGER'],\n",
                            "   ['subject_id', 'INTEGER'],\n",
                            "   ['hadm_id', 'INTEGER'],\n",
                            "   ['starttime', 'TEXT'],\n",
                            "   ['stoptime', 'TEXT'],\n",
                            "   ['drug', 'TEXT'],\n",
                            "   ['dose_val_rx', 'REAL'],\n",
                            "   ['dose_unit_rx', 'TEXT'],\n",
                            "   ['route', 'TEXT']],\n",
                            "  'FK': [['PRESCRIPTIONS.subject_id', 'ADMISSIONS.subject_id']]},\n",
                            " 'PROCEDURES_ICD': {'COL': [['row_id', 'INTEGER'],\n",
                            "   ['subject_id', 'INTEGER'],\n",
                            "   ['hadm_id', 'INTEGER'],\n",
                            "   ['icd_code', 'TEXT'],\n",
                            "   ['charttime', 'TEXT']],\n",
                            "  'FK': [['PROCEDURES_ICD.subject_id', 'ADMISSIONS.subject_id'],\n",
                            "   ['PROCEDURES_ICD.icd_code', 'D_ICD_PROCEDURES.icd_code']]},\n",
                            " 'TB_CXR': {'COL': [['row_id', 'INTEGER'],\n",
                            "   ['subject_id', 'INTEGER'],\n",
                            "   ['hadm_id', 'REAL'],\n",
                            "   ['study_id', 'INTEGER'],\n",
                            "   ['image_id', 'TEXT'],\n",
                            "   ['viewposition', 'TEXT'],\n",
                            "   ['studydatetime', 'TEXT']],\n",
                            "  'FK': [['TB_CXR.subject_id', 'ADMISSIONS.subject_id']]}}"
                        ]
                    },
                    "execution_count": 14,
                    "metadata": {},
                    "output_type": "execute_result"
                }
            ],
            "source": [
                "table_info_dict"
            ]
        },
        {
            "cell_type": "code",
            "execution_count": 6,
            "metadata": {},
            "outputs": [],
            "source": [
                "from src.utils import correct_malformed_json\n",
                "import ast\n",
                "s = \"{'question': 'have any tubes/lines related to both the abdomen and the right lung been noticed, given the first study of patient 19243401 on 12/this year?', 'context': '{{\\\"image_id\\\":\\\"46ee8707-81386f73-3ff804c3-92e6044b-dce8d6b2\\\",\\\"study_id\\\":52268471}}'}\"\n",
                "context=correct_malformed_json(s)\n",
                "context = [ast.literal_eval(context)]\n",
                "\n"
            ]
        },
        {
            "cell_type": "code",
            "execution_count": 7,
            "metadata": {},
            "outputs": [
                {
                    "data": {
                        "text/plain": [
                            "[{'question': 'have any tubes/lines related to both the abdomen and the right lung been noticed, given the first study of patient 19243401 on 12/this year?',\n",
                            "  'context': '{{\"image_id\":\"46ee8707-81386f73-3ff804c3-92e6044b-dce8d6b2\",\"study_id\":\"52268471\"}}'}]"
                        ]
                    },
                    "execution_count": 7,
                    "metadata": {},
                    "output_type": "execute_result"
                }
            ],
            "source": [
                "context"
            ]
        }
    ],
    "metadata": {
        "kernelspec": {
            "display_name": "m3lx",
            "language": "python",
            "name": "python3"
        },
        "language_info": {
            "codemirror_mode": {
                "name": "ipython",
                "version": 3
            },
            "file_extension": ".py",
            "mimetype": "text/x-python",
            "name": "python",
            "nbconvert_exporter": "python",
            "pygments_lexer": "ipython3",
            "version": "3.10.8"
        }
    },
    "nbformat": 4,
    "nbformat_minor": 2
}

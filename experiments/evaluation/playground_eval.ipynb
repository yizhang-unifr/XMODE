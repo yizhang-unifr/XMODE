{
    "cells": [
        {
            "cell_type": "markdown",
            "metadata": {},
            "source": [
                "# Extract Information"
            ]
        },
        {
            "cell_type": "code",
            "execution_count": 25,
            "metadata": {},
            "outputs": [],
            "source": [
                "import json\n",
                "from pathlib import Path\n",
                "import sys\n",
                "import re\n",
                "import ast\n",
                "root_path = Path('.').resolve().parents[1]\n",
                "dataset_path = root_path / 'xmode-ver-01.json'\n"
            ]
        },
        {
            "cell_type": "code",
            "execution_count": 19,
            "metadata": {},
            "outputs": [],
            "source": [
                "with open(dataset_path, 'r') as f:\n",
                "    data = json.load(f)\n",
                "    \n",
                "def parse_source(source: str):\n",
                "    \"\"\"input\n",
                "    Image analysis of last study (image_id: fc252cec-cb2bd316-a6df094b-dfd88ffa-b9315b50) and previous study (image_id: 13ba579e-736450c7-f8722c82-7cb94950-f21fe768)\n",
                "    Output:\n",
                "    {\n",
                "        \"image_id\": [\"fc252cec-cb2bd316-a6df094b-dfd88ffa-b9315b50\", \"13ba579e-736450c7-f8722c82-7cb94950-f21fe768\"]\n",
                "    }\n",
                "    \"\"\"\n",
                "    image_id_pattern = re.compile(r\"([a-f0-9-]{44})\")\n",
                "    image_id_res = image_id_pattern.findall(source)\n",
                "    # pattern for getting  8-digits number\n",
                "    study_id_pattern = re.compile(r\"([0-9]{8})\")\n",
                "    \n",
                "    study_id_res = study_id_pattern.findall(source)\n",
                "    res = {\n",
                "        \"image_id\": image_id_res,\n",
                "        \"study_id\": study_id_res,\n",
                "        \"text\": source\n",
                "    }\n",
                "    return res\n",
                "\n",
                "def extract_prediction(data: list):\n",
                "    # only get the first prediction\n",
                "    # Check if it has the following keys\n",
                "    if len(data) == 0:\n",
                "        return {\n",
                "            \"pred_summary\": None,\n",
                "            \"pred_details\": None,\n",
                "            \"pred_source\": None,\n",
                "            \"predict_answer\": None,\n",
                "            \"pred_explanation\": None\n",
                "        }\n",
                "    data = data[0]\n",
                "    keys = {\"Summary\":\"pred_summary\", \"details\": \"pred_details\", \"source\": \"pred_source\", \"final answer\": \"predict_answer\", \"extra explanation\": \"pred_explanation\"}\n",
                "    res = {}\n",
                "    for key in keys:\n",
                "        if key == 'source':\n",
                "            temp = parse_source(data.get(key, None))\n",
                "        temp = data.get(key, None)\n",
                "        res[keys[key]] = temp\n",
                "    return res\n",
                "        \n",
                "res = []\n",
                "for i, item in enumerate(data):\n",
                "    if item.get('prediction', None):\n",
                "        temp = {\n",
                "            \"db_id\": item['db_id'],\n",
                "            \"question\": item['question'],\n",
                "            \"answer\": item['answer'],\n",
                "        }\n",
                "    temp.update(extract_prediction(item['prediction']))\n",
                "    res.append(temp)"
            ]
        },
        {
            "cell_type": "markdown",
            "metadata": {},
            "source": [
                "# eval"
            ]
        },
        {
            "cell_type": "code",
            "execution_count": 21,
            "metadata": {},
            "outputs": [],
            "source": [
                "import pandas as pd\n",
                "# extract the prediction \n",
                "pd.DataFrame(res).to_csv('eval_xmode-ver-01.csv', index=False)"
            ]
        },
        {
            "cell_type": "code",
            "execution_count": 26,
            "metadata": {},
            "outputs": [],
            "source": [
                "# if the results contains only No => 0, Yes => 1, \n",
                "# if the reults contains neither No nor Yes, but detected => 1\n",
                "# if the reulsts contains both No and Yes => -1\n",
                "# otherwise => -1\n",
                "def get_binary_label(x, y):\n",
                "    y = y[0]\n",
                "    res = -1\n",
                "    not_list = ['no', 'not']\n",
                "    yes_list = ['yes', 'detected']\n",
                "    if x == None:\n",
                "        return res == y\n",
                "    for no in not_list:\n",
                "        if no in x.lower():\n",
                "            res = 0\n",
                "            break\n",
                "    for yes in yes_list:\n",
                "        if yes in x.lower():\n",
                "            if res == 0:\n",
                "                res = -1\n",
                "                return res == y\n",
                "            else:\n",
                "                res = 1\n",
                "                break\n",
                "    return res == y\n",
                "\n",
                "def get_list_results(x, y):\n",
                "    if len(x) != len(y):\n",
                "        return False\n",
                "    # check if all elements in x is in y\n",
                "    for i in x:\n",
                "        if i not in y:\n",
                "            return False\n",
                "    # check if all elements in y is in x\n",
                "    for i in y:\n",
                "        if i not in x:\n",
                "            return False\n",
                "    return True\n",
                "\n",
                "def parse_str(x):\n",
                "    try:\n",
                "        return ast.literal_eval(x)\n",
                "    except:\n",
                "        return x\n",
                "\n",
                "def get_results(x, y):\n",
                "    x = parse_str(x)\n",
                "    y = parse_str(y)\n",
                "    if len(y) == 1 and isinstance(y[0], int) and isinstance(x, str):\n",
                "        return get_binary_label(x, y)\n",
                "    if isinstance(x, list) and isinstance(y, list):\n",
                "        return get_list_results(x, y)\n",
                "    else:\n",
                "        return False\n"
            ]
        },
        {
            "cell_type": "code",
            "execution_count": 27,
            "metadata": {},
            "outputs": [],
            "source": [
                "data = pd.read_csv('eval_xmode-ver-01.csv', index_col=False)\n",
                "labels = data.apply(lambda x: get_results(x['predict_answer'], x['answer']), axis=1)"
            ]
        },
        {
            "cell_type": "code",
            "execution_count": 29,
            "metadata": {},
            "outputs": [],
            "source": [
                "data['labels'] = labels"
            ]
        },
        {
            "cell_type": "code",
            "execution_count": 31,
            "metadata": {},
            "outputs": [],
            "source": [
                "# calculate the accuracy\n",
                "accuracy = labels.sum() / len(labels)"
            ]
        },
        {
            "cell_type": "code",
            "execution_count": 32,
            "metadata": {},
            "outputs": [
                {
                    "data": {
                        "text/plain": [
                            "0.36666666666666664"
                        ]
                    },
                    "execution_count": 32,
                    "metadata": {},
                    "output_type": "execute_result"
                }
            ],
            "source": [
                "accuracy"
            ]
        },
        {
            "cell_type": "code",
            "execution_count": 30,
            "metadata": {},
            "outputs": [],
            "source": [
                "data.to_csv('eval_xmode-ver-01.csv', index=False)"
            ]
        }
    ],
    "metadata": {
        "kernelspec": {
            "display_name": "xmode",
            "language": "python",
            "name": "python3"
        },
        "language_info": {
            "codemirror_mode": {
                "name": "ipython",
                "version": 3
            },
            "file_extension": ".py",
            "mimetype": "text/x-python",
            "name": "python",
            "nbconvert_exporter": "python",
            "pygments_lexer": "ipython3",
            "version": "3.10.8"
        }
    },
    "nbformat": 4,
    "nbformat_minor": 2
}
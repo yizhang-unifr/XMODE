{
    "cells": [
        {
            "cell_type": "markdown",
            "metadata": {},
            "source": [
                "# Part 1 \n",
                "## Generate 30 samples with less images required"
            ]
        },
        {
            "cell_type": "code",
            "execution_count": null,
            "metadata": {},
            "outputs": [],
            "source": [
                "from utils import \n",
                "\n",
                "import sqlite3 \n",
                "import json\n",
                "import re\n",
                "from pathlib import Path\n",
                "from sqlite3 import OperationalError\n",
                "\n",
                "root = Path('.').cwd().parent\n",
                "dataset_path = root / 'dataset' / 'mimic_iv_cxr'\n",
                "db_file = 'mimic_iv_cxr.db'\n",
                "db_path = root / db_file\n",
                "\n",
                "def get_connection(db_path):\n",
                "    assert db_path.exists(), f\"Database file {db_path} does not exist\"\n",
                "    \n",
                "    conn = sqlite3.connect(db_path)\n",
                "    def func_vqa(s, col_name):\n",
                "        return True\n",
                "    conn.create_function(\"func_vqa\", 2, func_vqa)\n",
                "    return conn\n",
                "\n",
                "def clean_query(q):\n",
                "    res = q.replace(\"%y\", \"%Y\").replace(\n",
                "        \"current_time\", \"strftime('2105-12-31 23:59:00')\"\n",
                "    )\n",
                "    return res\n",
                "\n",
                "\n",
                "def substitute_word_outside_quotes(text, target_word, substitute_word):\n",
                "    pattern = re.compile(\n",
                "        r\"\"\"([\"\\'])(?:(?!\\1).)*\\1|\\b{0}\\b\"\"\".format(\n",
                "            re.escape(target_word)\n",
                "        ),\n",
                "        re.VERBOSE,\n",
                "    )\n",
                "\n",
                "    # Function to perform conditional replacement\n",
                "    def replacer(match):\n",
                "        if match.group(0).startswith(('\"', \"'\")):\n",
                "            return match.group(0)  # Return the match as is if inside quotes\n",
                "        else:\n",
                "            return substitute_word  # Replace with substitute_word if not inside quotes\n",
                "\n",
                "    # Perform the substitution\n",
                "    result = pattern.sub(replacer, text)\n",
                "    return result\n",
                "\n",
                "def pre_process_query(q, sep=\"###\"):\n",
                "    kws = [\"except\", \"intersect\", \"union\"]\n",
                "    for kw in kws:\n",
                "        if kw in q.lower():\n",
                "            _q = substitute_word_outside_quotes(q, kw, sep)\n",
                "            if q != _q:\n",
                "                q1, q2 = _q.split(sep)\n",
                "                return q1, q2, kw\n",
                "    return q, None, None\n",
                "\n",
                "def count_required_images(query, db_pqth):\n",
                "    conn = get_connection(db_path)\n",
                "    q1, q2, op = pre_process_query(query)\n",
                "    try:\n",
                "        if op:\n",
                "            cursor = conn.cursor()\n",
                "            cursor.execute(q1)\n",
                "            res1 = cursor.fetchall()\n",
                "            cursor = conn.cursor()\n",
                "            cursor.execute(q2)\n",
                "            res2 = cursor.fetchall()\n",
                "            res = len(res1) + len(res2)\n",
                "        else:\n",
                "            cursor = conn.cursor()\n",
                "            cursor.execute(query)\n",
                "            res = cursor.fetchall()\n",
                "            if len(res) == 1 and str(res[0][0]).isnumeric() and \"count\" in query.lower():\n",
                "                res = res[0][0]\n",
                "            else:\n",
                "                res = len(res)\n",
                "        \"\"\"\n",
                "        if res == 0:\n",
                "            print(f\"No result {query}\\n{res}\")\n",
                "        if res > 20:\n",
                "            print(f\"id: {d['id']}, count: {res}\")\n",
                "        \"\"\"\n",
                "        return res\n",
                "    except OperationalError as e:\n",
                "        return 999999 # return a large number to indicate error\n",
                "\n",
                "# get test_with_scope.json file\n",
                "test_data = dataset_path / 'test_with_scope.json'\n",
                "with open(test_data, 'r') as f:\n",
                "    test_data = json.load(f)\n",
                "    for d in test_data:\n",
                "        query = clean_query(d['query'])\n",
                "        d['tables'] = sql_parser(query).tables\n",
                "        d['num_required_images'] = count_required_images(query, db_path)\n",
                "\n",
                "new_test_path = dataset_path / 'test_with_scope_preprocessed.json'\n",
                "with open(new_test_path, 'w') as f:\n",
                "    json.dump(test_data, f, indent=2)\n"
            ]
        },
        {
            "cell_type": "code",
            "execution_count": 3,
            "metadata": {},
            "outputs": [],
            "source": [
                "\"\"\"\n",
                "select categores: \n",
                "Image single 1\n",
                "Image single 2\n",
                "multimodle single\n",
                "\"\"\"\n",
                "\n",
                "categories = [\"IMAGE-SINGLE-1\", \"IMAGE-SINGLE-2\", \"MULTIMODAL-SINGLE\"]\n",
                "max_num_required_images = 3\n",
                "min_num_required_images = 1\n",
                "\n",
                "def filter_dataset(data, categories, min_num_required_images, max_num_required_images):\n",
                "    new_data = []\n",
                "    for d in data:\n",
                "        if d['num_required_images'] >= min_num_required_images and d['num_required_images'] <= max_num_required_images:\n",
                "            if d['scope'] in categories:\n",
                "                new_data.append(d)\n",
                "    return new_data\n",
                "\n",
                "def sort_dataset(data):\n",
                "    return sorted(data, key=lambda x: x['num_required_images'])\n",
                "\n",
                "filtered_test_data = sort_dataset(filter_dataset(test_data, categories, min_num_required_images, max_num_required_images))\n"
            ]
        },
        {
            "cell_type": "code",
            "execution_count": 4,
            "metadata": {},
            "outputs": [
                {
                    "data": {
                        "text/plain": [
                            "2295"
                        ]
                    },
                    "execution_count": 4,
                    "metadata": {},
                    "output_type": "execute_result"
                }
            ],
            "source": [
                "len(filtered_test_data)"
            ]
        },
        {
            "cell_type": "code",
            "execution_count": 20,
            "metadata": {},
            "outputs": [],
            "source": [
                "filtered_path = dataset_path / 'filtered_test_with_scope_preprocessed.json'\n",
                "with open(filtered_path, 'w') as f:\n",
                "    json.dump(filtered_test_data, f, indent=2)\n"
            ]
        },
        {
            "cell_type": "code",
            "execution_count": 35,
            "metadata": {},
            "outputs": [
                {
                    "name": "stdout",
                    "output_type": "stream",
                    "text": [
                        "840\n",
                        "468\n",
                        "987\n"
                    ]
                }
            ],
            "source": [
                "\"\"\"\n",
                "# get first 10 samples from each category in filtered dataset\n",
                "res = []\n",
                "for scope in categories:\n",
                "    data_per_scope = []\n",
                "    for d in filtered_test_data:\n",
                "        if d['scope'] == scope\n",
                "            data_per_scope.append(d)\n",
                "    data_per_scope = sorted(data_per_scope, key=lambda x: x['num_required_images'])\n",
                "    print(len(data_per_scope))\n",
                "    res.extend(data_per_scope[:min(10, len(data_per_scope))])\n",
                "\"\"\""
            ]
        },
        {
            "cell_type": "code",
            "execution_count": 46,
            "metadata": {},
            "outputs": [],
            "source": [
                "# get first 10 samples from each category in filtered dataset\n",
                "res = []\n",
                "max_sapmles_per_category = 10\n",
                "max_samples_per_answertype = 5\n",
                "\n",
                "for scope in categories:\n",
                "    data_per_scope = []\n",
                "    for d in filtered_test_data:\n",
                "        if d['scope'] == scope and len(d['answer']) > 0:\n",
                "            data_per_scope.append(d)\n",
                "    data_per_scope = sorted(data_per_scope, key=lambda x: x['num_required_images'])\n",
                "    data_per_scope_single_numeric_value = list(filter(lambda x: len(x['answer']) == 1 and isinstance(x['answer'][0], int), data_per_scope))\n",
                "    data_per_scope_list_value = list(filter(lambda x: len(x['answer']) > 1, data_per_scope))\n",
                "    num_single_value = len(data_per_scope_single_numeric_value)\n",
                "    num_list_value = len(data_per_scope_list_value)\n",
                "    if num_single_value < max_samples_per_answertype:\n",
                "        num_list_value = min(max_sapmles_per_category - num_single_value, num_list_value)\n",
                "    if num_list_value < max_samples_per_answertype:\n",
                "        num_single_value = min(max_sapmles_per_category - num_list_value, num_single_value)\n",
                "    else:\n",
                "        num_single_value = min(max_samples_per_answertype, num_single_value)\n",
                "        num_list_value = min(max_samples_per_answertype, num_list_value)\n",
                "    res.extend(data_per_scope_single_numeric_value[:num_single_value])\n",
                "    res.extend(data_per_scope_list_value[:num_list_value])\n",
                "    "
            ]
        },
        {
            "cell_type": "code",
            "execution_count": 47,
            "metadata": {},
            "outputs": [
                {
                    "data": {
                        "text/plain": [
                            "30"
                        ]
                    },
                    "execution_count": 47,
                    "metadata": {},
                    "output_type": "execute_result"
                }
            ],
            "source": [
                "len(res)"
            ]
        },
        {
            "cell_type": "code",
            "execution_count": 49,
            "metadata": {},
            "outputs": [],
            "source": [
                "sampled_test = dataset_path / 'sampled_test_with_scope_preprocessed_balenced_answer.json'\n",
                "with open(sampled_test, 'w') as f:\n",
                "    json.dump(res, f, indent=4)"
            ]
        }
    ],
    "metadata": {
        "kernelspec": {
            "display_name": "xmode",
            "language": "python",
            "name": "python3"
        },
        "language_info": {
            "codemirror_mode": {
                "name": "ipython",
                "version": 3
            },
            "file_extension": ".py",
            "mimetype": "text/x-python",
            "name": "python",
            "nbconvert_exporter": "python",
            "pygments_lexer": "ipython3",
            "version": "3.10.8"
        }
    },
    "nbformat": 4,
    "nbformat_minor": 2
}
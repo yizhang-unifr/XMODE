{
    "cells": [
        {
            "cell_type": "code",
            "execution_count": 13,
            "metadata": {},
            "outputs": [],
            "source": [
                "import json\n",
                "\n",
                "with open('/home/ubuntu/workspace/XMODE-LLMCompiler/dataset/MIMIC-Ext-MIMIC-CXR-VQA/dataset/train.json', 'r') as f:\n",
                "    train = json.load(f)\n",
                "    \n",
                "with open('/home/ubuntu/workspace/XMODE-LLMCompiler/dataset/MIMIC-Ext-MIMIC-CXR-VQA/dataset/valid.json', 'r') as f:\n",
                "    valid = json.load(f)\n",
                "\n",
                "with open('/home/ubuntu/workspace/XMODE-LLMCompiler/dataset/MIMIC-Ext-MIMIC-CXR-VQA/dataset/test.json', 'r') as f:\n",
                "    test = json.load(f)\n",
                "    \n",
                "    \n",
                "import json\n",
                "import os\n",
                "import random\n",
                "\n",
                "# def map_index(idx, detailed=True):\n",
                "\n",
                "#     if isinstance(idx, str):\n",
                "#         idx = int(idx)\n",
                "\n",
                "#     modality_map = {\n",
                "#         range(0, 6): (\"TABLE\", \"NONE\"),  # 0-5\n",
                "#         range(6, 122): (\"TABLE\", \"SINGLE\"),  # 6-121\n",
                "#         range(122, 183): (\"TABLE\", \"GROUP\"),  # 122-182\n",
                "#         range(1000, 2000): (\"IMAGE\", \"SINGLE-1\"),\n",
                "#         range(2000, 3000): (\"IMAGE\", \"SINGLE-2\"),\n",
                "#         range(3000, 4000): (\"IMAGE\", \"SINGLE-N\"),\n",
                "#         range(4000, 5000): (\"IMAGE\", \"GROUP-N\"),\n",
                "#         range(5000, 6000): (\"MULTIMODAL\", \"SINGLE\"),\n",
                "#         range(6000, 7000): (\"MULTIMODAL\", \"GROUP\"),\n",
                "#     }\n",
                "\n",
                "#     for index_range, (modality, patient_scope) in modality_map.items():\n",
                "#         if idx in index_range:\n",
                "#             if not detailed:\n",
                "#                 modality = modality.split(\"-\")[0]\n",
                "#             return f\"{modality}-{patient_scope}\"\n",
                "#     return \"Invalid index\"\n",
                "\n",
                "\n",
                "vqa_labels=[]\n",
                "for dataset in [train,valid,test]:\n",
                "    for data in dataset:\n",
                "        answer=data['answer']\n",
                "        vqa_labels.extend(answer)\n",
                "\n"
            ]
        },
        {
            "cell_type": "code",
            "execution_count": 16,
            "metadata": {},
            "outputs": [],
            "source": [
                "vqa_labels= list(set(vqa_labels))\n",
                "\n",
                "    \n",
                "with open('vqa_labels.json', 'w', encoding='utf-8') as f:\n",
                "    json.dump(vqa_labels, f, ensure_ascii=False, indent=4)"
            ]
        }
    ],
    "metadata": {
        "kernelspec": {
            "display_name": "Python 3",
            "language": "python",
            "name": "python3"
        },
        "language_info": {
            "codemirror_mode": {
                "name": "ipython",
                "version": 3
            },
            "file_extension": ".py",
            "mimetype": "text/x-python",
            "name": "python",
            "nbconvert_exporter": "python",
            "pygments_lexer": "ipython3",
            "version": "3.10.4"
        }
    },
    "nbformat": 4,
    "nbformat_minor": 2
}
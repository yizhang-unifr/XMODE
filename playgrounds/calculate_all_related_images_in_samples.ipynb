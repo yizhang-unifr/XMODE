{
 "cells": [
  {
   "cell_type": "code",
   "execution_count": 19,
   "metadata": {},
   "outputs": [],
   "source": [
    "import json\n",
    "from sqlalchemy import create_engine\n",
    "from sqlalchemy.orm import sessionmaker\n",
    "from sqlalchemy.ext.declarative import declarative_base\n",
    "from sqlalchemy.sql import text\n",
    "dataset_file = '/home/ubuntu/workspace/XMODE-LLMCompiler/dataset/mimic_iv_cxr/sampled_test_with_scope_preprocessed_balenced_answer_100.json'\n",
    "\n",
    "def get_image_id_by_study_id(study_id, session):\n",
    "    query = f\"SELECT image_id FROM tb_cxr WHERE study_id = {study_id}\"\n",
    "    result = session.execute(text(query))\n",
    "    image_id = [row[0] for row in result]\n",
    "    return image_id\n",
    "\n",
    "def get_subject_id_by_study_id(study_id, session):\n",
    "    query = f\"SELECT subject_id FROM tb_cxr WHERE study_id = {study_id}\"\n",
    "    result = session.execute(text(query))\n",
    "    subject_id = [row[0] for row in result]\n",
    "    return subject_id\n",
    "\n",
    "def get_image_ids_by_patient_ids(patient_id, session):\n",
    "    query = f\"SELECT image_id FROM tb_cxr WHERE subject_id = {patient_id}\"\n",
    "    result = session.execute(text(query))\n",
    "    image_ids = []\n",
    "    for row in result:\n",
    "        image_ids.append(row[0])\n",
    "    return image_ids\n",
    "\n",
    "with open(dataset_file, 'r') as f:\n",
    "    dataset = json.load(f)"
   ]
  },
  {
   "cell_type": "code",
   "execution_count": 20,
   "metadata": {},
   "outputs": [
    {
     "name": "stdout",
     "output_type": "stream",
     "text": [
      "all images 432\n",
      "all patients 78\n"
     ]
    },
    {
     "name": "stderr",
     "output_type": "stream",
     "text": [
      "/tmp/ipykernel_3861/3954809438.py:1: MovedIn20Warning: The ``declarative_base()`` function is now available as sqlalchemy.orm.declarative_base(). (deprecated since: 2.0) (Background on SQLAlchemy 2.0 at: https://sqlalche.me/e/b8d9)\n",
      "  Base = declarative_base()\n"
     ]
    }
   ],
   "source": [
    "\n",
    "Base = declarative_base()\n",
    "engine = create_engine('sqlite:////home/ubuntu/workspace/XMODE-LLMCompiler/mimic_iv_cxr.db')\n",
    "Session = sessionmaker(bind=engine)\n",
    "session = Session()\n",
    "\n",
    "all_images = []\n",
    "all_patients = []\n",
    "for d in dataset:\n",
    "    for k, v in d[\"value\"].items():\n",
    "        image_ids = []\n",
    "        if k == \"study_id\":\n",
    "            image_ids = get_image_id_by_study_id(v, session)\n",
    "            patient_id = get_subject_id_by_study_id(v, session)\n",
    "            all_patients.extend(patient_id)\n",
    "        elif k == \"patient_id\":\n",
    "            image_ids = get_image_ids_by_patient_ids(v, session)\n",
    "            all_patients.extend([v])\n",
    "        all_images.extend(image_ids)\n",
    "\n",
    "all_images = list(set(all_images))\n",
    "print(\"all images\", len(all_images))\n",
    "all_patients = list(set(all_patients))\n",
    "print(\"all patients\", len(all_patients))"
   ]
  }
 ],
 "metadata": {
  "kernelspec": {
   "display_name": "m3lx",
   "language": "python",
   "name": "python3"
  },
  "language_info": {
   "codemirror_mode": {
    "name": "ipython",
    "version": 3
   },
   "file_extension": ".py",
   "mimetype": "text/x-python",
   "name": "python",
   "nbconvert_exporter": "python",
   "pygments_lexer": "ipython3",
   "version": "3.10.8"
  }
 },
 "nbformat": 4,
 "nbformat_minor": 2
}
